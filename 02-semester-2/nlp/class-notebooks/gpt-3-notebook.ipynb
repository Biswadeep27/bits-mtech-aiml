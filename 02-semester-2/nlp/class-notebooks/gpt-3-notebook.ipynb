{
 "cells": [
  {
   "cell_type": "code",
   "execution_count": 1,
   "metadata": {
    "colab": {
     "base_uri": "https://localhost:8080/",
     "height": 297
    },
    "colab_type": "code",
    "executionInfo": {
     "elapsed": 8803,
     "status": "ok",
     "timestamp": 1595471247881,
     "user": {
      "displayName": "Bhavesh Bhatt",
      "photoUrl": "https://lh3.googleusercontent.com/a-/AOh14Ggn1iyaPhugkkpQYFRw42nt9ToNB-Rit7YeWtI4Zw=s64",
      "userId": "01561702845917398436"
     },
     "user_tz": -330
    },
    "id": "heIf5_ducY8T",
    "outputId": "c668882d-1977-4c74-bdd5-584d27bd82f3"
   },
   "outputs": [
    {
     "name": "stdout",
     "output_type": "stream",
     "text": [
      "Collecting openai\n",
      "\u001b[?25l  Downloading https://files.pythonhosted.org/packages/a8/65/c7461f4c87984534683f480ea5742777bc39bbf5721123194c2d0347dc1f/openai-0.2.4.tar.gz (157kB)\n",
      "\r",
      "\u001b[K     |██                              | 10kB 13.1MB/s eta 0:00:01\r",
      "\u001b[K     |████▏                           | 20kB 1.6MB/s eta 0:00:01\r",
      "\u001b[K     |██████▎                         | 30kB 1.8MB/s eta 0:00:01\r",
      "\u001b[K     |████████▍                       | 40kB 2.1MB/s eta 0:00:01\r",
      "\u001b[K     |██████████▍                     | 51kB 2.0MB/s eta 0:00:01\r",
      "\u001b[K     |████████████▌                   | 61kB 2.1MB/s eta 0:00:01\r",
      "\u001b[K     |██████████████▋                 | 71kB 2.3MB/s eta 0:00:01\r",
      "\u001b[K     |████████████████▊               | 81kB 2.4MB/s eta 0:00:01\r",
      "\u001b[K     |██████████████████▊             | 92kB 2.6MB/s eta 0:00:01\r",
      "\u001b[K     |████████████████████▉           | 102kB 2.8MB/s eta 0:00:01\r",
      "\u001b[K     |███████████████████████         | 112kB 2.8MB/s eta 0:00:01\r",
      "\u001b[K     |█████████████████████████       | 122kB 2.8MB/s eta 0:00:01\r",
      "\u001b[K     |███████████████████████████     | 133kB 2.8MB/s eta 0:00:01\r",
      "\u001b[K     |█████████████████████████████▏  | 143kB 2.8MB/s eta 0:00:01\r",
      "\u001b[K     |███████████████████████████████▎| 153kB 2.8MB/s eta 0:00:01\r",
      "\u001b[K     |████████████████████████████████| 163kB 2.8MB/s \n",
      "\u001b[?25hRequirement already satisfied: requests>=2.20 in /usr/local/lib/python3.6/dist-packages (from openai) (2.23.0)\n",
      "Requirement already satisfied: certifi>=2017.4.17 in /usr/local/lib/python3.6/dist-packages (from requests>=2.20->openai) (2020.6.20)\n",
      "Requirement already satisfied: chardet<4,>=3.0.2 in /usr/local/lib/python3.6/dist-packages (from requests>=2.20->openai) (3.0.4)\n",
      "Requirement already satisfied: idna<3,>=2.5 in /usr/local/lib/python3.6/dist-packages (from requests>=2.20->openai) (2.10)\n",
      "Requirement already satisfied: urllib3!=1.25.0,!=1.25.1,<1.26,>=1.21.1 in /usr/local/lib/python3.6/dist-packages (from requests>=2.20->openai) (1.24.3)\n",
      "Building wheels for collected packages: openai\n",
      "  Building wheel for openai (setup.py) ... \u001b[?25l\u001b[?25hdone\n",
      "  Created wheel for openai: filename=openai-0.2.4-cp36-none-any.whl size=170709 sha256=7ae56fa654e2071a250acdeed89d5fb874faa15c8755bb252607201d0e434798\n",
      "  Stored in directory: /root/.cache/pip/wheels/74/96/c8/c6e170929c276b836613e1b9985343b501fe455e53d85e7d48\n",
      "Successfully built openai\n",
      "Installing collected packages: openai\n",
      "Successfully installed openai-0.2.4\n"
     ]
    }
   ],
   "source": [
    "!pip install openai"
   ]
  },
  {
   "cell_type": "code",
   "execution_count": 1,
   "metadata": {
    "colab": {},
    "colab_type": "code",
    "executionInfo": {
     "elapsed": 951,
     "status": "ok",
     "timestamp": 1595471299970,
     "user": {
      "displayName": "Bhavesh Bhatt",
      "photoUrl": "https://lh3.googleusercontent.com/a-/AOh14Ggn1iyaPhugkkpQYFRw42nt9ToNB-Rit7YeWtI4Zw=s64",
      "userId": "01561702845917398436"
     },
     "user_tz": -330
    },
    "id": "JIObOT-ybumY"
   },
   "outputs": [],
   "source": [
    "import json\n",
    "import openai"
   ]
  },
  {
   "cell_type": "code",
   "execution_count": null,
   "metadata": {
    "colab": {},
    "colab_type": "code",
    "executionInfo": {
     "elapsed": 1104,
     "status": "ok",
     "timestamp": 1595471313449,
     "user": {
      "displayName": "Bhavesh Bhatt",
      "photoUrl": "https://lh3.googleusercontent.com/a-/AOh14Ggn1iyaPhugkkpQYFRw42nt9ToNB-Rit7YeWtI4Zw=s64",
      "userId": "01561702845917398436"
     },
     "user_tz": -330
    },
    "id": "m42z9jQxqA2b"
   },
   "outputs": [],
   "source": [
    "## with open('GPT_SECRET_KEY.json') as f:\n",
    "   ## data = json.load(f)"
   ]
  },
  {
   "cell_type": "code",
   "execution_count": null,
   "metadata": {},
   "outputs": [],
   "source": [
    "#openai.api_key=\"key\""
   ]
  },
  {
   "cell_type": "code",
   "execution_count": 4,
   "metadata": {
    "colab": {},
    "colab_type": "code",
    "executionInfo": {
     "elapsed": 1044,
     "status": "ok",
     "timestamp": 1595471367430,
     "user": {
      "displayName": "Bhavesh Bhatt",
      "photoUrl": "https://lh3.googleusercontent.com/a-/AOh14Ggn1iyaPhugkkpQYFRw42nt9ToNB-Rit7YeWtI4Zw=s64",
      "userId": "01561702845917398436"
     },
     "user_tz": -330
    },
    "id": "N3sAHxJrhBzK"
   },
   "outputs": [],
   "source": [
    "from gpt import GPT\n",
    "from gpt import Example"
   ]
  },
  {
   "cell_type": "code",
   "execution_count": 5,
   "metadata": {
    "colab": {},
    "colab_type": "code",
    "executionInfo": {
     "elapsed": 1248,
     "status": "ok",
     "timestamp": 1595471538287,
     "user": {
      "displayName": "Bhavesh Bhatt",
      "photoUrl": "https://lh3.googleusercontent.com/a-/AOh14Ggn1iyaPhugkkpQYFRw42nt9ToNB-Rit7YeWtI4Zw=s64",
      "userId": "01561702845917398436"
     },
     "user_tz": -330
    },
    "id": "XiV0D9PihB2N"
   },
   "outputs": [],
   "source": [
    "gpt = GPT(engine=\"davinci\",\n",
    "          temperature=0.5,\n",
    "          max_tokens=100)"
   ]
  },
  {
   "cell_type": "markdown",
   "metadata": {
    "colab_type": "text",
    "id": "WwVcHYMOvGiU"
   },
   "source": [
    "# Adding Examples for GPT Model"
   ]
  },
  {
   "cell_type": "code",
   "execution_count": 6,
   "metadata": {
    "colab": {},
    "colab_type": "code",
    "executionInfo": {
     "elapsed": 1343,
     "status": "ok",
     "timestamp": 1595471715638,
     "user": {
      "displayName": "Bhavesh Bhatt",
      "photoUrl": "https://lh3.googleusercontent.com/a-/AOh14Ggn1iyaPhugkkpQYFRw42nt9ToNB-Rit7YeWtI4Zw=s64",
      "userId": "01561702845917398436"
     },
     "user_tz": -330
    },
    "id": "0iLR1Y6YqTh7"
   },
   "outputs": [],
   "source": [
    "gpt.add_example(Example('Fetch unique values of DEPARTMENT from Worker table.', \n",
    "                        'Select distinct DEPARTMENT from Worker;'))"
   ]
  },
  {
   "cell_type": "code",
   "execution_count": 7,
   "metadata": {
    "colab": {},
    "colab_type": "code",
    "executionInfo": {
     "elapsed": 1433,
     "status": "ok",
     "timestamp": 1595471721203,
     "user": {
      "displayName": "Bhavesh Bhatt",
      "photoUrl": "https://lh3.googleusercontent.com/a-/AOh14Ggn1iyaPhugkkpQYFRw42nt9ToNB-Rit7YeWtI4Zw=s64",
      "userId": "01561702845917398436"
     },
     "user_tz": -330
    },
    "id": "x28YlU1-qrCW"
   },
   "outputs": [],
   "source": [
    "gpt.add_example(Example('Print the first three characters of FIRST_NAME from Worker table.', \n",
    "                        'Select substring(FIRST_NAME,1,3) from Worker;'))"
   ]
  },
  {
   "cell_type": "code",
   "execution_count": 8,
   "metadata": {
    "colab": {},
    "colab_type": "code",
    "executionInfo": {
     "elapsed": 883,
     "status": "ok",
     "timestamp": 1595471721205,
     "user": {
      "displayName": "Bhavesh Bhatt",
      "photoUrl": "https://lh3.googleusercontent.com/a-/AOh14Ggn1iyaPhugkkpQYFRw42nt9ToNB-Rit7YeWtI4Zw=s64",
      "userId": "01561702845917398436"
     },
     "user_tz": -330
    },
    "id": "1C10LyYPqrFX"
   },
   "outputs": [],
   "source": [
    "gpt.add_example(Example(\"Find the position of the alphabet ('a') in the first name column 'Amitabh' from Worker table.\", \n",
    "                        \"Select INSTR(FIRST_NAME, BINARY'a') from Worker where FIRST_NAME = 'Amitabh';\"))"
   ]
  },
  {
   "cell_type": "code",
   "execution_count": 9,
   "metadata": {
    "colab": {},
    "colab_type": "code",
    "executionInfo": {
     "elapsed": 964,
     "status": "ok",
     "timestamp": 1595471723625,
     "user": {
      "displayName": "Bhavesh Bhatt",
      "photoUrl": "https://lh3.googleusercontent.com/a-/AOh14Ggn1iyaPhugkkpQYFRw42nt9ToNB-Rit7YeWtI4Zw=s64",
      "userId": "01561702845917398436"
     },
     "user_tz": -330
    },
    "id": "0JvjODWbsBWP"
   },
   "outputs": [],
   "source": [
    "gpt.add_example(Example(\"Print the FIRST_NAME from Worker table after replacing 'a' with 'A'.\", \n",
    "                        \"Select CONCAT(FIRST_NAME, ' ', LAST_NAME) AS 'COMPLETE_NAME' from Worker;\"))"
   ]
  },
  {
   "cell_type": "code",
   "execution_count": 10,
   "metadata": {
    "colab": {},
    "colab_type": "code",
    "executionInfo": {
     "elapsed": 958,
     "status": "ok",
     "timestamp": 1595471760833,
     "user": {
      "displayName": "Bhavesh Bhatt",
      "photoUrl": "https://lh3.googleusercontent.com/a-/AOh14Ggn1iyaPhugkkpQYFRw42nt9ToNB-Rit7YeWtI4Zw=s64",
      "userId": "01561702845917398436"
     },
     "user_tz": -330
    },
    "id": "uNsH4OeqsKjM"
   },
   "outputs": [],
   "source": [
    "gpt.add_example(Example(\"Display the second highest salary from the Worker table.\", \n",
    "                        \"Select max(Salary) from Worker where Salary not in (Select max(Salary) from Worker);\"))"
   ]
  },
  {
   "cell_type": "code",
   "execution_count": 11,
   "metadata": {
    "colab": {},
    "colab_type": "code",
    "executionInfo": {
     "elapsed": 1075,
     "status": "ok",
     "timestamp": 1595471795232,
     "user": {
      "displayName": "Bhavesh Bhatt",
      "photoUrl": "https://lh3.googleusercontent.com/a-/AOh14Ggn1iyaPhugkkpQYFRw42nt9ToNB-Rit7YeWtI4Zw=s64",
      "userId": "01561702845917398436"
     },
     "user_tz": -330
    },
    "id": "zhXh5g-jsKnl"
   },
   "outputs": [],
   "source": [
    "gpt.add_example(Example(\"Display the highest salary from the Worker table.\", \n",
    "                        \"Select max(Salary) from Worker;\"))"
   ]
  },
  {
   "cell_type": "code",
   "execution_count": 12,
   "metadata": {
    "colab": {},
    "colab_type": "code",
    "executionInfo": {
     "elapsed": 882,
     "status": "ok",
     "timestamp": 1595471796602,
     "user": {
      "displayName": "Bhavesh Bhatt",
      "photoUrl": "https://lh3.googleusercontent.com/a-/AOh14Ggn1iyaPhugkkpQYFRw42nt9ToNB-Rit7YeWtI4Zw=s64",
      "userId": "01561702845917398436"
     },
     "user_tz": -330
    },
    "id": "wWjmZe-Ntexm"
   },
   "outputs": [],
   "source": [
    "gpt.add_example(Example(\"Fetch the count of employees working in the department Admin.\", \n",
    "                        \"SELECT COUNT(*) FROM worker WHERE DEPARTMENT = 'Admin';\"))"
   ]
  },
  {
   "cell_type": "code",
   "execution_count": 13,
   "metadata": {
    "colab": {},
    "colab_type": "code",
    "executionInfo": {
     "elapsed": 1149,
     "status": "ok",
     "timestamp": 1595471799951,
     "user": {
      "displayName": "Bhavesh Bhatt",
      "photoUrl": "https://lh3.googleusercontent.com/a-/AOh14Ggn1iyaPhugkkpQYFRw42nt9ToNB-Rit7YeWtI4Zw=s64",
      "userId": "01561702845917398436"
     },
     "user_tz": -330
    },
    "id": "Q9xuF--Kt_xh"
   },
   "outputs": [],
   "source": [
    "gpt.add_example(Example(\"Get all details of the Workers whose SALARY lies between 100000 and 500000.\", \n",
    "                        \"Select * from Worker where SALARY between 100000 and 500000;\"))"
   ]
  },
  {
   "cell_type": "code",
   "execution_count": 14,
   "metadata": {
    "colab": {},
    "colab_type": "code",
    "executionInfo": {
     "elapsed": 786,
     "status": "ok",
     "timestamp": 1595471800475,
     "user": {
      "displayName": "Bhavesh Bhatt",
      "photoUrl": "https://lh3.googleusercontent.com/a-/AOh14Ggn1iyaPhugkkpQYFRw42nt9ToNB-Rit7YeWtI4Zw=s64",
      "userId": "01561702845917398436"
     },
     "user_tz": -330
    },
    "id": "z5jRwDCcuauE"
   },
   "outputs": [],
   "source": [
    "gpt.add_example(Example(\"Get Salary details of the Workers\", \n",
    "                        \"Select Salary from Worker\"))"
   ]
  },
  {
   "cell_type": "markdown",
   "metadata": {
    "colab_type": "text",
    "id": "3mI7FmwSu9AA"
   },
   "source": [
    "# Example 1"
   ]
  },
  {
   "cell_type": "code",
   "execution_count": 15,
   "metadata": {
    "colab": {},
    "colab_type": "code",
    "executionInfo": {
     "elapsed": 1211,
     "status": "ok",
     "timestamp": 1595471857682,
     "user": {
      "displayName": "Bhavesh Bhatt",
      "photoUrl": "https://lh3.googleusercontent.com/a-/AOh14Ggn1iyaPhugkkpQYFRw42nt9ToNB-Rit7YeWtI4Zw=s64",
      "userId": "01561702845917398436"
     },
     "user_tz": -330
    },
    "id": "sWSmXABfrdTm"
   },
   "outputs": [],
   "source": [
    "prompt = \"Display the lowest salary from the Worker table.\""
   ]
  },
  {
   "cell_type": "code",
   "execution_count": 16,
   "metadata": {
    "colab": {},
    "colab_type": "code",
    "executionInfo": {
     "elapsed": 2494,
     "status": "ok",
     "timestamp": 1595471890838,
     "user": {
      "displayName": "Bhavesh Bhatt",
      "photoUrl": "https://lh3.googleusercontent.com/a-/AOh14Ggn1iyaPhugkkpQYFRw42nt9ToNB-Rit7YeWtI4Zw=s64",
      "userId": "01561702845917398436"
     },
     "user_tz": -330
    },
    "id": "pVzvJtmRqTku"
   },
   "outputs": [],
   "source": [
    "output = gpt.submit_request(prompt)"
   ]
  },
  {
   "cell_type": "code",
   "execution_count": 17,
   "metadata": {
    "colab": {
     "base_uri": "https://localhost:8080/",
     "height": 35
    },
    "colab_type": "code",
    "executionInfo": {
     "elapsed": 1366,
     "status": "ok",
     "timestamp": 1595471926542,
     "user": {
      "displayName": "Bhavesh Bhatt",
      "photoUrl": "https://lh3.googleusercontent.com/a-/AOh14Ggn1iyaPhugkkpQYFRw42nt9ToNB-Rit7YeWtI4Zw=s64",
      "userId": "01561702845917398436"
     },
     "user_tz": -330
    },
    "id": "niqyIPAyoLQb",
    "outputId": "853cd2a0-ec4e-4454-90b8-cb8be70b0d4f"
   },
   "outputs": [
    {
     "data": {
      "text/plain": [
       "'output: Select min(Salary) from Worker;\\n'"
      ]
     },
     "execution_count": 17,
     "metadata": {},
     "output_type": "execute_result"
    }
   ],
   "source": [
    "output.choices[0].text"
   ]
  },
  {
   "cell_type": "markdown",
   "metadata": {
    "colab_type": "text",
    "id": "LA3DyhGJu_8o"
   },
   "source": [
    "# Example 2"
   ]
  },
  {
   "cell_type": "code",
   "execution_count": 18,
   "metadata": {
    "colab": {},
    "colab_type": "code",
    "executionInfo": {
     "elapsed": 1325,
     "status": "ok",
     "timestamp": 1595471994566,
     "user": {
      "displayName": "Bhavesh Bhatt",
      "photoUrl": "https://lh3.googleusercontent.com/a-/AOh14Ggn1iyaPhugkkpQYFRw42nt9ToNB-Rit7YeWtI4Zw=s64",
      "userId": "01561702845917398436"
     },
     "user_tz": -330
    },
    "id": "_OdI6bFLtpel"
   },
   "outputs": [],
   "source": [
    "prompt = \"Tell me the count of employees working in the department HR.\""
   ]
  },
  {
   "cell_type": "code",
   "execution_count": 19,
   "metadata": {
    "colab": {},
    "colab_type": "code",
    "executionInfo": {
     "elapsed": 2828,
     "status": "ok",
     "timestamp": 1595472001159,
     "user": {
      "displayName": "Bhavesh Bhatt",
      "photoUrl": "https://lh3.googleusercontent.com/a-/AOh14Ggn1iyaPhugkkpQYFRw42nt9ToNB-Rit7YeWtI4Zw=s64",
      "userId": "01561702845917398436"
     },
     "user_tz": -330
    },
    "id": "XnjQ0kfbtpkE"
   },
   "outputs": [],
   "source": [
    "output = gpt.submit_request(prompt)"
   ]
  },
  {
   "cell_type": "code",
   "execution_count": 20,
   "metadata": {
    "colab": {
     "base_uri": "https://localhost:8080/",
     "height": 35
    },
    "colab_type": "code",
    "executionInfo": {
     "elapsed": 1008,
     "status": "ok",
     "timestamp": 1595472005315,
     "user": {
      "displayName": "Bhavesh Bhatt",
      "photoUrl": "https://lh3.googleusercontent.com/a-/AOh14Ggn1iyaPhugkkpQYFRw42nt9ToNB-Rit7YeWtI4Zw=s64",
      "userId": "01561702845917398436"
     },
     "user_tz": -330
    },
    "id": "Z9Yo-bZotph4",
    "outputId": "0e1572e6-bceb-42c8-d67f-4f29a156745c"
   },
   "outputs": [
    {
     "data": {
      "text/plain": [
       "\"output: Select count(*) from Worker where DEPARTMENT = 'HR';\\n\""
      ]
     },
     "execution_count": 20,
     "metadata": {},
     "output_type": "execute_result"
    }
   ],
   "source": [
    "output.choices[0].text"
   ]
  },
  {
   "cell_type": "markdown",
   "metadata": {
    "colab_type": "text",
    "id": "dnB7TCA_vCkF"
   },
   "source": [
    "# Example 3"
   ]
  },
  {
   "cell_type": "code",
   "execution_count": 21,
   "metadata": {
    "colab": {},
    "colab_type": "code",
    "executionInfo": {
     "elapsed": 946,
     "status": "ok",
     "timestamp": 1595472072925,
     "user": {
      "displayName": "Bhavesh Bhatt",
      "photoUrl": "https://lh3.googleusercontent.com/a-/AOh14Ggn1iyaPhugkkpQYFRw42nt9ToNB-Rit7YeWtI4Zw=s64",
      "userId": "01561702845917398436"
     },
     "user_tz": -330
    },
    "id": "GkaHZLIzt3pQ"
   },
   "outputs": [],
   "source": [
    "prompt = \"Get salary details of the Workers whose AGE lies between 25 and 35\""
   ]
  },
  {
   "cell_type": "code",
   "execution_count": 22,
   "metadata": {
    "colab": {
     "base_uri": "https://localhost:8080/",
     "height": 51
    },
    "colab_type": "code",
    "executionInfo": {
     "elapsed": 3152,
     "status": "ok",
     "timestamp": 1595472104996,
     "user": {
      "displayName": "Bhavesh Bhatt",
      "photoUrl": "https://lh3.googleusercontent.com/a-/AOh14Ggn1iyaPhugkkpQYFRw42nt9ToNB-Rit7YeWtI4Zw=s64",
      "userId": "01561702845917398436"
     },
     "user_tz": -330
    },
    "id": "G6GmvbukmLCK",
    "outputId": "21c8f471-b272-47ed-dd18-36c94fbf6936"
   },
   "outputs": [
    {
     "name": "stdout",
     "output_type": "stream",
     "text": [
      "output: SELECT salary from worker where age between 25 and 35;\n",
      "\n"
     ]
    }
   ],
   "source": [
    "print(gpt.get_top_reply(prompt))"
   ]
  },
  {
   "cell_type": "code",
   "execution_count": null,
   "metadata": {
    "colab": {},
    "colab_type": "code",
    "id": "0ZaLCw6zgqxh"
   },
   "outputs": [],
   "source": []
  }
 ],
 "metadata": {
  "colab": {
   "authorship_tag": "ABX9TyNfqR7vWsi34k6mv0Yi02Yy",
   "collapsed_sections": [],
   "name": "GPT-3-Demo.ipynb",
   "provenance": []
  },
  "kernelspec": {
   "display_name": "Python 3 (ipykernel)",
   "language": "python",
   "name": "python3"
  },
  "language_info": {
   "codemirror_mode": {
    "name": "ipython",
    "version": 3
   },
   "file_extension": ".py",
   "mimetype": "text/x-python",
   "name": "python",
   "nbconvert_exporter": "python",
   "pygments_lexer": "ipython3",
   "version": "3.11.4"
  }
 },
 "nbformat": 4,
 "nbformat_minor": 1
}
