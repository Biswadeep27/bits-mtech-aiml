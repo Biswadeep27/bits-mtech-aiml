{
 "cells": [
  {
   "cell_type": "code",
   "execution_count": 1,
   "metadata": {},
   "outputs": [],
   "source": [
    "import numpy as np\n",
    "from scipy.stats import chi2"
   ]
  },
  {
   "cell_type": "code",
   "execution_count": 2,
   "metadata": {},
   "outputs": [],
   "source": [
    "observed_data = np.array([14, 15, 12, 12, 6, 6, 7])"
   ]
  },
  {
   "cell_type": "code",
   "execution_count": 3,
   "metadata": {},
   "outputs": [
    {
     "data": {
      "text/plain": [
       "10.285714285714286"
      ]
     },
     "execution_count": 3,
     "metadata": {},
     "output_type": "execute_result"
    }
   ],
   "source": [
    "lambda_parameter = np.mean(observed_data)\n",
    "lambda_parameter"
   ]
  },
  {
   "cell_type": "code",
   "execution_count": 4,
   "metadata": {},
   "outputs": [],
   "source": [
    "expected_probabilities = np.array([\n",
    "    lambda_parameter**0 / np.math.factorial(0),\n",
    "    lambda_parameter**1 / np.math.factorial(1),\n",
    "    lambda_parameter**2 / np.math.factorial(2),\n",
    "    lambda_parameter**3 / np.math.factorial(3),\n",
    "    lambda_parameter**4 / np.math.factorial(4),\n",
    "    lambda_parameter**5 / np.math.factorial(5),\n",
    "    1 - sum([lambda_parameter**i / np.math.factorial(i) for i in range(6)])\n",
    "])"
   ]
  },
  {
   "cell_type": "code",
   "execution_count": 5,
   "metadata": {},
   "outputs": [
    {
     "data": {
      "text/plain": [
       "array([ 1.00000000e+00,  1.02857143e+01,  5.28979592e+01,  1.81364431e+02,\n",
       "        4.66365681e+02,  9.59380829e+02, -1.67029462e+03])"
      ]
     },
     "execution_count": 5,
     "metadata": {},
     "output_type": "execute_result"
    }
   ],
   "source": [
    "expected_probabilities"
   ]
  },
  {
   "cell_type": "code",
   "execution_count": 6,
   "metadata": {},
   "outputs": [],
   "source": [
    "df = len(observed_data) - 1"
   ]
  },
  {
   "cell_type": "code",
   "execution_count": 7,
   "metadata": {},
   "outputs": [],
   "source": [
    "alpha = 0.05"
   ]
  },
  {
   "cell_type": "code",
   "execution_count": 8,
   "metadata": {},
   "outputs": [
    {
     "data": {
      "text/plain": [
       "12.591587243743977"
      ]
     },
     "execution_count": 8,
     "metadata": {},
     "output_type": "execute_result"
    }
   ],
   "source": [
    "critical_value = chi2.ppf(1 - alpha, df)\n",
    "critical_value"
   ]
  },
  {
   "cell_type": "code",
   "execution_count": 9,
   "metadata": {},
   "outputs": [
    {
     "name": "stdout",
     "output_type": "stream",
     "text": [
      "Reject the null hypothesis. There is a significant difference in mileage among vehicle types.\n",
      "SST: 301.75\n",
      "SSB: 228.14999999999998\n",
      "MST: 76.05\n",
      "MSE: 18.859375\n",
      "F-statistic: 4.0324772162386076\n",
      "Critical F-value: 3.238871517453585\n"
     ]
    }
   ],
   "source": [
    "import numpy as np\n",
    "from scipy import stats\n",
    "\n",
    "# Mileage data for each type of vehicle\n",
    "subcompact = np.array([3, 5, 3, 7, 6])\n",
    "compact = np.array([8, 9, 15, 12, 11])\n",
    "midsize = np.array([4, 6, 3, 5, 7])\n",
    "fullsize = np.array([15, 10, 12, 14, 10])\n",
    "\n",
    "# Calculate overall mean mileage\n",
    "overall_mean = np.mean(np.concatenate((subcompact, compact, midsize, fullsize)))\n",
    "\n",
    "# Calculate SST (Total Sum of Squares)\n",
    "SST = np.sum((np.concatenate((subcompact, compact, midsize, fullsize)) - overall_mean)**2)\n",
    "\n",
    "# Calculate SSB (Sum of Squares of Treatment)\n",
    "SSB = np.sum([len(subcompact)*(np.mean(subcompact) - overall_mean)**2,\n",
    "              len(compact)*(np.mean(compact) - overall_mean)**2,\n",
    "              len(midsize)*(np.mean(midsize) - overall_mean)**2,\n",
    "              len(fullsize)*(np.mean(fullsize) - overall_mean)**2])\n",
    "\n",
    "# Calculate df_t and df_e\n",
    "k = 4  # Number of groups (vehicle types)\n",
    "N = len(subcompact) + len(compact) + len(midsize) + len(fullsize)  # Total number of observations\n",
    "df_t = k - 1\n",
    "df_e = N - k\n",
    "\n",
    "# Calculate MST (Mean Square Treatment) and MSE (Mean Square Error)\n",
    "MST = SSB / df_t\n",
    "MSE = SST / df_e\n",
    "\n",
    "# Calculate F-statistic\n",
    "F = MST / MSE\n",
    "\n",
    "# Define the significance level\n",
    "alpha = 0.05\n",
    "\n",
    "# Calculate the critical F-value\n",
    "critical_F = stats.f.ppf(1 - alpha, df_t, df_e)\n",
    "\n",
    "# Perform the hypothesis test\n",
    "if F > critical_F:\n",
    "    print(\"Reject the null hypothesis. There is a significant difference in mileage among vehicle types.\")\n",
    "else:\n",
    "    print(\"Fail to reject the null hypothesis. There is no significant difference in mileage among vehicle types.\")\n",
    "\n",
    "# Print the calculated values\n",
    "print(\"SST:\", SST)\n",
    "print(\"SSB:\", SSB)\n",
    "print(\"MST:\", MST)\n",
    "print(\"MSE:\", MSE)\n",
    "print(\"F-statistic:\", F)\n",
    "print(\"Critical F-value:\", critical_F)\n"
   ]
  },
  {
   "cell_type": "code",
   "execution_count": 10,
   "metadata": {},
   "outputs": [
    {
     "name": "stdout",
     "output_type": "stream",
     "text": [
      "SST: 301.75\n"
     ]
    }
   ],
   "source": [
    "import numpy as np\n",
    "\n",
    "# Mileage data for each type of vehicle\n",
    "subcompact = np.array([3, 5, 3, 7, 6])\n",
    "compact = np.array([8, 9, 15, 12, 11])\n",
    "midsize = np.array([4, 6, 3, 5, 7])\n",
    "fullsize = np.array([15, 10, 12, 14, 10])\n",
    "\n",
    "# Combine all data into one array\n",
    "all_data = np.concatenate((subcompact, compact, midsize, fullsize))\n",
    "\n",
    "# Calculate the overall mean\n",
    "overall_mean = np.mean(all_data)\n",
    "\n",
    "# Calculate the squared differences and sum them up\n",
    "squared_diff = np.sum((all_data - overall_mean)**2)\n",
    "\n",
    "# Calculate SST\n",
    "SST = squared_diff\n",
    "\n",
    "# Print the value of SST\n",
    "print(\"SST:\", SST)\n"
   ]
  },
  {
   "cell_type": "code",
   "execution_count": 11,
   "metadata": {},
   "outputs": [
    {
     "name": "stdout",
     "output_type": "stream",
     "text": [
      "SSW: 73.6\n"
     ]
    }
   ],
   "source": [
    "import numpy as np\n",
    "\n",
    "# Mileage data for each type of vehicle\n",
    "subcompact = np.array([3, 5, 3, 7, 6])\n",
    "compact = np.array([8, 9, 15, 12, 11])\n",
    "midsize = np.array([4, 6, 3, 5, 7])\n",
    "fullsize = np.array([15, 10, 12, 14, 10])\n",
    "\n",
    "# Calculate the group means\n",
    "mean_subcompact = np.mean(subcompact)\n",
    "mean_compact = np.mean(compact)\n",
    "mean_midsize = np.mean(midsize)\n",
    "mean_fullsize = np.mean(fullsize)\n",
    "\n",
    "# Calculate SSW (Sum of Squares Within)\n",
    "ssw_subcompact = np.sum((subcompact - mean_subcompact)**2)\n",
    "ssw_compact = np.sum((compact - mean_compact)**2)\n",
    "ssw_midsize = np.sum((midsize - mean_midsize)**2)\n",
    "ssw_fullsize = np.sum((fullsize - mean_fullsize)**2)\n",
    "\n",
    "# Sum up SSW for all groups\n",
    "SSW = ssw_subcompact + ssw_compact + ssw_midsize + ssw_fullsize\n",
    "\n",
    "# Print the value of SSW\n",
    "print(\"SSW:\", SSW)\n"
   ]
  },
  {
   "cell_type": "code",
   "execution_count": 12,
   "metadata": {},
   "outputs": [
    {
     "data": {
      "text/plain": [
       "(4.8, 11.0, 5.0, 12.2)"
      ]
     },
     "execution_count": 12,
     "metadata": {},
     "output_type": "execute_result"
    }
   ],
   "source": [
    "mean_subcompact, mean_compact, mean_midsize, mean_fullsize"
   ]
  },
  {
   "cell_type": "code",
   "execution_count": 13,
   "metadata": {},
   "outputs": [
    {
     "name": "stdout",
     "output_type": "stream",
     "text": [
      "Fail to reject the null hypothesis. There is not enough evidence to conclude that the mean LPG gas usage is different from 350 kg.\n",
      "t-statistic: 0.7778411328447066\n",
      "Critical t-values (two-tailed): -2.0930240544082634 2.0930240544082634\n"
     ]
    }
   ],
   "source": [
    "import numpy as np\n",
    "from scipy import stats\n",
    "\n",
    "# Given data\n",
    "data = np.array([340, 344, 362, 375, 356, 386, 354, 364, 332, 402, 340, 355, 362, 322, 372, 324, 318, 360, 338, 370])\n",
    "claimed_mean = 350  # Claimed mean in kg\n",
    "alpha = 0.05  # Significance level\n",
    "sample_size = len(data)\n",
    "\n",
    "# Calculate sample mean and sample standard deviation\n",
    "sample_mean = np.mean(data)\n",
    "sample_stddev = np.std(data, ddof=1)  # ddof=1 for sample standard deviation\n",
    "\n",
    "# Calculate the t-statistic\n",
    "t_statistic = (sample_mean - claimed_mean) / (sample_stddev / np.sqrt(sample_size))\n",
    "\n",
    "# Calculate the critical t-values for a two-tailed test\n",
    "critical_t_left = stats.t.ppf(alpha / 2, df=sample_size - 1)\n",
    "critical_t_right = -critical_t_left  # Symmetrical for a two-tailed test\n",
    "\n",
    "# Check the hypothesis\n",
    "if t_statistic < critical_t_left or t_statistic > critical_t_right:\n",
    "    print(\"Reject the null hypothesis. There is enough evidence to conclude that the mean LPG gas usage is different from 350 kg.\")\n",
    "else:\n",
    "    print(\"Fail to reject the null hypothesis. There is not enough evidence to conclude that the mean LPG gas usage is different from 350 kg.\")\n",
    "\n",
    "# Print the calculated t-statistic and critical t-values\n",
    "print(\"t-statistic:\", t_statistic)\n",
    "print(\"Critical t-values (two-tailed):\", critical_t_left, critical_t_right)\n"
   ]
  },
  {
   "cell_type": "code",
   "execution_count": 14,
   "metadata": {},
   "outputs": [
    {
     "data": {
      "text/plain": [
       "353.8"
      ]
     },
     "execution_count": 14,
     "metadata": {},
     "output_type": "execute_result"
    }
   ],
   "source": [
    "sample_mean"
   ]
  },
  {
   "cell_type": "code",
   "execution_count": 15,
   "metadata": {},
   "outputs": [
    {
     "data": {
      "text/plain": [
       "21.847798877449275"
      ]
     },
     "execution_count": 15,
     "metadata": {},
     "output_type": "execute_result"
    }
   ],
   "source": [
    "sample_stddev"
   ]
  },
  {
   "cell_type": "code",
   "execution_count": 16,
   "metadata": {},
   "outputs": [
    {
     "data": {
      "text/plain": [
       "-2.0930240544082634"
      ]
     },
     "execution_count": 16,
     "metadata": {},
     "output_type": "execute_result"
    }
   ],
   "source": [
    "critical_t_left"
   ]
  },
  {
   "cell_type": "code",
   "execution_count": null,
   "metadata": {},
   "outputs": [],
   "source": []
  }
 ],
 "metadata": {
  "kernelspec": {
   "display_name": "venv_bits",
   "language": "python",
   "name": "python3"
  },
  "language_info": {
   "codemirror_mode": {
    "name": "ipython",
    "version": 3
   },
   "file_extension": ".py",
   "mimetype": "text/x-python",
   "name": "python",
   "nbconvert_exporter": "python",
   "pygments_lexer": "ipython3",
   "version": "3.11.4"
  },
  "orig_nbformat": 4
 },
 "nbformat": 4,
 "nbformat_minor": 2
}
