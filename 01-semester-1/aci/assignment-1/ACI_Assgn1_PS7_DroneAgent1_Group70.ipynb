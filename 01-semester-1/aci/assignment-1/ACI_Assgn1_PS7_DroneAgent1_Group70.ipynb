{
  "cells": [
    {
      "attachments": {},
      "cell_type": "markdown",
      "metadata": {
        "id": "MzZ4dJQYF7sH"
      },
      "source": [
        "# Artificial and Computational Intelligence Assignment 1"
      ]
    },
    {
      "attachments": {},
      "cell_type": "markdown",
      "metadata": {},
      "source": [
        "<center>\n",
        "    <img src=\"https://www.bits-pilani.ac.in/Uploads/Campus/BITS_university_logo.gif\" alt=\"Institute Logo\">\n",
        "</center>\n",
        "\n",
        "<center><h1><b>Work Integrated Learning Programmes Division M.Tech(AIML)</b></h1></center>\n",
        "<center><h2><b>Artificial & Computational Intelligence</b></h2></center>\n",
        "<center><h3><b>S2-22_AIMLCZG557</b></h3></center>\n",
        "<center><h4><b>Assignment 1 – PS-7</b></h4></center>"
      ]
    },
    {
      "attachments": {},
      "cell_type": "markdown",
      "metadata": {
        "id": "Fxb1aE9zF7sK"
      },
      "source": [
        "## Problem solving by Uninformed & Informed Search"
      ]
    },
    {
      "attachments": {},
      "cell_type": "markdown",
      "metadata": {
        "id": "h35jIBbCF7sK"
      },
      "source": [
        " ## Group No 70\n",
        "\n",
        "### **Group Members:**\n",
        "\n",
        "|Sl No.|Name|BITS ID|\n",
        "|:---:|:--:|------:|\n",
        "|1|Anshul Mudliar|2022ac| \n",
        "|2|Arunabha Ghoshal|2022ac05115|\n",
        "|3|Biswadeep Upadhyay|2022ac05114|\n",
        "\n",
        "### Problem Statement ###\n",
        "Radar detection and finding the optimal heuristic path to reach the destination during Drone Warfare\n",
        "\n"
      ]
    },
    {
      "attachments": {},
      "cell_type": "markdown",
      "metadata": {
        "id": "pt5ygv_zF7sL"
      },
      "source": [
        "Things to follow\n",
        "1.\tUse appropriate data structures to represent the graph and the path using python libraries\n",
        "2.\tProvide proper documentation\n",
        "3.\tFind the path and print it"
      ]
    },
    {
      "attachments": {},
      "cell_type": "markdown",
      "metadata": {
        "id": "wZfop5ElF7sL"
      },
      "source": [
        "Coding begins here"
      ]
    },
    {
      "attachments": {},
      "cell_type": "markdown",
      "metadata": {
        "id": "IL0QDMy3F7sL"
      },
      "source": [
        "### 1.\tDefine the environment in the following block"
      ]
    },
    {
      "attachments": {},
      "cell_type": "markdown",
      "metadata": {
        "id": "RYwJPNLIF7sM"
      },
      "source": [
        "List the PEAS decription of the problem here in this markdown block"
      ]
    },
    {
      "attachments": {},
      "cell_type": "markdown",
      "metadata": {
        "id": "XJ3cHp1IF7sM"
      },
      "source": [
        "Design the agent as PSA Agent(Problem Solving Agent)\n",
        "Clear Initial data structures to define the graph and variable declarations is expected\n",
        "\n",
        "IMPORTATANT: Write distinct code block as below"
      ]
    },
    {
      "cell_type": "code",
      "execution_count": 2,
      "metadata": {
        "id": "osp61RsLF7sN"
      },
      "outputs": [],
      "source": [
        "#Code Block : Set Initial State (Must handle dynamic inputs)\n",
        "import random\n",
        "start_nodes = [(7,0),(8,0),(9,0),(9,1),(9,2)]\n",
        "rows = 10 # Number of rows in the terrain maze\n",
        "cols = 10 # Number of rows in the terrain maze\n",
        "destination = (0,6)\n",
        "restricted_nodes = [(0,5),(0,9),(1,0),(1,3),(2,1),(2,3),(2,5),(2,6),(2,7),(3,1),(3,3),\n",
        "                    (4,1),(4,3),(5,6),(5,7),(5,8),(6,6),(7,6),(8,5),(8,8),(9,3),(9,4),(9,5),(9,8),(9,9)]\n",
        "\n"
      ]
    },
    {
      "attachments": {},
      "cell_type": "markdown",
      "metadata": {},
      "source": [
        "* Heuristic Cost Function\n",
        "\n",
        "$min(f(n)) = [(1+PoD)(1+PoM)]$\n",
        "\n",
        "where \n",
        "`PoD : probability of detection`,\n",
        "\n",
        "`PoM : Probability of Mine`"
      ]
    },
    {
      "cell_type": "code",
      "execution_count": 3,
      "metadata": {
        "id": "XODwoWZ0F7sO"
      },
      "outputs": [],
      "source": [
        "#Code Block : Set the matrix for transition & cost (as relevant for the given problem)\n",
        "# PoD = probability of detection\n",
        "PoD = [[0.2, 0.8, 0.05, 0.8, 0.8, float(\"inf\"), 0.0, 0.05, 0.2, float(\"inf\")],\n",
        "       [float(\"inf\"), 0.05, 0.05, float(\"inf\"), 0.8, 0.8, 0.05, 0.05, 0.2, 0.2],\n",
        "       [0.2, float(\"inf\"), 0.2, float(\"inf\"), 0.2, float(\"inf\"), float(\"inf\"), float(\"inf\"), 0.2, 0.2],\n",
        "       [0.2, float(\"inf\"), 0.2, float(\"inf\"), 0.2, 0.3, 0.2, 0.2, 0.2, 0.2],\n",
        "       [0.2, float(\"inf\"), 0.2, float(\"inf\"), 0.3, 0.2, 0.2, 0.2, 0.2, 0.2],\n",
        "       [0.2, 0.2, 0.2, 0.3, 0.3, 0.2, float(\"inf\"), float(\"inf\"), float(\"inf\"), 0.05],\n",
        "       [0.2, 0.2, 0.2, 0.05, 0.05, 0.05, float(\"inf\"), 0.05, 0.05, 0.05],\n",
        "       [0.0, 0.0, 0.0, 0.05, 0.05, 0.05, float(\"inf\"), 0.05, 0.05, 0.05],\n",
        "       [0.0, 0.0, 0.0, 0.05, 0.05, float(\"inf\"), 0.05, 0.05, float(\"inf\"), 0.05],\n",
        "       [0.0, 0.0, 0.0, float(\"inf\"), float(\"inf\"), float(\"inf\"), 0.05, 0.05, float(\"inf\"), float(\"inf\")]]\n",
        "\n",
        "# PoM = Probability of Mine\n",
        "PoM = [[0.9, 1.0, 0.05, 0.9, 0.9, float(\"inf\"), 0.0, 0.05, 0.1, float(\"inf\")],\n",
        "       [float(\"inf\"), 0.05, 0.05, float(\"inf\"), 0.9, 0.9, 0.05, 0.05, 0.1, 0.1],\n",
        "       [0.9, float(\"inf\"), 0.1, float(\"inf\"), 0.1, float(\"inf\"), float(\"inf\"), float(\"inf\"), 0.1, 0.1],\n",
        "       [0.9, float(\"inf\"), 0.1, float(\"inf\"), 0.1, 0.9, 0.1, 0.1, 0.1, 0.1],\n",
        "       [0.9, float(\"inf\"), 0.1, float(\"inf\"), 0.9, 0.1, 0.1, 0.9, 0.9, 0.1],\n",
        "       [0.9, 1.0, 0.1, 0.9, 0.9, 0.1, float(\"inf\"), float(\"inf\"), float(\"inf\"), 0.05],\n",
        "       [0.0, 0.1, 0.1, 0.05, 0.05, 0.05, float(\"inf\"), 0.05, 0.05, 0.05],\n",
        "       [0.0, 0.0, 0.0, 0.05, 0.05, 0.05, float(\"inf\"), 0.05, 0.05, 0.05],\n",
        "       [0.0, 0.0, 0.0, 0.05, 0.05, float(\"inf\"), 0.05, 0.05, float(\"inf\"), 0.05],\n",
        "       [0.0, 0.0, 0.0, float(\"inf\"), float(\"inf\"), float(\"inf\"), 0.05, 0.05, float(\"inf\"), float(\"inf\")]]\n",
        "\n",
        "\n",
        "# Heuristic function for Cost calculation\n",
        "def heuristic(cell, PoD, PoM):\n",
        "    return (1 + PoD[cell[0]][cell[1]]) * (1 + PoM[cell[0]][cell[1]])"
      ]
    },
    {
      "cell_type": "code",
      "execution_count": 4,
      "metadata": {
        "id": "ro24Gaj7F7sO"
      },
      "outputs": [],
      "source": [
        "#Code Block : Write function to design the Transition Model/Successor function. Ideally this would be called while search algorithms are implemented\n",
        "# Function to generate successor states from a given state\n",
        "def generate_successors(state, rows, cols):\n",
        "    successors = []\n",
        "    for dx, dy in [(1, 0), (0, 1), (-1, 0), (0, -1)]:\n",
        "        x, y = state[0] + dx, state[1] + dy\n",
        "        if 0 <= x < rows and 0 <= y < cols:\n",
        "            # removing the restricted nodes from possible successors\n",
        "            if (x,y) not in restricted_nodes:\n",
        "                successors.append((x, y))\n",
        "    return successors"
      ]
    },
    {
      "cell_type": "code",
      "execution_count": 5,
      "metadata": {
        "id": "HIVPhrRWF7sO"
      },
      "outputs": [],
      "source": [
        "#Code block : Write fucntion to handle goal test (Must handle dynamic inputs). Ideally this would be called while search algorithms are implemented\n"
      ]
    },
    {
      "attachments": {},
      "cell_type": "markdown",
      "metadata": {
        "id": "Z4QwDeX5F7sO"
      },
      "source": [
        "### 2.\tDefinition of Algorithm : Local Beam Search\n",
        "\n",
        "* Hyperparameter : k = Number of Parallel Beams"
      ]
    },
    {
      "cell_type": "code",
      "execution_count": 13,
      "metadata": {
        "id": "zD_EPCHWF7sO"
      },
      "outputs": [],
      "source": [
        "#Code Block : Function for algorithm 1 implementation\n",
        "# Local Beam Search algorithm with hyperparameter : k\n",
        "def local_beam_search(k, start, destination, PoD, PoM, max_iter):\n",
        "    rows, cols = len(PoD), len(PoD[0])\n",
        "    beams = [[start] * k]  # Initialize k beams with the start state\n",
        "    path_map = {start: [start]}  # To keep track of the path for each state\n",
        "    iterations = 0\n",
        "\n",
        "    while True:\n",
        "        next_beam = []\n",
        "\n",
        "        for beam in beams:\n",
        "            new_beam = []\n",
        "\n",
        "            for state in beam:\n",
        "                successors = generate_successors(state, rows, cols)\n",
        "                successor_costs = [(s, heuristic(s, PoD, PoM)) for s in successors]\n",
        "                successor_costs.sort(key=lambda x: x[1])\n",
        "                new_beam.extend([s[0] for s in successor_costs[:3]])  # Select top 3 successors\n",
        "\n",
        "                # Update the path map for the new states\n",
        "                for s in successor_costs[:3]:\n",
        "                    path_map[s[0]] = path_map[state] + [s[0]]\n",
        "\n",
        "            next_beam.append(new_beam)\n",
        "\n",
        "        beams = next_beam\n",
        "        iterations += 1\n",
        "\n",
        "        # Check if the destination is reached or maximum iterations are reached\n",
        "        if destination in beams[-1] or iterations >= max_iter:\n",
        "            break\n",
        "\n",
        "    best_path = min(beams[-1], key=lambda x: heuristic(x, PoD, PoM))\n",
        "\n",
        "    traversal_path = path_map[best_path]\n",
        "\n",
        "    # # Generate the traversal path from start to destination\n",
        "    # traversal_path = []\n",
        "    # current_state = start\n",
        "    # while current_state != destination:\n",
        "    #     traversal_path.append(current_state)\n",
        "    #     # Find the next state in the path\n",
        "    #     for beam in beams[-1]:\n",
        "    #         if beam == current_state:\n",
        "    #             next_state = beam\n",
        "    #             break\n",
        "    #     current_state = next_state\n",
        "\n",
        "    # traversal_path.append(destination)\n",
        "\n",
        "    #calculating manhattan distance\n",
        "    optimal_cost = 0.0\n",
        "    for node in traversal_path:\n",
        "        optimal_cost += heuristic(node, PoD, PoM)\n",
        "\n",
        "    return traversal_path, optimal_cost\n"
      ]
    },
    {
      "attachments": {},
      "cell_type": "markdown",
      "metadata": {
        "id": "LEV2XHccF7sP"
      },
      "source": [
        "### DYNAMIC INPUT"
      ]
    },
    {
      "attachments": {},
      "cell_type": "markdown",
      "metadata": {
        "id": "CylYRo_DF7sP"
      },
      "source": [
        "IMPORTANT : Dynamic Input must be got in this section. Display the possible states to choose from:\n",
        "This is applicable for all the relevent problems as mentioned in the question.\n",
        "\n",
        "**Starting Point:**\n",
        "\n",
        "In the Problem statement : The given grid/maze depicts 4 possible starting points stored in the variable `start_nodes`. We are going to randomly select one starting point and try to find the optimal path/cost to reach destination\n",
        "\n",
        "\n",
        "**Destination/End Point:**\n",
        "\n",
        "Goal Node = $(0,6)$"
      ]
    },
    {
      "cell_type": "code",
      "execution_count": 7,
      "metadata": {
        "id": "Q5t1Lc-wF7sP"
      },
      "outputs": [],
      "source": [
        "#Code Block : Function & call to get inputs (start/end state)\n",
        "def get_start_node(start_nodes):\n",
        "    start_idx = random.randint(1, len(start_nodes) - 1)\n",
        "    #print(start_idx)\n",
        "    start_node = start_nodes[start_idx]\n",
        "    return start_node\n",
        "\n"
      ]
    },
    {
      "attachments": {},
      "cell_type": "markdown",
      "metadata": {
        "id": "xsfOP81lF7sP"
      },
      "source": [
        "### 4.\tCalling the search algorithms\n",
        "\n",
        "The following code shows how to call each of these functions:\n",
        "1. Initialising all the parameters:\n",
        "    * `start_node`\n",
        "    * `destination`\n",
        "    * `PoD Matrix`\n",
        "    * `PoM Matrix`\n",
        "    * Maximum number of iteration : `max_iter` = $1000$\n",
        "    * Hyperparameter : `k` = $3$"
      ]
    },
    {
      "cell_type": "code",
      "execution_count": 8,
      "metadata": {},
      "outputs": [
        {
          "name": "stdout",
          "output_type": "stream",
          "text": [
            "Start Node: (9, 0); Goal Node: (0, 6)\n"
          ]
        }
      ],
      "source": [
        "start_node = get_start_node(start_nodes)\n",
        "print(f'Start Node: {start_node}; Goal Node: {destination}')\n",
        "\n",
        "traversal_path, optimal_cost = local_beam_search(k=3, start=start_node, destination=destination, PoD=PoD, PoM=PoM, max_iter=1000)"
      ]
    },
    {
      "cell_type": "code",
      "execution_count": 11,
      "metadata": {},
      "outputs": [
        {
          "data": {
            "text/plain": [
              "[(9, 0),\n",
              " (8, 0),\n",
              " (7, 0),\n",
              " (6, 0),\n",
              " (5, 0),\n",
              " (5, 1),\n",
              " (5, 0),\n",
              " (5, 1),\n",
              " (5, 0),\n",
              " (5, 1),\n",
              " (5, 0),\n",
              " (5, 1),\n",
              " (5, 0),\n",
              " (5, 1),\n",
              " (5, 2),\n",
              " (6, 2),\n",
              " (7, 2),\n",
              " (8, 2)]"
            ]
          },
          "execution_count": 11,
          "metadata": {},
          "output_type": "execute_result"
        }
      ],
      "source": [
        "# this is after 1000 iteration\n",
        "traversal_path"
      ]
    },
    {
      "cell_type": "code",
      "execution_count": 15,
      "metadata": {},
      "outputs": [
        {
          "data": {
            "text/plain": [
              "1.0"
            ]
          },
          "execution_count": 15,
          "metadata": {},
          "output_type": "execute_result"
        }
      ],
      "source": [
        "#total cost for the path traversed\n",
        "optimal_cost"
      ]
    },
    {
      "attachments": {},
      "cell_type": "markdown",
      "metadata": {
        "id": "TOU3Rem6F7sQ"
      },
      "source": [
        "### 5.\tComparitive Analysis"
      ]
    },
    {
      "attachments": {},
      "cell_type": "markdown",
      "metadata": {
        "id": "HG6fWwiIF7sQ"
      },
      "source": [
        "Print the Time & Space complexity of algorithm :\n",
        "\n",
        "1. **Time Complexity:**\n",
        "\n",
        "    * Generating successors for a state takes `O(1)` time per state.\n",
        "    * Sorting the successors takes `O(k * log k)` time for each state in the beam. Since we have *k* states in each beam, the total time for sorting all successors in a single iteration is `O(k^2 * log k)`.\n",
        "    * Creating the next beam takes O(k) time per state in the beam.\n",
        "    * The number of iterations is bounded (up to `1000` in this implementation) to avoid excessive computation.\n",
        "\n",
        "Therefore, the overall time complexity of the Local Beam Search algorithm is approximately:\n",
        "\n",
        "$O(iterations * (k^2 * log(k) + k))$\n",
        "\n",
        "The time complexity mainly depends on the number of iterations and the number of states in each beam.\n",
        "\n",
        "2. **Space Complexity:**\n",
        "\n",
        "    * The space complexity of the beams list is `O(k^2)` since it stores k beams, and each beam contains *k* states.\n",
        "    * The space complexity of the path_map dictionary is `O(k^2 * L)`, where *L* is the average length of the traversal path.\n",
        "    * The space complexity of the other variables used in the algorithm is constant.\n",
        "\n",
        "Therefore, the overall space complexity of the Local Beam Search algorithm is:\n",
        "\n",
        "$O(k^2 * L)$"
      ]
    },
    {
      "attachments": {},
      "cell_type": "markdown",
      "metadata": {
        "id": "y2nXwAlsF7sQ"
      },
      "source": [
        "### 6.\tFor local search interpret the significance of the hyper parameters if any applicable\n",
        "\n",
        "* Hyperparameter for Local Beam Search : `k`"
      ]
    },
    {
      "attachments": {},
      "cell_type": "markdown",
      "metadata": {
        "id": "si483-zoF7sQ"
      },
      "source": [
        "The hyperparameter 'k' in Local Beam Search is a critical factor that influences the behavior and performance of the algorithm. It determines the number of states (also known as beams) that are maintained in parallel during the search. Each state represents a potential solution or a candidate path to the goal."
      ]
    },
    {
      "attachments": {},
      "cell_type": "markdown",
      "metadata": {},
      "source": []
    }
  ],
  "metadata": {
    "colab": {
      "provenance": []
    },
    "kernelspec": {
      "display_name": "Python 3",
      "language": "python",
      "name": "python3"
    },
    "language_info": {
      "codemirror_mode": {
        "name": "ipython",
        "version": 3
      },
      "file_extension": ".py",
      "mimetype": "text/x-python",
      "name": "python",
      "nbconvert_exporter": "python",
      "pygments_lexer": "ipython3",
      "version": "3.11.3"
    }
  },
  "nbformat": 4,
  "nbformat_minor": 0
}
