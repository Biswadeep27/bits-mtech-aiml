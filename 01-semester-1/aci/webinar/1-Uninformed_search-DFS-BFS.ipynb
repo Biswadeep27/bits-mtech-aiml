{
  "nbformat": 4,
  "nbformat_minor": 0,
  "metadata": {
    "colab": {
      "provenance": []
    },
    "kernelspec": {
      "name": "python3",
      "display_name": "Python 3"
    },
    "language_info": {
      "name": "python"
    }
  },
  "cells": [
    {
      "cell_type": "code",
      "metadata": {
        "id": "04eolcGDigfD"
      },
      "source": [
        "# Python program to find the shortest\n",
        "# path between a given source cell\n",
        "# to a destination cell.\n",
        " \n",
        "from collections import deque"
      ],
      "execution_count": 1,
      "outputs": []
    },
    {
      "cell_type": "code",
      "metadata": {
        "id": "Ex1wbaFDj-pk"
      },
      "source": [
        "ROW = 10\n",
        "COL = 10"
      ],
      "execution_count": 2,
      "outputs": []
    },
    {
      "cell_type": "code",
      "metadata": {
        "id": "LBAm94irkO3u"
      },
      "source": [
        "# To store matrix cell cordinates\n",
        "class Point:\n",
        "    def __init__(self,x: int, y: int):\n",
        "        self.x = x\n",
        "        self.y = y\n",
        " \n",
        "# A data structure for queue used in BFS\n",
        "class queueNode:\n",
        "    def __init__(self,pt: Point, dist: int):\n",
        "        self.pt = pt  # The coordinates of the cell\n",
        "        self.dist = dist  # Cell's distance from the source"
      ],
      "execution_count": 16,
      "outputs": []
    },
    {
      "cell_type": "code",
      "metadata": {
        "id": "BCpxiW5CkV-T"
      },
      "source": [
        "# Check whether given cell(row,col)\n",
        "# is a valid cell or not\n",
        "def isValid(row: int, col: int):\n",
        "    return (row >= 0) and (row < ROW) and (col >= 0) and (col < COL)"
      ],
      "execution_count": 7,
      "outputs": []
    },
    {
      "cell_type": "code",
      "metadata": {
        "id": "bqOepC2bk4wY"
      },
      "source": [
        "# These arrays are used to get row and column\n",
        "# numbers of 4 neighbours of a given cell\n",
        "rowNum = [-1, 0, 0, 1]\n",
        "colNum = [0, -1, 1, 0]\n",
        "# up, left, right, down "
      ],
      "execution_count": 8,
      "outputs": []
    },
    {
      "cell_type": "code",
      "source": [
        "def shortestPathInAMaze(maze, src, dest):\n",
        "  nrow = len(maze)\n",
        "  ncol = len(maze[0])\n",
        "  val = DFS(maze, src, dest, nrow, ncol)\n",
        "  return val"
      ],
      "metadata": {
        "id": "ItrM7w8LW4J5"
      },
      "execution_count": 9,
      "outputs": []
    },
    {
      "cell_type": "code",
      "source": [
        "def DFS(maze, src, dest, nrow, ncol):\n",
        "  \n",
        "  visited = [[False for i in range(COL)] for j in range(ROW)]\n",
        "  # if src or destination is an obstacle, we cannot have a path\n",
        "  if maze[src.x][src.y] != 1 or maze[dest.x][dest.y] != 1:\n",
        "    return -1\n",
        "\n",
        "  for i in range(len(maze)):\n",
        "    visited.append([False] * len(maze[i]))\n",
        "  \n",
        "  #Mark the source as visited\n",
        "  visited[src.x][src.y] = True\n",
        "  stack = []*(nrow*ncol)\n",
        "  #Add source to stack\n",
        "  stack.append(queueNode(src, 0))\n",
        "  \n",
        "  while len(stack) != 0:\n",
        "    current = stack.pop()\n",
        "    point = current.pt\n",
        "\n",
        "    visited[point.x][point.y] = True\n",
        "    print(\"Goal Test on Node: \"+str(point.x)+\",\"+str(point.y))\n",
        "\n",
        "    #If coordinates of curent node are same as destination, the goal has been reached\n",
        "    if point.x == dest.x and point.y == dest.y:\n",
        "      return current\n",
        "      \n",
        "    for i in range(0, 4):\n",
        "      row = point.x + rowNum[i]\n",
        "      col = point.y + colNum[i]\n",
        "\n",
        "      #add the adjacent node to queue if it is a valid coordinate, it is not an obstacle and has not been visited yet\n",
        "      if isValid(row, col) and maze[row][col] != 0 and visited[row][col] is False:\n",
        "        #print(\"successor being generated\"+str(row)+\",\"+str(col))\n",
        "        newNode = queueNode(Point(row, col), current.dist + 1)\n",
        "        stack.append(newNode)\n",
        "  \n",
        "  #If a path has not been found then return -1\n",
        "  return -1\n"
      ],
      "metadata": {
        "id": "dThVRy_UXijI"
      },
      "execution_count": 56,
      "outputs": []
    },
    {
      "cell_type": "code",
      "metadata": {
        "id": "etsSjiDUlEiq"
      },
      "source": [
        "# Function to find the shortest path between\n",
        "# a given source cell to a destination cell\n",
        "def BFS(mat, src: Point, dest: Point):\n",
        "     \n",
        "    # check source and destination cell\n",
        "    # of the matrix have value 1\n",
        "    if mat[src.x][src.y]!=1 or mat[dest.x][dest.y]!=1:\n",
        "        return -1\n",
        "     \n",
        "    visited = [[False for i in range(COL)] for j in range(ROW)]\n",
        "     \n",
        "    # Mark the source cell as visited\n",
        "    visited[src.x][src.y] = True\n",
        "     \n",
        "    # Create a queue for BFS\n",
        "    q = deque()\n",
        "     \n",
        "    # Distance of source cell is 0\n",
        "    s = queueNode(src,0)\n",
        "    q.append(s) #  Enqueue source cell\n",
        "     \n",
        "    # Do a BFS starting from source cell\n",
        "    while q:\n",
        " \n",
        "        curr = q.popleft() # Dequeue the front cell\n",
        "         \n",
        "        # If we have reached the destination cell,\n",
        "        # we are done\n",
        "        pt = curr.pt\n",
        "\n",
        "        if not visited[pt.x][pt.y]:\n",
        "          print(\"Goal Test on Node: \"+str(pt.x)+\",\"+str(pt.y))\n",
        "          \n",
        "        if pt.x == dest.x and pt.y == dest.y:\n",
        "            return curr\n",
        "        \n",
        "        visited[pt.x][pt.y] = True\n",
        "        # Otherwise enqueue its adjacent cells\n",
        "        for i in range(4):\n",
        "            row = pt.x + rowNum[i]\n",
        "            col = pt.y + colNum[i]\n",
        "            \n",
        "            # if adjacent cell is valid, has path \n",
        "            # and not visited yet, enqueue it.\n",
        "            if (isValid(row,col) and mat[row][col] == 1 and not visited[row][col]):\n",
        "                #visited[row][col] = True\n",
        "                Adjcell = queueNode(Point(row,col), curr.dist+1)\n",
        "                q.append(Adjcell)\n",
        "     \n",
        "    # Return -1 if destination cannot be reached\n",
        "    return -1"
      ],
      "execution_count": 85,
      "outputs": []
    },
    {
      "cell_type": "code",
      "metadata": {
        "id": "d9NhwCbwleHr"
      },
      "source": [
        "# Driver code\n",
        "def main():\n",
        "    # environment design : O - depicts non-navigable cells /blocks\n",
        "    maze = [[ 1, 0, 1, 1, 1, 1, 0, 1, 1, 1 ],\n",
        "           [ 1, 0, 1, 0, 1, 1, 1, 0, 1, 1 ],\n",
        "           [ 1, 1, 1, 0, 1, 1, 0, 1, 0, 1 ],\n",
        "           [ 0, 0, 0, 0, 1, 0, 0, 0, 0, 1 ],\n",
        "           [ 1, 1, 1, 0, 1, 1, 1, 0, 1, 0 ],\n",
        "           [ 1, 0, 1, 1, 1, 1, 0, 1, 0, 0 ],\n",
        "           [ 1, 0, 0, 0, 0, 0, 0, 0, 0, 1 ],\n",
        "           [ 1, 0, 1, 1, 1, 1, 0, 1, 1, 1 ],\n",
        "           [ 1, 1, 0, 0, 0, 0, 1, 0, 0, 1 ],\n",
        "           [ 1, 0, 0, 0, 0, 0, 0, 0, 0, 1 ]]\n",
        "           \n",
        "    source = Point(0,0)\n",
        "    dest = Point(5,4)\n",
        "     \n",
        "    #curr = shortestPathInAMaze(maze,source,dest)\n",
        "    curr = BFS(maze,source,dest)\n",
        "    \n",
        "    if curr!=-1:\n",
        "       if curr.dist!=-1:\n",
        "          print(\"Path length is\",curr.dist)\n",
        "    else:\n",
        "      print(\"Path doesn't exist\")"
      ],
      "execution_count": 86,
      "outputs": []
    },
    {
      "cell_type": "code",
      "metadata": {
        "id": "XgPnPgPAl_01",
        "colab": {
          "base_uri": "https://localhost:8080/"
        },
        "outputId": "1a3e6341-1205-41a8-d76f-8d73c29f277f"
      },
      "source": [
        "main()"
      ],
      "execution_count": 87,
      "outputs": [
        {
          "output_type": "stream",
          "name": "stdout",
          "text": [
            "Goal Test on Node: 1,0\n",
            "Goal Test on Node: 2,0\n",
            "Goal Test on Node: 2,1\n",
            "Goal Test on Node: 2,2\n",
            "Goal Test on Node: 1,2\n",
            "Goal Test on Node: 0,2\n",
            "Goal Test on Node: 0,3\n",
            "Goal Test on Node: 0,4\n",
            "Goal Test on Node: 0,5\n",
            "Goal Test on Node: 1,4\n",
            "Goal Test on Node: 1,5\n",
            "Goal Test on Node: 2,4\n",
            "Goal Test on Node: 1,6\n",
            "Goal Test on Node: 2,5\n",
            "Goal Test on Node: 3,4\n",
            "Goal Test on Node: 4,4\n",
            "Goal Test on Node: 4,5\n",
            "Goal Test on Node: 5,4\n",
            "Path length is 13\n"
          ]
        }
      ]
    },
    {
      "cell_type": "code",
      "metadata": {
        "id": "z-hBSdZZLQpO"
      },
      "source": [],
      "execution_count": null,
      "outputs": []
    },
    {
      "cell_type": "markdown",
      "source": [
        "### As an exercise the students should do the following with little tweeks in the code:\n",
        "### 1. Modify the matrix to add cost only for final result instead of unit path cost summary.\n",
        "### 2. Modify \"Point\" datastructure to hold the parent node , cost , actions\n",
        "### 3. After the path is found , retrace the Point.parent to list the best sequence of node from start to goal node."
      ],
      "metadata": {
        "id": "VhIJ9FubgODQ"
      }
    }
  ]
}