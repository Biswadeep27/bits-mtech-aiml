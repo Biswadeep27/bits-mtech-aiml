{
 "cells": [
  {
   "cell_type": "markdown",
   "metadata": {},
   "source": [
    "# Data Frames in Pandas and Visualizations in Pandas\n",
    "\n",
    "# 1. Getting Started\n",
    "## 1.1 Overview \n",
    "The primary object in Pandas that will be used throughout this course is DataFrame. \n",
    "DataFrame is a two dimensional tabular, column-oriented data structure with both row and column labels. \n",
    "\n",
    "In this short session, we will \n",
    "    1. quickly understand the data set\n",
    "    2. represent this dataset as a Dataframe\n",
    "    3. perform basic operations / manipulations on this dataset\n",
    "    4. perform some statistical and visual analysis using pandas.\n",
    "\n",
    "## 1.2 Installing Pandas\n",
    "\n",
    "Pandas is distributed as a part of Anaconda Python Distribution, separate installation is not requried. [ check this anaconda cheat sheet http://docs.continuum.io/_downloads/9ee215ff15fde24bf01791d719084950/Anaconda-Starter-Guide.pdf ]\n",
    "\n",
    "## 1.3 Official Documentation\n",
    "Use the official pandas documentation [ https://pandas.pydata.org/pandas-docs/stable/ ]\n"
   ]
  },
  {
   "cell_type": "markdown",
   "metadata": {},
   "source": [
    "# 2. Understand the dataset"
   ]
  },
  {
   "cell_type": "markdown",
   "metadata": {},
   "source": [
    "The dataset we use for this section is adapted from an IMDB dataset, containing details movies, available from Kaggle (at https://www.kaggle.com/orgesleka/imdbmovies/downloads/imdb-movies-dataset.zip ) "
   ]
  },
  {
   "cell_type": "raw",
   "metadata": {},
   "source": [
    "The adapted version has the following columns or features \n",
    "title            - Title of the movie\n",
    "rating           - IMDB Rating (in the scale of 0-10 )\n",
    "year             - Year of release\n",
    "wins             - Number of awards won by the movie\n",
    "nominations      - Number of nominations for awards received  by the movie\n",
    "news             - Number of news articles on the movie\n",
    "reviews          - Number of reviews received by the movie\n",
    "\n",
    "The dataset is made available in the file imdb.csv"
   ]
  },
  {
   "cell_type": "markdown",
   "metadata": {},
   "source": [
    "# 3. Necessary Imports, bring the dataset in & check "
   ]
  },
  {
   "cell_type": "markdown",
   "metadata": {},
   "source": [
    "Task-1 : Perform \n",
    "    1. Import pandas as pd\n",
    "    2. Create the dataframe, 'imdbDF'  directly from 'imdb.csv' using read_csv in pandas."
   ]
  },
  {
   "cell_type": "code",
   "execution_count": 1,
   "metadata": {},
   "outputs": [],
   "source": [
    "import pandas as pd   # 1.1 , import\n",
    "imdbDF = pd.read_csv('imdb.csv') # 1.2, reading csv"
   ]
  },
  {
   "cell_type": "markdown",
   "metadata": {},
   "source": [
    "Task-2 : Findout if we have imported correct , by \n",
    "    1. Finding out the number of rows and columns in imdbDF [ use shape method ] \n",
    "    2. Find out if the column names are same as row headers in the csv [ use columns method ]\n",
    "    3. Display the first few rows to get the feel of the data we have at hand [ use head method ] \n",
    "    4. Get the information of the data frame  [use info method]\n",
    "    5. Get the statistical summary of all the numerical attributes in the dataset [ use describe method ] "
   ]
  },
  {
   "cell_type": "code",
   "execution_count": 2,
   "metadata": {},
   "outputs": [
    {
     "name": "stdout",
     "output_type": "stream",
     "text": [
      "(14761, 7)\n"
     ]
    }
   ],
   "source": [
    "print (imdbDF.shape) #2.1, number of rows and columns"
   ]
  },
  {
   "cell_type": "code",
   "execution_count": 3,
   "metadata": {},
   "outputs": [
    {
     "name": "stdout",
     "output_type": "stream",
     "text": [
      "Index(['title', 'rating', 'year', 'wins', 'nominations', 'news', 'reviews'], dtype='object')\n"
     ]
    }
   ],
   "source": [
    "print (imdbDF.columns) #2.2, name of columns"
   ]
  },
  {
   "cell_type": "code",
   "execution_count": 4,
   "metadata": {},
   "outputs": [
    {
     "name": "stdout",
     "output_type": "stream",
     "text": [
      "                              title rating  year wins nominations  news  \\\n",
      "0  Der Vagabund und das Kind (1921)    8.4  1921    1           0    96   \n",
      "1                 Goldrausch (1925)    8.3  1925    2           1   110   \n",
      "2                 Metropolis (1927)    8.4  1927    3           4   428   \n",
      "3                Der General (1926)    8.3  1926    1           1   123   \n",
      "4      Lichter der Großstadt (1931)    8.7  1931    2           0   187   \n",
      "5                          M (1931)    8.5  1931    1           0     4   \n",
      "6  Es geschah in einer Nacht (1934)    8.3  1934    4           1   183   \n",
      "7             Moderne Zeiten (1936)    8.6  1936    3           1    27   \n",
      "8          Vom Winde verweht (1939)    8.2  1939   10           6  1263   \n",
      "\n",
      "   reviews  \n",
      "0       85  \n",
      "1      122  \n",
      "2      376  \n",
      "3      219  \n",
      "4      186  \n",
      "5      254  \n",
      "6      211  \n",
      "7      180  \n",
      "8      653  \n"
     ]
    }
   ],
   "source": [
    "print (imdbDF.head(9)) #2.3 First few rows data for inspection"
   ]
  },
  {
   "cell_type": "code",
   "execution_count": 5,
   "metadata": {},
   "outputs": [
    {
     "name": "stdout",
     "output_type": "stream",
     "text": [
      "<class 'pandas.core.frame.DataFrame'>\n",
      "RangeIndex: 14761 entries, 0 to 14760\n",
      "Data columns (total 7 columns):\n",
      "title          14761 non-null object\n",
      "rating         13582 non-null object\n",
      "year           14716 non-null object\n",
      "wins           14760 non-null object\n",
      "nominations    14761 non-null object\n",
      "news           14761 non-null object\n",
      "reviews        14761 non-null int64\n",
      "dtypes: int64(1), object(6)\n",
      "memory usage: 807.3+ KB\n",
      "None\n"
     ]
    }
   ],
   "source": [
    "print (imdbDF.info()) #2.4 Summary of data set"
   ]
  },
  {
   "cell_type": "code",
   "execution_count": 6,
   "metadata": {},
   "outputs": [
    {
     "name": "stdout",
     "output_type": "stream",
     "text": [
      "            reviews\n",
      "count  14761.000000\n",
      "mean     103.616828\n",
      "std      233.638777\n",
      "min        0.000000\n",
      "25%        3.000000\n",
      "50%       29.000000\n",
      "75%      102.000000\n",
      "max     4928.000000\n"
     ]
    }
   ],
   "source": [
    "print (imdbDF.describe()) #2.5 Statistical Summary of all numerical attributes"
   ]
  },
  {
   "cell_type": "raw",
   "metadata": {},
   "source": [
    "[NOTE]\n",
    "This dataset shared with you is quite a clean one. The automatic type inferences while creating the data frame (imdbDF) were correct. It is likely that certain numberical data type in inferred as Object type (indicating some string values or values of other types in that column) or at times, you need to convert the types of columns to something else. \n",
    "In such scenarios, use astype method. Read this from : https://pandas.pydata.org/pandas-docs/stable/reference/api/pandas.DataFrame.astype.html \n",
    "[END OF NOTE]"
   ]
  },
  {
   "cell_type": "markdown",
   "metadata": {},
   "source": [
    "# 4. Accessing the columns, rows, etc.\n",
    "\n",
    "Here, we will learn accessing rows, colums, and subset of the imdbDF"
   ]
  },
  {
   "cell_type": "markdown",
   "metadata": {},
   "source": [
    "Task 3: \n",
    "\n",
    "Assume that a particular data analysis task requies to be performed only on numerical attributes imdbDF.wins and imdbDF.nominations. It is required to create a new dataframe with only these columms. Do the following to accomplish this.\n",
    "\n",
    "    1. Try accessing a field 'wins' of imdbDF  [Use a subscript notation]\n",
    "    2. Print only those columns to see what are they. [access only those columns with the column header]\n",
    "    3. That lists all the rows. Just a few top rows are sufficient. How do we do this? [ use head() ]\n",
    "    4. Create myDF with only those columns selected in 3.2"
   ]
  },
  {
   "cell_type": "code",
   "execution_count": 7,
   "metadata": {},
   "outputs": [
    {
     "data": {
      "text/plain": [
       "0         1\n",
       "1         2\n",
       "2         3\n",
       "3         1\n",
       "4         2\n",
       "5         1\n",
       "6         4\n",
       "7         3\n",
       "8        10\n",
       "9         4\n",
       "10        6\n",
       "11        6\n",
       "12        5\n",
       "13        2\n",
       "14        7\n",
       "15        1\n",
       "16        5\n",
       "17        3\n",
       "18       13\n",
       "19        1\n",
       "20        6\n",
       "21        2\n",
       "22       17\n",
       "23        0\n",
       "24       12\n",
       "25        3\n",
       "26       15\n",
       "27        9\n",
       "28       17\n",
       "29        1\n",
       "         ..\n",
       "14731     0\n",
       "14732     0\n",
       "14733     0\n",
       "14734     0\n",
       "14735     0\n",
       "14736     0\n",
       "14737     0\n",
       "14738     0\n",
       "14739     0\n",
       "14740     0\n",
       "14741     0\n",
       "14742     0\n",
       "14743     0\n",
       "14744     0\n",
       "14745     0\n",
       "14746     0\n",
       "14747     0\n",
       "14748     0\n",
       "14749     0\n",
       "14750     0\n",
       "14751     0\n",
       "14752     0\n",
       "14753     0\n",
       "14754     0\n",
       "14755     0\n",
       "14756     0\n",
       "14757     0\n",
       "14758     0\n",
       "14759     0\n",
       "14760     0\n",
       "Name: wins, Length: 14761, dtype: object"
      ]
     },
     "execution_count": 7,
     "metadata": {},
     "output_type": "execute_result"
    }
   ],
   "source": [
    "imdbDF.wins # 3.1 , access a column as imdbDF.wins (or) imdb['wins']"
   ]
  },
  {
   "cell_type": "code",
   "execution_count": 8,
   "metadata": {},
   "outputs": [
    {
     "data": {
      "text/html": [
       "<div>\n",
       "<style scoped>\n",
       "    .dataframe tbody tr th:only-of-type {\n",
       "        vertical-align: middle;\n",
       "    }\n",
       "\n",
       "    .dataframe tbody tr th {\n",
       "        vertical-align: top;\n",
       "    }\n",
       "\n",
       "    .dataframe thead th {\n",
       "        text-align: right;\n",
       "    }\n",
       "</style>\n",
       "<table border=\"1\" class=\"dataframe\">\n",
       "  <thead>\n",
       "    <tr style=\"text-align: right;\">\n",
       "      <th></th>\n",
       "      <th>wins</th>\n",
       "      <th>nominations</th>\n",
       "    </tr>\n",
       "  </thead>\n",
       "  <tbody>\n",
       "    <tr>\n",
       "      <th>0</th>\n",
       "      <td>1</td>\n",
       "      <td>0</td>\n",
       "    </tr>\n",
       "    <tr>\n",
       "      <th>1</th>\n",
       "      <td>2</td>\n",
       "      <td>1</td>\n",
       "    </tr>\n",
       "    <tr>\n",
       "      <th>2</th>\n",
       "      <td>3</td>\n",
       "      <td>4</td>\n",
       "    </tr>\n",
       "    <tr>\n",
       "      <th>3</th>\n",
       "      <td>1</td>\n",
       "      <td>1</td>\n",
       "    </tr>\n",
       "    <tr>\n",
       "      <th>4</th>\n",
       "      <td>2</td>\n",
       "      <td>0</td>\n",
       "    </tr>\n",
       "    <tr>\n",
       "      <th>5</th>\n",
       "      <td>1</td>\n",
       "      <td>0</td>\n",
       "    </tr>\n",
       "    <tr>\n",
       "      <th>6</th>\n",
       "      <td>4</td>\n",
       "      <td>1</td>\n",
       "    </tr>\n",
       "    <tr>\n",
       "      <th>7</th>\n",
       "      <td>3</td>\n",
       "      <td>1</td>\n",
       "    </tr>\n",
       "    <tr>\n",
       "      <th>8</th>\n",
       "      <td>10</td>\n",
       "      <td>6</td>\n",
       "    </tr>\n",
       "    <tr>\n",
       "      <th>9</th>\n",
       "      <td>4</td>\n",
       "      <td>10</td>\n",
       "    </tr>\n",
       "    <tr>\n",
       "      <th>10</th>\n",
       "      <td>6</td>\n",
       "      <td>12</td>\n",
       "    </tr>\n",
       "    <tr>\n",
       "      <th>11</th>\n",
       "      <td>6</td>\n",
       "      <td>5</td>\n",
       "    </tr>\n",
       "    <tr>\n",
       "      <th>12</th>\n",
       "      <td>5</td>\n",
       "      <td>1</td>\n",
       "    </tr>\n",
       "    <tr>\n",
       "      <th>13</th>\n",
       "      <td>2</td>\n",
       "      <td>9</td>\n",
       "    </tr>\n",
       "    <tr>\n",
       "      <th>14</th>\n",
       "      <td>7</td>\n",
       "      <td>10</td>\n",
       "    </tr>\n",
       "    <tr>\n",
       "      <th>15</th>\n",
       "      <td>1</td>\n",
       "      <td>0</td>\n",
       "    </tr>\n",
       "    <tr>\n",
       "      <th>16</th>\n",
       "      <td>5</td>\n",
       "      <td>6</td>\n",
       "    </tr>\n",
       "    <tr>\n",
       "      <th>17</th>\n",
       "      <td>3</td>\n",
       "      <td>0</td>\n",
       "    </tr>\n",
       "    <tr>\n",
       "      <th>18</th>\n",
       "      <td>13</td>\n",
       "      <td>1</td>\n",
       "    </tr>\n",
       "    <tr>\n",
       "      <th>19</th>\n",
       "      <td>1</td>\n",
       "      <td>0</td>\n",
       "    </tr>\n",
       "    <tr>\n",
       "      <th>20</th>\n",
       "      <td>6</td>\n",
       "      <td>0</td>\n",
       "    </tr>\n",
       "    <tr>\n",
       "      <th>21</th>\n",
       "      <td>2</td>\n",
       "      <td>1</td>\n",
       "    </tr>\n",
       "    <tr>\n",
       "      <th>22</th>\n",
       "      <td>17</td>\n",
       "      <td>0</td>\n",
       "    </tr>\n",
       "    <tr>\n",
       "      <th>23</th>\n",
       "      <td>0</td>\n",
       "      <td>0</td>\n",
       "    </tr>\n",
       "    <tr>\n",
       "      <th>24</th>\n",
       "      <td>12</td>\n",
       "      <td>4</td>\n",
       "    </tr>\n",
       "    <tr>\n",
       "      <th>25</th>\n",
       "      <td>3</td>\n",
       "      <td>4</td>\n",
       "    </tr>\n",
       "    <tr>\n",
       "      <th>26</th>\n",
       "      <td>15</td>\n",
       "      <td>15</td>\n",
       "    </tr>\n",
       "    <tr>\n",
       "      <th>27</th>\n",
       "      <td>9</td>\n",
       "      <td>2</td>\n",
       "    </tr>\n",
       "    <tr>\n",
       "      <th>28</th>\n",
       "      <td>17</td>\n",
       "      <td>13</td>\n",
       "    </tr>\n",
       "    <tr>\n",
       "      <th>29</th>\n",
       "      <td>1</td>\n",
       "      <td>1</td>\n",
       "    </tr>\n",
       "    <tr>\n",
       "      <th>...</th>\n",
       "      <td>...</td>\n",
       "      <td>...</td>\n",
       "    </tr>\n",
       "    <tr>\n",
       "      <th>14731</th>\n",
       "      <td>0</td>\n",
       "      <td>0</td>\n",
       "    </tr>\n",
       "    <tr>\n",
       "      <th>14732</th>\n",
       "      <td>0</td>\n",
       "      <td>0</td>\n",
       "    </tr>\n",
       "    <tr>\n",
       "      <th>14733</th>\n",
       "      <td>0</td>\n",
       "      <td>0</td>\n",
       "    </tr>\n",
       "    <tr>\n",
       "      <th>14734</th>\n",
       "      <td>0</td>\n",
       "      <td>0</td>\n",
       "    </tr>\n",
       "    <tr>\n",
       "      <th>14735</th>\n",
       "      <td>0</td>\n",
       "      <td>0</td>\n",
       "    </tr>\n",
       "    <tr>\n",
       "      <th>14736</th>\n",
       "      <td>0</td>\n",
       "      <td>0</td>\n",
       "    </tr>\n",
       "    <tr>\n",
       "      <th>14737</th>\n",
       "      <td>0</td>\n",
       "      <td>0</td>\n",
       "    </tr>\n",
       "    <tr>\n",
       "      <th>14738</th>\n",
       "      <td>0</td>\n",
       "      <td>0</td>\n",
       "    </tr>\n",
       "    <tr>\n",
       "      <th>14739</th>\n",
       "      <td>0</td>\n",
       "      <td>0</td>\n",
       "    </tr>\n",
       "    <tr>\n",
       "      <th>14740</th>\n",
       "      <td>0</td>\n",
       "      <td>0</td>\n",
       "    </tr>\n",
       "    <tr>\n",
       "      <th>14741</th>\n",
       "      <td>0</td>\n",
       "      <td>0</td>\n",
       "    </tr>\n",
       "    <tr>\n",
       "      <th>14742</th>\n",
       "      <td>0</td>\n",
       "      <td>0</td>\n",
       "    </tr>\n",
       "    <tr>\n",
       "      <th>14743</th>\n",
       "      <td>0</td>\n",
       "      <td>0</td>\n",
       "    </tr>\n",
       "    <tr>\n",
       "      <th>14744</th>\n",
       "      <td>0</td>\n",
       "      <td>0</td>\n",
       "    </tr>\n",
       "    <tr>\n",
       "      <th>14745</th>\n",
       "      <td>0</td>\n",
       "      <td>0</td>\n",
       "    </tr>\n",
       "    <tr>\n",
       "      <th>14746</th>\n",
       "      <td>0</td>\n",
       "      <td>0</td>\n",
       "    </tr>\n",
       "    <tr>\n",
       "      <th>14747</th>\n",
       "      <td>0</td>\n",
       "      <td>0</td>\n",
       "    </tr>\n",
       "    <tr>\n",
       "      <th>14748</th>\n",
       "      <td>0</td>\n",
       "      <td>0</td>\n",
       "    </tr>\n",
       "    <tr>\n",
       "      <th>14749</th>\n",
       "      <td>0</td>\n",
       "      <td>0</td>\n",
       "    </tr>\n",
       "    <tr>\n",
       "      <th>14750</th>\n",
       "      <td>0</td>\n",
       "      <td>0</td>\n",
       "    </tr>\n",
       "    <tr>\n",
       "      <th>14751</th>\n",
       "      <td>0</td>\n",
       "      <td>0</td>\n",
       "    </tr>\n",
       "    <tr>\n",
       "      <th>14752</th>\n",
       "      <td>0</td>\n",
       "      <td>0</td>\n",
       "    </tr>\n",
       "    <tr>\n",
       "      <th>14753</th>\n",
       "      <td>0</td>\n",
       "      <td>0</td>\n",
       "    </tr>\n",
       "    <tr>\n",
       "      <th>14754</th>\n",
       "      <td>0</td>\n",
       "      <td>0</td>\n",
       "    </tr>\n",
       "    <tr>\n",
       "      <th>14755</th>\n",
       "      <td>0</td>\n",
       "      <td>0</td>\n",
       "    </tr>\n",
       "    <tr>\n",
       "      <th>14756</th>\n",
       "      <td>0</td>\n",
       "      <td>0</td>\n",
       "    </tr>\n",
       "    <tr>\n",
       "      <th>14757</th>\n",
       "      <td>0</td>\n",
       "      <td>0</td>\n",
       "    </tr>\n",
       "    <tr>\n",
       "      <th>14758</th>\n",
       "      <td>0</td>\n",
       "      <td>0</td>\n",
       "    </tr>\n",
       "    <tr>\n",
       "      <th>14759</th>\n",
       "      <td>0</td>\n",
       "      <td>0</td>\n",
       "    </tr>\n",
       "    <tr>\n",
       "      <th>14760</th>\n",
       "      <td>0</td>\n",
       "      <td>0</td>\n",
       "    </tr>\n",
       "  </tbody>\n",
       "</table>\n",
       "<p>14761 rows × 2 columns</p>\n",
       "</div>"
      ],
      "text/plain": [
       "      wins nominations\n",
       "0        1           0\n",
       "1        2           1\n",
       "2        3           4\n",
       "3        1           1\n",
       "4        2           0\n",
       "5        1           0\n",
       "6        4           1\n",
       "7        3           1\n",
       "8       10           6\n",
       "9        4          10\n",
       "10       6          12\n",
       "11       6           5\n",
       "12       5           1\n",
       "13       2           9\n",
       "14       7          10\n",
       "15       1           0\n",
       "16       5           6\n",
       "17       3           0\n",
       "18      13           1\n",
       "19       1           0\n",
       "20       6           0\n",
       "21       2           1\n",
       "22      17           0\n",
       "23       0           0\n",
       "24      12           4\n",
       "25       3           4\n",
       "26      15          15\n",
       "27       9           2\n",
       "28      17          13\n",
       "29       1           1\n",
       "...    ...         ...\n",
       "14731    0           0\n",
       "14732    0           0\n",
       "14733    0           0\n",
       "14734    0           0\n",
       "14735    0           0\n",
       "14736    0           0\n",
       "14737    0           0\n",
       "14738    0           0\n",
       "14739    0           0\n",
       "14740    0           0\n",
       "14741    0           0\n",
       "14742    0           0\n",
       "14743    0           0\n",
       "14744    0           0\n",
       "14745    0           0\n",
       "14746    0           0\n",
       "14747    0           0\n",
       "14748    0           0\n",
       "14749    0           0\n",
       "14750    0           0\n",
       "14751    0           0\n",
       "14752    0           0\n",
       "14753    0           0\n",
       "14754    0           0\n",
       "14755    0           0\n",
       "14756    0           0\n",
       "14757    0           0\n",
       "14758    0           0\n",
       "14759    0           0\n",
       "14760    0           0\n",
       "\n",
       "[14761 rows x 2 columns]"
      ]
     },
     "execution_count": 8,
     "metadata": {},
     "output_type": "execute_result"
    }
   ],
   "source": [
    "imdbDF[ ['wins', 'nominations']] # 3.2 , access only those wins and nominations columns. "
   ]
  },
  {
   "cell_type": "code",
   "execution_count": 9,
   "metadata": {},
   "outputs": [
    {
     "data": {
      "text/html": [
       "<div>\n",
       "<style scoped>\n",
       "    .dataframe tbody tr th:only-of-type {\n",
       "        vertical-align: middle;\n",
       "    }\n",
       "\n",
       "    .dataframe tbody tr th {\n",
       "        vertical-align: top;\n",
       "    }\n",
       "\n",
       "    .dataframe thead th {\n",
       "        text-align: right;\n",
       "    }\n",
       "</style>\n",
       "<table border=\"1\" class=\"dataframe\">\n",
       "  <thead>\n",
       "    <tr style=\"text-align: right;\">\n",
       "      <th></th>\n",
       "      <th>wins</th>\n",
       "      <th>nominations</th>\n",
       "    </tr>\n",
       "  </thead>\n",
       "  <tbody>\n",
       "    <tr>\n",
       "      <th>0</th>\n",
       "      <td>1</td>\n",
       "      <td>0</td>\n",
       "    </tr>\n",
       "    <tr>\n",
       "      <th>1</th>\n",
       "      <td>2</td>\n",
       "      <td>1</td>\n",
       "    </tr>\n",
       "    <tr>\n",
       "      <th>2</th>\n",
       "      <td>3</td>\n",
       "      <td>4</td>\n",
       "    </tr>\n",
       "    <tr>\n",
       "      <th>3</th>\n",
       "      <td>1</td>\n",
       "      <td>1</td>\n",
       "    </tr>\n",
       "    <tr>\n",
       "      <th>4</th>\n",
       "      <td>2</td>\n",
       "      <td>0</td>\n",
       "    </tr>\n",
       "  </tbody>\n",
       "</table>\n",
       "</div>"
      ],
      "text/plain": [
       "  wins nominations\n",
       "0    1           0\n",
       "1    2           1\n",
       "2    3           4\n",
       "3    1           1\n",
       "4    2           0"
      ]
     },
     "execution_count": 9,
     "metadata": {},
     "output_type": "execute_result"
    }
   ],
   "source": [
    "imdbDF[ ['wins', 'nominations']].head() # 3.3 , only a first 5 rows. "
   ]
  },
  {
   "cell_type": "code",
   "execution_count": 10,
   "metadata": {},
   "outputs": [
    {
     "data": {
      "text/html": [
       "<div>\n",
       "<style scoped>\n",
       "    .dataframe tbody tr th:only-of-type {\n",
       "        vertical-align: middle;\n",
       "    }\n",
       "\n",
       "    .dataframe tbody tr th {\n",
       "        vertical-align: top;\n",
       "    }\n",
       "\n",
       "    .dataframe thead th {\n",
       "        text-align: right;\n",
       "    }\n",
       "</style>\n",
       "<table border=\"1\" class=\"dataframe\">\n",
       "  <thead>\n",
       "    <tr style=\"text-align: right;\">\n",
       "      <th></th>\n",
       "      <th>wins</th>\n",
       "      <th>nominations</th>\n",
       "    </tr>\n",
       "  </thead>\n",
       "  <tbody>\n",
       "    <tr>\n",
       "      <th>count</th>\n",
       "      <td>14760</td>\n",
       "      <td>14761</td>\n",
       "    </tr>\n",
       "    <tr>\n",
       "      <th>unique</th>\n",
       "      <td>133</td>\n",
       "      <td>153</td>\n",
       "    </tr>\n",
       "    <tr>\n",
       "      <th>top</th>\n",
       "      <td>0</td>\n",
       "      <td>0</td>\n",
       "    </tr>\n",
       "    <tr>\n",
       "      <th>freq</th>\n",
       "      <td>8317</td>\n",
       "      <td>9263</td>\n",
       "    </tr>\n",
       "  </tbody>\n",
       "</table>\n",
       "</div>"
      ],
      "text/plain": [
       "         wins nominations\n",
       "count   14760       14761\n",
       "unique    133         153\n",
       "top         0           0\n",
       "freq     8317        9263"
      ]
     },
     "execution_count": 10,
     "metadata": {},
     "output_type": "execute_result"
    }
   ],
   "source": [
    "myDF = imdbDF[ ['wins', 'nominations']] # 3.4 , Selected those two columns, and create myDF\n",
    "myDF.describe()"
   ]
  },
  {
   "cell_type": "markdown",
   "metadata": {},
   "source": [
    "Task 4: \n",
    "\n",
    "We will use myDF for the rest of this worksheet. Lets try accessing rows, range of rows from this through the following tasks.\n",
    "    1. Print the first row of myDF. \n",
    "    2. Print rows 1,3,5.\n",
    "    3. Print rows from 16 to 21.\n",
    "    4. Print rows from 16 to 21 only for wins.\n",
    "    5. Access a particular value in the df at [0,1]."
   ]
  },
  {
   "cell_type": "code",
   "execution_count": 11,
   "metadata": {},
   "outputs": [
    {
     "data": {
      "text/plain": [
       "wins           1\n",
       "nominations    0\n",
       "Name: 0, dtype: object"
      ]
     },
     "execution_count": 11,
     "metadata": {},
     "output_type": "execute_result"
    }
   ],
   "source": [
    "myDF.iloc [0]       #4.1, Print ith row."
   ]
  },
  {
   "cell_type": "code",
   "execution_count": 12,
   "metadata": {},
   "outputs": [
    {
     "data": {
      "text/html": [
       "<div>\n",
       "<style scoped>\n",
       "    .dataframe tbody tr th:only-of-type {\n",
       "        vertical-align: middle;\n",
       "    }\n",
       "\n",
       "    .dataframe tbody tr th {\n",
       "        vertical-align: top;\n",
       "    }\n",
       "\n",
       "    .dataframe thead th {\n",
       "        text-align: right;\n",
       "    }\n",
       "</style>\n",
       "<table border=\"1\" class=\"dataframe\">\n",
       "  <thead>\n",
       "    <tr style=\"text-align: right;\">\n",
       "      <th></th>\n",
       "      <th>wins</th>\n",
       "      <th>nominations</th>\n",
       "    </tr>\n",
       "  </thead>\n",
       "  <tbody>\n",
       "    <tr>\n",
       "      <th>1</th>\n",
       "      <td>2</td>\n",
       "      <td>1</td>\n",
       "    </tr>\n",
       "    <tr>\n",
       "      <th>3</th>\n",
       "      <td>1</td>\n",
       "      <td>1</td>\n",
       "    </tr>\n",
       "    <tr>\n",
       "      <th>5</th>\n",
       "      <td>1</td>\n",
       "      <td>0</td>\n",
       "    </tr>\n",
       "  </tbody>\n",
       "</table>\n",
       "</div>"
      ],
      "text/plain": [
       "  wins nominations\n",
       "1    2           1\n",
       "3    1           1\n",
       "5    1           0"
      ]
     },
     "execution_count": 12,
     "metadata": {},
     "output_type": "execute_result"
    }
   ],
   "source": [
    "myDF.iloc [[1,3,5]]   #4.2, Print rows 1,3,5 by giving the row number as a list"
   ]
  },
  {
   "cell_type": "code",
   "execution_count": 13,
   "metadata": {},
   "outputs": [
    {
     "data": {
      "text/html": [
       "<div>\n",
       "<style scoped>\n",
       "    .dataframe tbody tr th:only-of-type {\n",
       "        vertical-align: middle;\n",
       "    }\n",
       "\n",
       "    .dataframe tbody tr th {\n",
       "        vertical-align: top;\n",
       "    }\n",
       "\n",
       "    .dataframe thead th {\n",
       "        text-align: right;\n",
       "    }\n",
       "</style>\n",
       "<table border=\"1\" class=\"dataframe\">\n",
       "  <thead>\n",
       "    <tr style=\"text-align: right;\">\n",
       "      <th></th>\n",
       "      <th>wins</th>\n",
       "      <th>nominations</th>\n",
       "    </tr>\n",
       "  </thead>\n",
       "  <tbody>\n",
       "    <tr>\n",
       "      <th>16</th>\n",
       "      <td>5</td>\n",
       "      <td>6</td>\n",
       "    </tr>\n",
       "    <tr>\n",
       "      <th>17</th>\n",
       "      <td>3</td>\n",
       "      <td>0</td>\n",
       "    </tr>\n",
       "    <tr>\n",
       "      <th>18</th>\n",
       "      <td>13</td>\n",
       "      <td>1</td>\n",
       "    </tr>\n",
       "    <tr>\n",
       "      <th>19</th>\n",
       "      <td>1</td>\n",
       "      <td>0</td>\n",
       "    </tr>\n",
       "    <tr>\n",
       "      <th>20</th>\n",
       "      <td>6</td>\n",
       "      <td>0</td>\n",
       "    </tr>\n",
       "    <tr>\n",
       "      <th>21</th>\n",
       "      <td>2</td>\n",
       "      <td>1</td>\n",
       "    </tr>\n",
       "  </tbody>\n",
       "</table>\n",
       "</div>"
      ],
      "text/plain": [
       "   wins nominations\n",
       "16    5           6\n",
       "17    3           0\n",
       "18   13           1\n",
       "19    1           0\n",
       "20    6           0\n",
       "21    2           1"
      ]
     },
     "execution_count": 13,
     "metadata": {},
     "output_type": "execute_result"
    }
   ],
   "source": [
    "myDF.iloc [16:22]  #4.3, Print rows from 16 to 21 [ specify this as a range in iloc]"
   ]
  },
  {
   "cell_type": "code",
   "execution_count": 14,
   "metadata": {},
   "outputs": [
    {
     "data": {
      "text/plain": [
       "16     5\n",
       "17     3\n",
       "18    13\n",
       "19     1\n",
       "20     6\n",
       "21     2\n",
       "Name: wins, dtype: object"
      ]
     },
     "execution_count": 14,
     "metadata": {},
     "output_type": "execute_result"
    }
   ],
   "source": [
    "myDF.iloc [16:22]['wins']  #4.4, Print rows from 16 to 21 for wins"
   ]
  },
  {
   "cell_type": "code",
   "execution_count": 15,
   "metadata": {},
   "outputs": [
    {
     "data": {
      "text/plain": [
       "'0'"
      ]
     },
     "execution_count": 15,
     "metadata": {},
     "output_type": "execute_result"
    }
   ],
   "source": [
    "myDF.iloc [0,1]  #4.5, access the df at 0 an 1."
   ]
  },
  {
   "cell_type": "markdown",
   "metadata": {},
   "source": [
    "# 5. Visualizations in Pandas\n",
    "\n",
    "Pandas provide a simple wrapper around matplotlib visualizations. "
   ]
  },
  {
   "cell_type": "markdown",
   "metadata": {},
   "source": [
    "Task 5: \n",
    "    1. Visualize using plot method.\n",
    "    2 . Visualize the histogram  [default bin size is 10] ."
   ]
  },
  {
   "cell_type": "code",
   "execution_count": 17,
   "metadata": {},
   "outputs": [],
   "source": [
    "tempDf = imdbDF[ ['reviews']]"
   ]
  },
  {
   "cell_type": "code",
   "execution_count": 20,
   "metadata": {},
   "outputs": [
    {
     "data": {
      "text/plain": [
       "<matplotlib.axes._subplots.AxesSubplot at 0x1eb6790c5f8>"
      ]
     },
     "execution_count": 20,
     "metadata": {},
     "output_type": "execute_result"
    },
    {
     "data": {
      "image/png": "[encoded data removed]",
      "text/plain": [
       "<Figure size 432x288 with 1 Axes>"
      ]
     },
     "metadata": {
      "needs_background": "light"
     },
     "output_type": "display_data"
    }
   ],
   "source": [
    "tempDf.plot()"
   ]
  },
  {
   "cell_type": "code",
   "execution_count": 19,
   "metadata": {},
   "outputs": [
    {
     "data": {
      "text/plain": [
       "<matplotlib.axes._subplots.AxesSubplot at 0x1eb663130f0>"
      ]
     },
     "execution_count": 19,
     "metadata": {},
     "output_type": "execute_result"
    },
    {
     "data": {
      "image/png": "[encoded data removed]",
      "text/plain": [
       "<Figure size 432x288 with 1 Axes>"
      ]
     },
     "metadata": {
      "needs_background": "light"
     },
     "output_type": "display_data"
    }
   ],
   "source": [
    "tempDf.plot.hist()  #7.3 call hist under plot module."
   ]
  },
  {
   "cell_type": "markdown",
   "metadata": {},
   "source": [
    "Refer for more Pandas Visualization from https://pandas.pydata.org/pandas-docs/stable/user_guide/visualization.html "
   ]
  }
 ],
 "metadata": {
  "kernelspec": {
   "display_name": "Python 3",
   "language": "python",
   "name": "python3"
  },
  "language_info": {
   "codemirror_mode": {
    "name": "ipython",
    "version": 3
   },
   "file_extension": ".py",
   "mimetype": "text/x-python",
   "name": "python",
   "nbconvert_exporter": "python",
   "pygments_lexer": "ipython3",
   "version": "3.7.3"
  }
 },
 "nbformat": 4,
 "nbformat_minor": 2
}
