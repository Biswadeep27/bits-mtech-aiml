{
 "cells": [
  {
   "cell_type": "code",
   "execution_count": 1,
   "metadata": {},
   "outputs": [],
   "source": [
    "import os\n",
    "import numpy as np\n",
    "import pandas as pd\n",
    "from dotenv import load_dotenv"
   ]
  },
  {
   "cell_type": "code",
   "execution_count": 3,
   "metadata": {},
   "outputs": [
    {
     "name": "stdout",
     "output_type": "stream",
     "text": [
      "Input data yeast.csv found.\n"
     ]
    }
   ],
   "source": [
    "load_dotenv()\n",
    "\n",
    "data_dir = os.path.abspath(os.getenv('BITS_DATA_DIR_ML_ASSN1'))\n",
    "DATASET_NAME = 'yeast.csv'\n",
    "\n",
    "__location__ = os.path.realpath(data_dir)\n",
    "for dirname, _, filenames in os.walk(__location__):\n",
    "    for filename in filenames:\n",
    "        if filename == DATASET_NAME:\n",
    "            input_data = os.path.join(dirname, filename)\n",
    "            break\n",
    "\n",
    "try:\n",
    "    assert input_data is not None\n",
    "    print(f'Input data {DATASET_NAME} found.')\n",
    "except:\n",
    "    raise Exception(f'Input dataset {DATASET_NAME} not found.')"
   ]
  },
  {
   "cell_type": "code",
   "execution_count": null,
   "metadata": {},
   "outputs": [],
   "source": []
  }
 ],
 "metadata": {
  "kernelspec": {
   "display_name": "venv_bits",
   "language": "python",
   "name": "python3"
  },
  "language_info": {
   "codemirror_mode": {
    "name": "ipython",
    "version": 3
   },
   "file_extension": ".py",
   "mimetype": "text/x-python",
   "name": "python",
   "nbconvert_exporter": "python",
   "pygments_lexer": "ipython3",
   "version": "3.11.3"
  },
  "orig_nbformat": 4
 },
 "nbformat": 4,
 "nbformat_minor": 2
}
