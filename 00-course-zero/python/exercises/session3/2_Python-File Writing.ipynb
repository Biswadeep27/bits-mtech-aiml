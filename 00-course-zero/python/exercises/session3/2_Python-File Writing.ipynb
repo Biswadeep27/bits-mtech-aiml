{
 "cells": [
  {
   "cell_type": "markdown",
   "metadata": {},
   "source": [
    "<center> <img src =\"https://i.postimg.cc/1X8H7YYt/BITS-Logo.png\" width = \"400\" alt=\"BITS Pilani Logo\" /> </center>"
   ]
  },
  {
   "cell_type": "markdown",
   "metadata": {},
   "source": [
    "<font color='green'> <h1> <center> Python-File Writing </center> </h1> </font>"
   ]
  },
  {
   "cell_type": "markdown",
   "metadata": {},
   "source": [
    "<b> Writing to a file - using print() function<b>"
   ]
  },
  {
   "cell_type": "markdown",
   "metadata": {},
   "source": [
    "In order to write to a file, need to open the file first, in write mode. Then print() function can be used to write contents into the file. In order to persist the changes, the file needs to be closed. "
   ]
  },
  {
   "cell_type": "code",
   "execution_count": null,
   "metadata": {},
   "outputs": [],
   "source": [
    "file_name = \"first_file.txt\"  #name of file in which content needs to be added\n",
    "\n",
    "file = open(file_name, 'w') # open it in write mode\n",
    "\n",
    "print('This is file handling', file= file)   # add some content into the file\n",
    "print('This is file writing', file= file)\n",
    "print('This will add content into the file', file= file)\n",
    "\n",
    "file.close() #close the file"
   ]
  },
  {
   "cell_type": "markdown",
   "metadata": {},
   "source": [
    "Lets read back the content of file. "
   ]
  },
  {
   "cell_type": "code",
   "execution_count": null,
   "metadata": {},
   "outputs": [],
   "source": [
    "file_name = \"first_file.txt\"\n",
    "\n",
    "file = open(file_name)\n",
    "print(file.read())"
   ]
  },
  {
   "cell_type": "markdown",
   "metadata": {},
   "source": [
    "Lets add the content into file again."
   ]
  },
  {
   "cell_type": "code",
   "execution_count": null,
   "metadata": {},
   "outputs": [],
   "source": [
    "file_name = \"first_file.txt\"  #name of file in which content needs to be added\n",
    "\n",
    "file = open(file_name, 'w') # open it in write mode\n",
    "\n",
    "print('This is differnt content', file= file)   # add some content into the file\n",
    "print('Lets see if this is persisted or not', file= file)\n",
    "\n",
    "file.close() #close the file"
   ]
  },
  {
   "cell_type": "markdown",
   "metadata": {},
   "source": [
    "Lets read back the content of file."
   ]
  },
  {
   "cell_type": "code",
   "execution_count": null,
   "metadata": {},
   "outputs": [],
   "source": [
    "file_name = \"first_file.txt\"\n",
    "\n",
    "file = open(file_name)\n",
    "print(file.read())"
   ]
  },
  {
   "cell_type": "markdown",
   "metadata": {},
   "source": [
    "If the file is existing, then its content are overwritten. "
   ]
  },
  {
   "cell_type": "markdown",
   "metadata": {},
   "source": [
    "<b> Another way to write into file - using write() function <b>"
   ]
  },
  {
   "cell_type": "markdown",
   "metadata": {},
   "source": [
    "Lets see how write() function can be used to write content into file. "
   ]
  },
  {
   "cell_type": "code",
   "execution_count": null,
   "metadata": {},
   "outputs": [],
   "source": [
    "file_name = \"students.txt\"\n",
    "\n",
    "fout = open(file_name, \"w\")\n",
    "\n",
    "fout.write(\"Pravin, 10, 20, 30\\n\")\n",
    "fout.write(\"PYP, 11, 20, 33\\n\")\n",
    "fout.write(\"Pawar, 10, 34, 23\\n\")\n",
    "fout.write(\"PRavin Pawar, 8, 17, 34\\n\")\n",
    "\n",
    "fout.close()"
   ]
  },
  {
   "cell_type": "markdown",
   "metadata": {},
   "source": [
    "Lets read back the content of file."
   ]
  },
  {
   "cell_type": "code",
   "execution_count": null,
   "metadata": {},
   "outputs": [],
   "source": [
    "file_name = \"students.txt\"\n",
    "\n",
    "file = open(file_name)\n",
    "\n",
    "for line in file:\n",
    "    print(line)"
   ]
  },
  {
   "cell_type": "markdown",
   "metadata": {},
   "source": [
    "<b> Writing to a file - append mode <b>"
   ]
  },
  {
   "cell_type": "markdown",
   "metadata": {},
   "source": [
    "If one need to write to the existing file, then file can be opened in append mode as shown in following example."
   ]
  },
  {
   "cell_type": "code",
   "execution_count": 3,
   "metadata": {},
   "outputs": [],
   "source": [
    "file_name = \"students.txt\"\n",
    "\n",
    "fout = open(file_name, \"a\")\n",
    "fout.write(\"Rishikesh, 10, 20, 30\\n\")\n",
    "fout.write(\"Ritika, 10, 20, 30\\n\")\n",
    "fout.close()"
   ]
  },
  {
   "cell_type": "markdown",
   "metadata": {},
   "source": [
    "# Exercise"
   ]
  },
  {
   "cell_type": "markdown",
   "metadata": {},
   "source": [
    "Q1. Write a program that reads a list of tempratures from a file called temps.txt, converts those temperatures into Farenheit and writes the result into file called ftemps.txt."
   ]
  },
  {
   "cell_type": "code",
   "execution_count": null,
   "metadata": {},
   "outputs": [],
   "source": [
    "#Try it here\n"
   ]
  },
  {
   "cell_type": "markdown",
   "metadata": {},
   "source": [
    "Q2. You are given a file called employees.txt. A typical line in the file looks like :<br>\n",
    "    Pravin pawar     pravin.pawar@gmail.com  12341234<br>\n",
    "There is a name, email address and contact number, each separated by tabs. Write a program that reads through the file line-by-line, and for each line, capitalizes the first letter of first name and last name and adds code \"91-20\" to the contact number. Your program should write this to a new file called employees2.txt. Here is what the first line of the new file should look like : <br>    \n",
    "    Pravin Pawar     pravin.pawar@gmail.com  91-20-12341234<br>"
   ]
  },
  {
   "cell_type": "code",
   "execution_count": null,
   "metadata": {},
   "outputs": [],
   "source": [
    "#Try it here\n"
   ]
  },
  {
   "cell_type": "markdown",
   "metadata": {},
   "source": [
    "# Solution"
   ]
  },
  {
   "cell_type": "code",
   "execution_count": null,
   "metadata": {},
   "outputs": [],
   "source": [
    "#Solution 1\n",
    "\n",
    "temp_file_name = \"temps.txt\"\n",
    "f_temp_file_name = \"ftemps.txt\"\n",
    "\n",
    "temp = []\n",
    "f_temp = []\n",
    "\n",
    "temp_file = open(temp_file_name)\n",
    "\n",
    "for line in temp_file:\n",
    "    tmp = float(line)\n",
    "    temp.append(tmp)\n",
    "    \n",
    "    ftemp = (tmp * 9 / 5) + 32\n",
    "    f_temp.append(ftemp)\n",
    "    \n",
    "    #print(tmp, \"  \", ftemp)\n",
    "    \n",
    "temp_file.close()    \n",
    "\n",
    "f_temp_file = open(f_temp_file_name, \"w\")\n",
    "\n",
    "for t in f_temp:\n",
    "    #print(t)\n",
    "    f_temp_file.write(str(t) + \"\\n\")\n",
    "\n",
    "f_temp_file.close()"
   ]
  },
  {
   "cell_type": "code",
   "execution_count": null,
   "metadata": {},
   "outputs": [],
   "source": [
    "#Solution 2\n",
    "\n",
    "emp_file_name = \"employees.txt\"\n",
    "emp_file_name2 = \"employees2.txt\"\n",
    "\n",
    "emp_names = []\n",
    "emails = []\n",
    "contacts = []\n",
    "\n",
    "emp_file = open(emp_file_name)\n",
    "\n",
    "for line in emp_file:\n",
    "    words = line.split(\"\\\\t\")\n",
    "    emp_names.append(words[0])\n",
    "    emails.append(words[1])\n",
    "    contacts.append(words[2])\n",
    "    \n",
    "emp_file.close()\n",
    "   \n",
    "emp_file2 = open(emp_file_name2, \"w\")\n",
    "\n",
    "index = 0 \n",
    "for emp_name in emp_names:\n",
    "    \n",
    "    emp_name_parts = emp_name.split()\n",
    "    modified_name = \"\"\n",
    "    for part in emp_name_parts:\n",
    "        if part[0].islower():\n",
    "            first_part = part[0].upper()\n",
    "            remaining_part = part[1:]\n",
    "            modified_part = first_part + remaining_part            \n",
    "        else:\n",
    "            modified_part = part\n",
    "        modified_name = modified_name + \" \" + modified_part    \n",
    "\n",
    "    emp_file2.write(modified_name + \"\\t\")        \n",
    "    modified_name = \"\"     \n",
    "        \n",
    "    emp_file2.write(emails[index] + \"\\t\") \n",
    "    \n",
    "    contact = contacts[index]\n",
    "    contact = \"91-20-\" + contact\n",
    "    emp_file2.write(contact) \n",
    "    \n",
    "    index = index + 1\n",
    "    emp_file2.write(\"\\n\")  \n",
    "    \n",
    "emp_file2.close()                                       "
   ]
  }
 ],
 "metadata": {
  "kernelspec": {
   "display_name": "Python 3",
   "language": "python",
   "name": "python3"
  },
  "language_info": {
   "codemirror_mode": {
    "name": "ipython",
    "version": 3
   },
   "file_extension": ".py",
   "mimetype": "text/x-python",
   "name": "python",
   "nbconvert_exporter": "python",
   "pygments_lexer": "ipython3",
   "version": "3.8.5"
  }
 },
 "nbformat": 4,
 "nbformat_minor": 2
}
