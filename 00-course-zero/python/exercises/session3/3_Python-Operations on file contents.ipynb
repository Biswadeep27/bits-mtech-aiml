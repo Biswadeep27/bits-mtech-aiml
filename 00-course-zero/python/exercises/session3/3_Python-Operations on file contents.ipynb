{
 "cells": [
  {
   "cell_type": "markdown",
   "metadata": {},
   "source": [
    "<center> <img src =\"https://i.postimg.cc/1X8H7YYt/BITS-Logo.png\" width = \"400\" alt=\"BITS Pilani Logo\" /> </center>"
   ]
  },
  {
   "cell_type": "markdown",
   "metadata": {},
   "source": [
    "<font color='green'> <h1> <center> Python-Operations on file contents </center> </h1> </font>"
   ]
  },
  {
   "cell_type": "markdown",
   "metadata": {},
   "source": [
    "Lets see some examples that helps us to carry out certain operations on the file contents like processing the contents of file."
   ]
  },
  {
   "cell_type": "markdown",
   "metadata": {},
   "source": [
    "<b> Example1 - finding a user defined word from the user defined file name<b>"
   ]
  },
  {
   "cell_type": "code",
   "execution_count": null,
   "metadata": {},
   "outputs": [],
   "source": [
    "file_name = input(\"Enter the file name \\n\")\n",
    "word = input(\"Enter word to be searched in file \")\n",
    "\n",
    "try:\n",
    "    file = open(file_name)\n",
    "    \n",
    "    for line in file:\n",
    "        if line.find(word) == -1:\n",
    "            continue\n",
    "        print(line)    \n",
    "    file.close()            \n",
    "except:\n",
    "    print(\"File \", file_name, \" not found.\")\n",
    "    \n",
    "  "
   ]
  },
  {
   "cell_type": "markdown",
   "metadata": {},
   "source": [
    "<b> Example 2 - Reading content from file doing data processing on it <b> "
   ]
  },
  {
   "cell_type": "markdown",
   "metadata": {},
   "source": [
    "The file marks.txt contains the marks of students for different evaluation components. Lets do the addition of the marks for each student and then determine whether he passed or failed (passing marks = 40)."
   ]
  },
  {
   "cell_type": "code",
   "execution_count": null,
   "metadata": {},
   "outputs": [],
   "source": [
    "file_name = \"marks.txt\"\n",
    "\n",
    "try:\n",
    "    file = open(file_name)\n",
    "    \n",
    "    names = []\n",
    "    assign_marks = []\n",
    "    midsem_marks = []\n",
    "    compre_marks = []\n",
    "    \n",
    "    for line in file:\n",
    "        words = line.split()\n",
    "        \n",
    "        names.append(words[0])\n",
    "        assign_marks.append(int(words[1]))\n",
    "        midsem_marks.append(int(words[2]))\n",
    "        compre_marks.append(int(words[3]))\n",
    "        \n",
    "    index = 0     \n",
    "    for name in names:\n",
    "        total_marks = assign_marks[index] + midsem_marks[index] + compre_marks[index]\n",
    "        if total_marks <= 40 :\n",
    "            print(\"Studnet \", name, \" failed to pass the exam.\", \" Total marks obtained = \", total_marks)\n",
    "        else:\n",
    "            print(\"Studnet \", name, \" passed the exam.\", \" Total marks obtained = \", total_marks)\n",
    "        print()\n",
    "        index = index + 1\n",
    "        \n",
    "    file.close()    \n",
    "        \n",
    "except:\n",
    "    print(\"Some issue with file processing.\")"
   ]
  },
  {
   "cell_type": "markdown",
   "metadata": {},
   "source": [
    "# Exercise "
   ]
  },
  {
   "cell_type": "markdown",
   "metadata": {},
   "source": [
    "Q1. Read the content of wordlist.txt file and determine <br>\n",
    "    - all three letter words \n",
    "    - the biggest word \n",
    "    - list of duplicate words"
   ]
  },
  {
   "cell_type": "code",
   "execution_count": null,
   "metadata": {},
   "outputs": [],
   "source": [
    "#Try it here\n"
   ]
  },
  {
   "cell_type": "markdown",
   "metadata": {},
   "source": [
    "Q2. You are given a file called users.txt that lists log-on and log-oof times for users of a system. A typical line of the file looks like this : <br>\n",
    "    Pravin,14:22,14.37<br>\n",
    "    Pawar,13.24,13.56<br>\n",
    "Each line has three entries separated by commas : a username, a log-on time and a log-off time. Times are given in 24-hour format. You may assume that all log-ons and log-offs occurs within a single workday. <br>\n",
    "Write a program that scans through the file and prints out all users who were online for at least an hour."
   ]
  },
  {
   "cell_type": "code",
   "execution_count": null,
   "metadata": {},
   "outputs": [],
   "source": [
    "#Try it here\n"
   ]
  },
  {
   "cell_type": "markdown",
   "metadata": {},
   "source": [
    "# Solution"
   ]
  },
  {
   "cell_type": "code",
   "execution_count": null,
   "metadata": {},
   "outputs": [],
   "source": [
    "# Solution1\n",
    "file_name = \"wordlist.txt\"\n",
    "\n",
    "file = open(file_name)\n",
    "\n",
    "all_3_letter_words = []\n",
    "\n",
    "largest_word = \"\"\n",
    "largest_word_size = 0 \n",
    "\n",
    "all_unique_words = []\n",
    "duplicate_words = []\n",
    "\n",
    "for line in file:\n",
    "    word = line.strip()\n",
    "\n",
    "    if len(word) == 3:\n",
    "        all_3_letter_words.append(word)\n",
    "    \n",
    "    if len(word) > largest_word_size:\n",
    "        largest_word_size = len(word)\n",
    "        largest_word = word\n",
    "    \n",
    "    if word in all_unique_words:\n",
    "        duplicate_words.append(word)\n",
    "    else:\n",
    "        all_unique_words.append(word)\n",
    "        \n",
    "        \n",
    "print(\"All three letter words : \")        \n",
    "for word in all_3_letter_words:\n",
    "    print(word)\n",
    "print()    \n",
    "\n",
    "print(\"largest_word---->\", largest_word)\n",
    "print()\n",
    "\n",
    "print(\"All duplicate words : \")        \n",
    "for word in duplicate_words:\n",
    "    print(word)    \n",
    "print()\n",
    "\n",
    "print(\"All unique words : \")        \n",
    "for word in all_unique_words:\n",
    "    print(word)    \n",
    "print()\n",
    "\n",
    "file.close()"
   ]
  },
  {
   "cell_type": "code",
   "execution_count": null,
   "metadata": {},
   "outputs": [],
   "source": [
    "# Solution2\n",
    "\n",
    "file_name = \"users.txt\"\n",
    "\n",
    "file = open(file_name)\n",
    "\n",
    "u_names = []\n",
    "start_times = []\n",
    "end_times = []\n",
    "\n",
    "for line in file:\n",
    "    words = line.split(\",\")\n",
    "    \n",
    "    u_names.append(words[0])\n",
    "    start_times.append(words[1])\n",
    "    end_times.append(words[2])\n",
    "\n",
    "index = 0 \n",
    "for u_name in u_names:\n",
    "    #print(u_name, \" \" , start_times[index], \" \", end_times[index])\n",
    "    \n",
    "    #convert start time into hours and minutes\n",
    "    start_time = start_times[index]\n",
    "    splitted_start_time = start_time.split(\":\")\n",
    "    \n",
    "    end_time = end_times[index]\n",
    "    splitted_end_time = end_time.split(\":\")\n",
    "\n",
    "    start_hour = int(splitted_start_time[0])\n",
    "    end_hour = int(splitted_end_time[0])\n",
    "    \n",
    "    if end_hour - start_hour >= 1 :\n",
    "        print(\"User \", u_name, \" logged in for more than one hour\")\n",
    "    index = index + 1\n",
    "    \n",
    "    #print(\"******\\n\")\n",
    "file.close()"
   ]
  },
  {
   "cell_type": "code",
   "execution_count": null,
   "metadata": {},
   "outputs": [],
   "source": []
  }
 ],
 "metadata": {
  "kernelspec": {
   "display_name": "Python 3",
   "language": "python",
   "name": "python3"
  },
  "language_info": {
   "codemirror_mode": {
    "name": "ipython",
    "version": 3
   },
   "file_extension": ".py",
   "mimetype": "text/x-python",
   "name": "python",
   "nbconvert_exporter": "python",
   "pygments_lexer": "ipython3",
   "version": "3.8.5"
  }
 },
 "nbformat": 4,
 "nbformat_minor": 2
}
