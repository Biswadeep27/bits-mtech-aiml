{
 "cells": [
  {
   "cell_type": "markdown",
   "metadata": {},
   "source": [
    "<center> <img src =\"https://i.postimg.cc/1X8H7YYt/BITS-Logo.png\" width = \"400\" alt=\"BITS Pilani Logo\" /> </center>"
   ]
  },
  {
   "cell_type": "markdown",
   "metadata": {},
   "source": [
    "<font color='green'> <h1> <center> Built in Functions </center> </h1> </font>"
   ]
  },
  {
   "cell_type": "markdown",
   "metadata": {},
   "source": [
    "Built-in functions are developed by creators of Python and are we can use them without defining them. we can just call them using the function name and with argument (if they accept any). "
   ]
  },
  {
   "cell_type": "markdown",
   "metadata": {},
   "source": [
    "len() is built-in function that returns the number of elements present in data structure."
   ]
  },
  {
   "cell_type": "code",
   "execution_count": null,
   "metadata": {},
   "outputs": [],
   "source": [
    "help(len)"
   ]
  },
  {
   "cell_type": "code",
   "execution_count": null,
   "metadata": {},
   "outputs": [],
   "source": [
    "my_list = ['a', 'f', 1, 3, 4]\n",
    "len(my_list)"
   ]
  },
  {
   "cell_type": "markdown",
   "metadata": {},
   "source": [
    "max() is built-in function that returns the maximum element from the given data structure"
   ]
  },
  {
   "cell_type": "code",
   "execution_count": null,
   "metadata": {},
   "outputs": [],
   "source": [
    "help(max)"
   ]
  },
  {
   "cell_type": "code",
   "execution_count": null,
   "metadata": {},
   "outputs": [],
   "source": [
    "my_list = [1, 2, 3, 4, 5]\n",
    "max(my_list)"
   ]
  },
  {
   "cell_type": "markdown",
   "metadata": {},
   "source": [
    "min() is built-in function that returns the minimum element from the given data structure"
   ]
  },
  {
   "cell_type": "code",
   "execution_count": null,
   "metadata": {},
   "outputs": [],
   "source": [
    "my_list = [1, 2, 3, 4, 5]\n",
    "min(my_list)"
   ]
  },
  {
   "cell_type": "markdown",
   "metadata": {},
   "source": [
    "sum() is built-in function that returns the sum of elements in the given data structure"
   ]
  },
  {
   "cell_type": "code",
   "execution_count": null,
   "metadata": {},
   "outputs": [],
   "source": [
    "my_list = [1, 2, 3, 4, 5]\n",
    "sum(my_list)"
   ]
  },
  {
   "cell_type": "markdown",
   "metadata": {},
   "source": [
    "type() - returns the type of variable or object"
   ]
  },
  {
   "cell_type": "code",
   "execution_count": null,
   "metadata": {},
   "outputs": [],
   "source": [
    "x = 5.6 \n",
    "print(\"type of x is \", type(x))\n",
    "\n",
    "x = 4 \n",
    "print(\"type of x is \", type(x))\n",
    "\n",
    "x = \"string\"\n",
    "print(\"type of x is \", type(x))\n"
   ]
  },
  {
   "cell_type": "markdown",
   "metadata": {},
   "source": [
    "sorted() arranges the list of elements in specified order."
   ]
  },
  {
   "cell_type": "code",
   "execution_count": null,
   "metadata": {},
   "outputs": [],
   "source": [
    "my_list = [1, 4, -3, -4, 0, 5 ]\n",
    "print(sorted(my_list))\n",
    "\n",
    "my_tuple = (1, 4, -3, -4, 0, 5 )\n",
    "print(sorted(my_tuple))"
   ]
  },
  {
   "cell_type": "markdown",
   "metadata": {},
   "source": [
    "reversed() returns the list of elements in reversed order"
   ]
  },
  {
   "cell_type": "code",
   "execution_count": null,
   "metadata": {},
   "outputs": [],
   "source": [
    "my_list = [1, 4, -3, -4, 0, 5 ]\n",
    "reversed_list = list(reversed(my_list))\n",
    "print(reversed_list)\n",
    "\n",
    "my_tuple = (1, 4, -3, -4, 0, 5 )\n",
    "reversed_tuple = list(reversed(my_tuple))\n",
    "print(reversed_tuple)"
   ]
  },
  {
   "cell_type": "markdown",
   "metadata": {},
   "source": [
    "<b> Type conversion functions <b>"
   ]
  },
  {
   "cell_type": "markdown",
   "metadata": {},
   "source": [
    "Python provides us built-in functions that helps to convert one variable to the other variable type. <br>\n",
    "For example, <br>\n",
    "int() <br> - converts float, Boolean or string into integer <br>\n",
    "float() <br> - converts int, Boolean or string into float <br>\n",
    "str() <br> - converts float, Boolean or integer into string <br>\n",
    "bool() <br> - converts float, string or integer into boolean <br>"
   ]
  },
  {
   "cell_type": "code",
   "execution_count": null,
   "metadata": {},
   "outputs": [],
   "source": [
    "int('123')  #converts string '123' to number 123"
   ]
  },
  {
   "cell_type": "code",
   "execution_count": null,
   "metadata": {},
   "outputs": [],
   "source": [
    "float(123)  #converts integer 123 to number 123.0"
   ]
  },
  {
   "cell_type": "code",
   "execution_count": null,
   "metadata": {},
   "outputs": [],
   "source": [
    "str(123.45) #converts string 123.45 to string \"123.45\""
   ]
  },
  {
   "cell_type": "code",
   "execution_count": null,
   "metadata": {},
   "outputs": [],
   "source": [
    "bool(1)"
   ]
  },
  {
   "cell_type": "markdown",
   "metadata": {},
   "source": [
    "# Calling functions from built-in modules"
   ]
  },
  {
   "cell_type": "markdown",
   "metadata": {},
   "source": [
    "<b> Random number functions <b>"
   ]
  },
  {
   "cell_type": "markdown",
   "metadata": {},
   "source": [
    "Functions are part of modules as well. Random module is available as part of core Python language. One just need to import random module in order to use the functions defined in it. Once imported, the fucntions can be called in as usual i.e. with or without passing arguments to it."
   ]
  },
  {
   "cell_type": "code",
   "execution_count": null,
   "metadata": {},
   "outputs": [],
   "source": [
    "import random\n",
    "\n",
    "help(random)\n",
    "\n",
    "print(random.random()  )"
   ]
  },
  {
   "cell_type": "code",
   "execution_count": null,
   "metadata": {},
   "outputs": [],
   "source": [
    "print(random.randint(5, 10))  #every time generates the random number between the range i.e. 5 to 10\n",
    "print(random.randint(5, 10))\n",
    "print(random.randint(5, 10))\n",
    "print(random.randint(5, 10))"
   ]
  },
  {
   "cell_type": "code",
   "execution_count": null,
   "metadata": {},
   "outputs": [],
   "source": [
    "for i in range(5):\n",
    "    print(random.randint(1, 100))"
   ]
  },
  {
   "cell_type": "markdown",
   "metadata": {},
   "source": [
    "<b> Math functions<b>"
   ]
  },
  {
   "cell_type": "markdown",
   "metadata": {},
   "source": [
    "Math package is available by default. One can import it in the program and can call the functions defined in it. "
   ]
  },
  {
   "cell_type": "code",
   "execution_count": null,
   "metadata": {},
   "outputs": [],
   "source": [
    "import math\n",
    "\n",
    "print(math.floor(1.4))\n",
    "print(math.ceil(1.4))\n",
    "print(math.isnan(2))\n",
    "print(math.sqrt(5))"
   ]
  },
  {
   "cell_type": "markdown",
   "metadata": {},
   "source": [
    "# Exercise "
   ]
  },
  {
   "cell_type": "markdown",
   "metadata": {},
   "source": [
    "Q1. Explore different built in functions available on string data structure for <br>\n",
    "        - determining whether a string is alphanumeric or not\n",
    "        - finding out index of a substring\n",
    "        - finding out whether string is identifier or not"
   ]
  },
  {
   "cell_type": "code",
   "execution_count": null,
   "metadata": {},
   "outputs": [],
   "source": [
    "#Try it here\n"
   ]
  },
  {
   "cell_type": "markdown",
   "metadata": {},
   "source": [
    "Q2. Explore following Python built in functions. <br>\n",
    "- abs\n",
    "- dir\n",
    "- eval\n",
    "- format\n",
    "- range \n",
    "- round"
   ]
  },
  {
   "cell_type": "code",
   "execution_count": null,
   "metadata": {},
   "outputs": [],
   "source": [
    "#Try it here\n"
   ]
  },
  {
   "cell_type": "markdown",
   "metadata": {},
   "source": [
    "Q3. Explore the functions in built-in module calendar."
   ]
  },
  {
   "cell_type": "code",
   "execution_count": null,
   "metadata": {},
   "outputs": [],
   "source": [
    "#Try it here\n"
   ]
  },
  {
   "cell_type": "markdown",
   "metadata": {},
   "source": [
    "# Solution"
   ]
  },
  {
   "cell_type": "code",
   "execution_count": null,
   "metadata": {},
   "outputs": [],
   "source": [
    "#Solution 1\n",
    "\n",
    "string = 'this is my string'\n",
    "\n",
    "#determining whether a string is alphanumeric or not\n",
    "print(string.isalnum())\n",
    "\n",
    "#finding out index of a substring\n",
    "print(string.find(\"is\"))\n",
    "\n",
    "\n",
    "#finding out whether string is empty or not\n",
    "print(string.isidentifier())\n",
    "\n",
    "string = \"if\"\n",
    "print(string.isidentifier())"
   ]
  },
  {
   "cell_type": "code",
   "execution_count": null,
   "metadata": {},
   "outputs": [],
   "source": [
    "#Solution 2\n",
    "#refer https://www.w3schools.com/python/python_ref_functions.asp"
   ]
  },
  {
   "cell_type": "code",
   "execution_count": null,
   "metadata": {},
   "outputs": [],
   "source": [
    "#Solution 3\n",
    "#reference https://www.guru99.com/calendar-in-python.html\n",
    "import calendar\n",
    "\n",
    "#TextCalendar\n",
    "\n",
    "#create a calendar starting with Sunday as first day \n",
    "txtCalendar = calendar.TextCalendar(calendar.SUNDAY)\n",
    "\n",
    "#Prepare calendar for June 2019\n",
    "calendar_string = txtCalendar.formatmonth(2019, 6)\n",
    "\n",
    "print(\"Calendar for June 2019\")\n",
    "print(calendar_string)\n",
    "\n",
    "#HTML Calendar \n",
    "#create a calendar starting with Thursday as first day \n",
    "htmlCalendar = calendar.HTMLCalendar(calendar.THURSDAY)\n",
    "\n",
    "#Prepare calendar for June 2019\n",
    "calendar_string = htmlCalendar.formatmonth(2019, 6)\n",
    "\n",
    "print(\"Calendar for June 2019\")\n",
    "print(calendar_string)\n",
    "\n",
    "#Loops over the days of a month by using itermonthday (year,month), it will fetch the total \n",
    "#number of days for that month.\n",
    "print(\"Days in January 1\")\n",
    "for i in txtCalendar.itermonthdays(2019, 1):\n",
    "    print(i)\n",
    "    \n",
    "#fetch the data from the local system, like months or weekdays, etc    \n",
    "print(\"Months list\")\n",
    "for month in calendar.month_name:\n",
    "    print(month)"
   ]
  }
 ],
 "metadata": {
  "kernelspec": {
   "display_name": "Python 3",
   "language": "python",
   "name": "python3"
  },
  "language_info": {
   "codemirror_mode": {
    "name": "ipython",
    "version": 3
   },
   "file_extension": ".py",
   "mimetype": "text/x-python",
   "name": "python",
   "nbconvert_exporter": "python",
   "pygments_lexer": "ipython3",
   "version": "3.8.5"
  }
 },
 "nbformat": 4,
 "nbformat_minor": 2
}
