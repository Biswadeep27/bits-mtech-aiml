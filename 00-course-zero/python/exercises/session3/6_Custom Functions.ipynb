{
 "cells": [
  {
   "cell_type": "markdown",
   "metadata": {},
   "source": [
    "<center> <img src =\"https://i.postimg.cc/1X8H7YYt/BITS-Logo.png\" width = \"400\" alt=\"BITS Pilani Logo\" /> </center>"
   ]
  },
  {
   "cell_type": "markdown",
   "metadata": {},
   "source": [
    "<font color='green'> <h1> <center> Custom Functions </center> </h1> </font>"
   ]
  },
  {
   "cell_type": "markdown",
   "metadata": {},
   "source": [
    "Lets explore some of examples of the custom functions. "
   ]
  },
  {
   "cell_type": "markdown",
   "metadata": {},
   "source": [
    "<b> Example 1 - Matches algorithm<b>"
   ]
  },
  {
   "cell_type": "markdown",
   "metadata": {},
   "source": [
    "Lets write a function called matches that takes two strings as arguments and returns how many matches there are between the strings. A match is where the two strings have same character at the same index. For instance, 'python' and 'path' match in the first, third and fourth characters, so it should return 3. "
   ]
  },
  {
   "cell_type": "code",
   "execution_count": null,
   "metadata": {},
   "outputs": [],
   "source": [
    "def matches(first_string, second_string):\n",
    "    \n",
    "    #Initialize required variables\n",
    "    len1 = len(first_string)\n",
    "    len2 = len(second_string)\n",
    "    match_count = 0 \n",
    "\n",
    "    #Iterate over string letters to find out matches\n",
    "    for index in range(len1):\n",
    "        if index < len2 and first_string[index] == second_string[index]:\n",
    "            match_count = match_count + 1\n",
    "            \n",
    "    return match_count\n",
    "\n",
    "\n",
    "#Test the function\n",
    "match_count = matches('python', 'path')\n",
    "print(\"The match count is \", match_count)"
   ]
  },
  {
   "cell_type": "markdown",
   "metadata": {},
   "source": [
    "<b> Example 2 - Sorting Algorithm<b>"
   ]
  },
  {
   "cell_type": "markdown",
   "metadata": {},
   "source": [
    "Lets write a function merge that takes two already sorted listes of possibly different lengths and merges them into a single sorted list. <br>\n",
    "    -Do this using the sort method <br>\n",
    "    -Do this without using the sort method "
   ]
  },
  {
   "cell_type": "code",
   "execution_count": null,
   "metadata": {},
   "outputs": [],
   "source": [
    "def merge(list1, list2, use_sort):\n",
    "    merged_list = []\n",
    "    \n",
    "    if use_sort:\n",
    "        print(\"Using sort function\")\n",
    "        merged_list.extend(list1)\n",
    "        merged_list.extend(list2)\n",
    "        merged_list.sort()\n",
    "    else:\n",
    "        print(\"Without using sort function\")\n",
    "        merged_list.extend(list1)\n",
    "        merged_list.extend(list2)\n",
    "       \n",
    "        #Implementing bubble sort \n",
    "        #Reference https://www.geeksforgeeks.org/bubble-sort/ \n",
    "        for outer_index in range(len(merged_list)):\n",
    "            for inner_index in range(len(merged_list)):\n",
    "                if (inner_index + 1 < len(merged_list)) and merged_list[outer_index] < merged_list[inner_index]:\n",
    "                    bigger_num = merged_list[outer_index]\n",
    "                    merged_list[outer_index] = merged_list[inner_index]\n",
    "                    merged_list[inner_index] = bigger_num\n",
    "\n",
    "    return merged_list\n",
    "\n",
    "list1 = [1, 2, 3, 4, 5]\n",
    "list2 = [ 1, 11, 45, 67]\n",
    "\n",
    "merged_list = merge(list1, list2, True)\n",
    "print(\"Merged list using sort function \", merged_list)\n",
    "print()\n",
    "\n",
    "merged_list = merge(list1, list2, False)\n",
    "print(\"Merged list without using sort function \", merged_list)\n",
    "print()"
   ]
  },
  {
   "cell_type": "markdown",
   "metadata": {},
   "source": [
    "<b>Example 3 - Search Algorithm <b>\n",
    "    "
   ]
  },
  {
   "cell_type": "markdown",
   "metadata": {},
   "source": [
    "Lets write a function search that takes list as first input and element to be searched in that list as second input. Function then returns the index of element if its present in the list otherise returns -1.<br>\n",
    "-Do this using the index method <br>\n",
    "-Do this without using the index method"
   ]
  },
  {
   "cell_type": "code",
   "execution_count": null,
   "metadata": {},
   "outputs": [],
   "source": [
    "def search(list1, element, use_search):\n",
    "    \n",
    "    returned_index = -1\n",
    "    \n",
    "    if use_search:\n",
    "        print(\"Using index function\")\n",
    "        returned_index = list1.index(element)\n",
    "    else:    \n",
    "        #Using linear search\n",
    "        index = 0\n",
    "        for list_element in list1:\n",
    "            if list_element == element:\n",
    "                returned_index = index\n",
    "                break\n",
    "            index = index + 1\n",
    "                \n",
    "    return returned_index\n",
    "\n",
    "list1 = [1, 4, 9, 3, 0]\n",
    "element = 4\n",
    "\n",
    "returned_index = search(list1, element, use_search = True)\n",
    "print(\"Using index function , returned index is \", returned_index)\n",
    "\n",
    "element = 8\n",
    "returned_index = search(list1, element, use_search = False)\n",
    "print(\"Without using index function , returned index is \", returned_index)"
   ]
  }
 ],
 "metadata": {
  "kernelspec": {
   "display_name": "Python 3",
   "language": "python",
   "name": "python3"
  },
  "language_info": {
   "codemirror_mode": {
    "name": "ipython",
    "version": 3
   },
   "file_extension": ".py",
   "mimetype": "text/x-python",
   "name": "python",
   "nbconvert_exporter": "python",
   "pygments_lexer": "ipython3",
   "version": "3.8.5"
  }
 },
 "nbformat": 4,
 "nbformat_minor": 2
}
