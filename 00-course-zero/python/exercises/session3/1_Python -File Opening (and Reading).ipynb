{
 "cells": [
  {
   "cell_type": "markdown",
   "metadata": {},
   "source": [
    "<center> <img src =\"https://i.postimg.cc/1X8H7YYt/BITS-Logo.png\" width = \"400\" alt=\"BITS Pilani Logo\" /> </center>"
   ]
  },
  {
   "cell_type": "markdown",
   "metadata": {},
   "source": [
    "<font color='green'> <h1> <center> Python -File Opening (and Reading) </center> </h1> </font>"
   ]
  },
  {
   "cell_type": "markdown",
   "metadata": {},
   "source": [
    "Data or text can be permanently in the files. The content present in the file are persisted even after the program execution is over.Python provides different ways by which files can be handled. "
   ]
  },
  {
   "cell_type": "markdown",
   "metadata": {},
   "source": [
    "<b> Ways to open the file<b>"
   ]
  },
  {
   "cell_type": "markdown",
   "metadata": {},
   "source": [
    "Assume that there is file named \"dummy_file.txt\" present in the current directory. Lets try to read the contents of that file using Python functions."
   ]
  },
  {
   "cell_type": "markdown",
   "metadata": {},
   "source": [
    "The content of the file looks as follows : <br>\n",
    "\n",
    "This is demo file. <br>\n",
    "It contains many lines in it. <br>\n",
    "Some lines are big, some are small. <br>\n",
    "Any python program can read this file. <br>\n",
    "Any pythonp program can write into this file. <br>"
   ]
  },
  {
   "cell_type": "markdown",
   "metadata": {},
   "source": [
    "<b>First way - using open function directly<b>"
   ]
  },
  {
   "cell_type": "code",
   "execution_count": null,
   "metadata": {},
   "outputs": [],
   "source": [
    "file = open(\"dummy_file.txt\")  # use the open function which takes file name as input, file handle is obtained as result\n",
    "file"
   ]
  },
  {
   "cell_type": "code",
   "execution_count": null,
   "metadata": {},
   "outputs": [],
   "source": [
    "file_content = file.read() # Read the content and store it in variable of type string\n",
    "file_content  # it contains new line characters in it "
   ]
  },
  {
   "cell_type": "markdown",
   "metadata": {},
   "source": [
    "<b> Second way - using list comprehensions<b>"
   ]
  },
  {
   "cell_type": "markdown",
   "metadata": {},
   "source": [
    "Look at the following code that demonstrates the process of reading the lines in a file using list comprehensions"
   ]
  },
  {
   "cell_type": "code",
   "execution_count": null,
   "metadata": {},
   "outputs": [],
   "source": [
    "lines = [ line for line in open(\"dummy_file.txt\")] # \n",
    "lines"
   ]
  },
  {
   "cell_type": "markdown",
   "metadata": {},
   "source": [
    "The above code generates the list containing lines of file as separate element of the list. For that purpose it uses list comprehension to iterate over the lines present in the file. "
   ]
  },
  {
   "cell_type": "markdown",
   "metadata": {},
   "source": [
    "Still it contains white space and newline character at the end of each line. That also can be removed using the list comprehensions."
   ]
  },
  {
   "cell_type": "code",
   "execution_count": null,
   "metadata": {},
   "outputs": [],
   "source": [
    "lines = [line.strip(\" \\n\") for line in open(\"dummy_file.txt\")]  #strip out \" \\n\" from each line that is read from file\n",
    "lines"
   ]
  },
  {
   "cell_type": "markdown",
   "metadata": {},
   "source": [
    "<b>Using file path<b>"
   ]
  },
  {
   "cell_type": "markdown",
   "metadata": {},
   "source": [
    "The file can be present in the directories. In that case, path needs to be provided while getting handle to that file. Assume that file \"dummy_file.txt\" is present in the \"dummy_dir\"."
   ]
  },
  {
   "cell_type": "code",
   "execution_count": null,
   "metadata": {},
   "outputs": [],
   "source": [
    "file1 = open(\"dummy_dir/dummy_file.txt\") # provide the file path while getting the handle to the file\n",
    "file_content1 = file1.read()\n",
    "file_content1"
   ]
  },
  {
   "cell_type": "markdown",
   "metadata": {},
   "source": [
    "<b> Handing file not found error <b>"
   ]
  },
  {
   "cell_type": "markdown",
   "metadata": {},
   "source": [
    "What will happen if the required file is not present? Error will be shown as follows :"
   ]
  },
  {
   "cell_type": "code",
   "execution_count": null,
   "metadata": {},
   "outputs": [],
   "source": [
    "no_file = open(\"my_file.txt\")"
   ]
  },
  {
   "cell_type": "markdown",
   "metadata": {},
   "source": [
    "Error trace is shown as a result of this failed open operation. This can be handler gracefully using the try / catch block."
   ]
  },
  {
   "cell_type": "code",
   "execution_count": null,
   "metadata": {},
   "outputs": [],
   "source": [
    "try:\n",
    "    no_file = open(\"my_file.txt\")\n",
    "    content = no_file.read()\n",
    "except :\n",
    "    print(\"File not present\")   "
   ]
  },
  {
   "cell_type": "markdown",
   "metadata": {},
   "source": [
    "This further can be improved by accepting the file name from the user and telling them whether the file exists or not."
   ]
  },
  {
   "cell_type": "code",
   "execution_count": null,
   "metadata": {},
   "outputs": [],
   "source": [
    "file_name = input(\"Enter the file name \\n\")\n",
    "try:\n",
    "    file = open(file_name)\n",
    "    print(\"File \", file_name, \" is present\")\n",
    "except:\n",
    "    print(\"File \", file_name, \" is not present\")\n",
    "    print(\"Recheck the file name entered\")    "
   ]
  },
  {
   "cell_type": "markdown",
   "metadata": {},
   "source": [
    "# Exercise "
   ]
  },
  {
   "cell_type": "markdown",
   "metadata": {},
   "source": [
    "Q1. Write a program that reads a file and prints out number of lines present in it. Also outputs the size of each line."
   ]
  },
  {
   "cell_type": "code",
   "execution_count": null,
   "metadata": {},
   "outputs": [],
   "source": [
    "#Try it here\n"
   ]
  },
  {
   "cell_type": "markdown",
   "metadata": {},
   "source": [
    "Q2. Write a program that reads a file and prints out number of words present in it. Also outputs the size of each word."
   ]
  },
  {
   "cell_type": "code",
   "execution_count": null,
   "metadata": {},
   "outputs": [],
   "source": [
    "#Try it here\n"
   ]
  },
  {
   "cell_type": "markdown",
   "metadata": {},
   "source": [
    "Q3. Write a program that reads a file and prints out occurences of each word. "
   ]
  },
  {
   "cell_type": "code",
   "execution_count": null,
   "metadata": {},
   "outputs": [],
   "source": [
    "#Try it here\n"
   ]
  },
  {
   "cell_type": "markdown",
   "metadata": {},
   "source": [
    "# Solution "
   ]
  },
  {
   "cell_type": "code",
   "execution_count": null,
   "metadata": {},
   "outputs": [],
   "source": [
    "#Solution 1\n",
    "\n",
    "file_name = \"dummy_file.txt\"\n",
    "\n",
    "file = open(file_name)  # get handle to the file\n",
    "\n",
    "file_content = file.read()  # read the contents of file\n",
    "\n",
    "lines = file_content.split(\"\\n\") # determine line by end line character\n",
    "\n",
    "print(\"The file \", file_name, \" contains \", len(lines), \" lines. \")\n",
    "\n",
    "line_no = 1\n",
    "for line in lines:\n",
    "    print(\"Line \", line_no, \"contains \", len(line), \" characters. \")\n",
    "    line_no = line_no + 1"
   ]
  },
  {
   "cell_type": "code",
   "execution_count": null,
   "metadata": {},
   "outputs": [],
   "source": [
    "#Solution 2\n",
    "\n",
    "file_name = \"dummy_file.txt\"\n",
    "\n",
    "file = open(file_name)  # get handle to the file\n",
    "\n",
    "file_content = file.read()  # read the contents of file\n",
    "\n",
    "lines = file_content.split(\"\\n\") # determine line by end line character\n",
    "\n",
    "print(\"The file \", file_name, \" contains \", len(lines), \" lines. \")\n",
    "\n",
    "line_no = 1\n",
    "for line in lines:\n",
    "    word = line.split()\n",
    "    print(\"Line \", line_no, \"contains \", len(word), \" words. \")\n",
    "    line_no = line_no + 1\n"
   ]
  },
  {
   "cell_type": "code",
   "execution_count": null,
   "metadata": {},
   "outputs": [],
   "source": [
    "#Solution 3\n",
    "\n",
    "file_name = \"dummy_file.txt\"\n",
    "\n",
    "file = open(file_name)  # get handle to the file\n",
    "\n",
    "file_content = file.read()  # read the contents of file\n",
    "\n",
    "lines = file_content.split(\"\\n\") # determine line by end line character\n",
    "\n",
    "print(\"The file \", file_name, \" contains \", len(lines), \" lines. \\n\")\n",
    "\n",
    "word_list = []  # list of unique words\n",
    "word_count = [] # list of unique word counts\n",
    "\n",
    "line_no = 1\n",
    "for line in lines:\n",
    "    words = line.split()\n",
    "    print(\"Line \", line_no, \"contains \", len(words), \" words. \")\n",
    "    \n",
    "    # Iterate over each word of each line, if word is present in the word list then increment count by one , otherwise add the \n",
    "    # word into the word list with initial count of 1\n",
    "    for word in words:\n",
    "        if word in word_list:\n",
    "            word_index = word_list.index(word)\n",
    "            word_count[word_index] = word_count[word_index ] + 1\n",
    "        else:\n",
    "            list_length = len(word_list)\n",
    "            word_list.append(word)\n",
    "            word_count.append(1)\n",
    "    line_no = line_no + 1\n",
    "    \n",
    "#print the word list with count\n",
    "print()\n",
    "\n",
    "index = 0 \n",
    "for word in word_list:\n",
    "    print(\"The word \\\"\", word , \"\\\" appears \", word_count[index], \" times.\")\n",
    "    index = index + 1\n"
   ]
  },
  {
   "cell_type": "code",
   "execution_count": null,
   "metadata": {},
   "outputs": [],
   "source": []
  }
 ],
 "metadata": {
  "kernelspec": {
   "display_name": "Python 3",
   "language": "python",
   "name": "python3"
  },
  "language_info": {
   "codemirror_mode": {
    "name": "ipython",
    "version": 3
   },
   "file_extension": ".py",
   "mimetype": "text/x-python",
   "name": "python",
   "nbconvert_exporter": "python",
   "pygments_lexer": "ipython3",
   "version": "3.8.5"
  }
 },
 "nbformat": 4,
 "nbformat_minor": 2
}
