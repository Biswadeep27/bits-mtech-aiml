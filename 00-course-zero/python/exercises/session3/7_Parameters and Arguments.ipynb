{
 "cells": [
  {
   "cell_type": "markdown",
   "metadata": {},
   "source": [
    "<center> <img src =\"https://i.postimg.cc/1X8H7YYt/BITS-Logo.png\" width = \"400\" alt=\"BITS Pilani Logo\" /> </center>"
   ]
  },
  {
   "cell_type": "markdown",
   "metadata": {},
   "source": [
    "\n",
    "<font color='green'> <h1> <center> Parameters and Arguments </center> </h1> </font>\n",
    "\n"
   ]
  },
  {
   "cell_type": "markdown",
   "metadata": {},
   "source": [
    "<b> Arguments<b>"
   ]
  },
  {
   "cell_type": "markdown",
   "metadata": {},
   "source": [
    "Arguments are values passed to the functions when function is called. "
   ]
  },
  {
   "cell_type": "markdown",
   "metadata": {},
   "source": [
    "<b>Parameters<b>"
   ]
  },
  {
   "cell_type": "markdown",
   "metadata": {},
   "source": [
    "Parameters are the values received by the function when it is called."
   ]
  },
  {
   "cell_type": "markdown",
   "metadata": {},
   "source": [
    "The variable names corresponding to the arguments and parameters can be same or different. For example, in the below example,both arguments and parameters are having same name but their scopes are different."
   ]
  },
  {
   "cell_type": "code",
   "execution_count": null,
   "metadata": {},
   "outputs": [],
   "source": [
    "def print_lines(number): #number is parameter\n",
    "    for i in range(number):\n",
    "        print(\"Line \", i , \"    \")"
   ]
  },
  {
   "cell_type": "code",
   "execution_count": null,
   "metadata": {},
   "outputs": [],
   "source": [
    "number = 5\n",
    "print_lines(number)  # number is argument"
   ]
  },
  {
   "cell_type": "markdown",
   "metadata": {},
   "source": [
    "Argument name and parameter names can be different. "
   ]
  },
  {
   "cell_type": "code",
   "execution_count": null,
   "metadata": {},
   "outputs": [],
   "source": [
    "def print_stars(times): #times is parameter\n",
    "    for i in range(times):\n",
    "        print(\"*\" * i)"
   ]
  },
  {
   "cell_type": "code",
   "execution_count": null,
   "metadata": {},
   "outputs": [],
   "source": [
    "number_of_times = 5 # number_of_times is argument\n",
    "print_stars(number_of_times)"
   ]
  },
  {
   "cell_type": "markdown",
   "metadata": {},
   "source": [
    "One can call functions with multiple arguments."
   ]
  },
  {
   "cell_type": "code",
   "execution_count": null,
   "metadata": {},
   "outputs": [],
   "source": [
    "def print_characters(character, times) :\n",
    "    for i in range(times):\n",
    "        print(character * i )"
   ]
  },
  {
   "cell_type": "code",
   "execution_count": null,
   "metadata": {},
   "outputs": [],
   "source": [
    "print_characters(\"#\", 5)  # function called with multiple arguments"
   ]
  },
  {
   "cell_type": "markdown",
   "metadata": {},
   "source": [
    "Parameter names can be use while calling the functions. "
   ]
  },
  {
   "cell_type": "code",
   "execution_count": null,
   "metadata": {},
   "outputs": [],
   "source": [
    "print_characters(character=\"*\", times = 5)  # function called with multiple arguments"
   ]
  },
  {
   "cell_type": "markdown",
   "metadata": {},
   "source": [
    "Parameter names can be use while calling the functions and their order can also be changed."
   ]
  },
  {
   "cell_type": "code",
   "execution_count": null,
   "metadata": {},
   "outputs": [],
   "source": [
    "print_characters(times = 4, character=\"@\", )  # function called with multiple arguments"
   ]
  },
  {
   "cell_type": "markdown",
   "metadata": {},
   "source": [
    "<b> Default parameters<b>"
   ]
  },
  {
   "cell_type": "markdown",
   "metadata": {},
   "source": [
    "One can specify default value for parameter. This makes it optional. If caller sets value for it, then that value is used, otherwise default value is used.  "
   ]
  },
  {
   "cell_type": "code",
   "execution_count": null,
   "metadata": {},
   "outputs": [],
   "source": [
    "#times has default value as 2\n",
    "def multiply(number, times = 2): \n",
    "    return number * times"
   ]
  },
  {
   "cell_type": "code",
   "execution_count": null,
   "metadata": {},
   "outputs": [],
   "source": [
    "#If times is not specified while calling multuply function , default of 2 is used\n",
    "multiply(5) "
   ]
  },
  {
   "cell_type": "code",
   "execution_count": null,
   "metadata": {},
   "outputs": [],
   "source": [
    "#If user specifies value for times then thats used\n",
    "multiply(5, 4)"
   ]
  },
  {
   "cell_type": "markdown",
   "metadata": {},
   "source": [
    "Default parameters needs to be specified at the end of parameter list, after all non default parameters."
   ]
  },
  {
   "cell_type": "code",
   "execution_count": null,
   "metadata": {},
   "outputs": [],
   "source": [
    "def add_and_multiply(number1, number2, number3, times=4):\n",
    "    return (number1 + number2 + number3) * times"
   ]
  },
  {
   "cell_type": "code",
   "execution_count": null,
   "metadata": {},
   "outputs": [],
   "source": [
    "#user does not specify the argument value\n",
    "add_and_multiply(1, 2, 3)"
   ]
  },
  {
   "cell_type": "code",
   "execution_count": null,
   "metadata": {},
   "outputs": [],
   "source": [
    "#user specified value for default parameter as well\n",
    "add_and_multiply(1, 2, 3, 5)"
   ]
  },
  {
   "cell_type": "markdown",
   "metadata": {},
   "source": [
    " <b> Argument modification<b>"
   ]
  },
  {
   "cell_type": "markdown",
   "metadata": {},
   "source": [
    "Based on whether argument type is mutable or immutable, the passed argument is changed in the function. "
   ]
  },
  {
   "cell_type": "markdown",
   "metadata": {},
   "source": [
    "If the argument type is immutable like integer, string then it will not get modified in the called function as its immutable. "
   ]
  },
  {
   "cell_type": "code",
   "execution_count": null,
   "metadata": {},
   "outputs": [],
   "source": [
    "def add(x):\n",
    "    return x + 1"
   ]
  },
  {
   "cell_type": "code",
   "execution_count": null,
   "metadata": {},
   "outputs": [],
   "source": [
    "a = 5\n",
    "print(\"a before function call  : \", a)\n",
    "add(a)\n",
    "print(\"a after function call  : \", a)"
   ]
  },
  {
   "cell_type": "code",
   "execution_count": null,
   "metadata": {},
   "outputs": [],
   "source": [
    "def to_lower(string):\n",
    "    return string.lower()"
   ]
  },
  {
   "cell_type": "code",
   "execution_count": null,
   "metadata": {},
   "outputs": [],
   "source": [
    "string = \"TeSt\"\n",
    "print(\"string before function call  : \", string)\n",
    "to_lower(string)\n",
    "print(\"string after function call  : \", string)"
   ]
  },
  {
   "cell_type": "markdown",
   "metadata": {},
   "source": [
    "If the argument type is mutable like list, then it can get modified in the called function as its mutable."
   ]
  },
  {
   "cell_type": "code",
   "execution_count": null,
   "metadata": {},
   "outputs": [],
   "source": [
    "def add_element(list1):\n",
    "    list1.append(5)"
   ]
  },
  {
   "cell_type": "code",
   "execution_count": null,
   "metadata": {},
   "outputs": [],
   "source": [
    "list1 = [1, 2, 3, 4]\n",
    "print(\"list before function call : \", list1)\n",
    "add_element(list1)\n",
    "print(\"list after function call : \", list1)"
   ]
  },
  {
   "cell_type": "markdown",
   "metadata": {},
   "source": [
    "<b> Unknown number of parameters <b>"
   ]
  },
  {
   "cell_type": "markdown",
   "metadata": {},
   "source": [
    "If number of parameters passed to the function are unknown then \"*\" can be used in the parameter list to specify that number of parameters are unknown."
   ]
  },
  {
   "cell_type": "markdown",
   "metadata": {},
   "source": [
    "Lets define a product function that accepts variable number of arguments as input and returns product of those numbers."
   ]
  },
  {
   "cell_type": "code",
   "execution_count": null,
   "metadata": {},
   "outputs": [],
   "source": [
    "def product(*times):\n",
    "    prod = 1\n",
    "    for i in times:\n",
    "        prod = prod * i \n",
    "    return prod    "
   ]
  },
  {
   "cell_type": "code",
   "execution_count": null,
   "metadata": {},
   "outputs": [],
   "source": [
    "#Calling product with three numbers\n",
    "product(2, 3, 4)"
   ]
  },
  {
   "cell_type": "code",
   "execution_count": null,
   "metadata": {},
   "outputs": [],
   "source": [
    "#Calling product with two numbers\n",
    "product(2, 3)"
   ]
  },
  {
   "cell_type": "markdown",
   "metadata": {},
   "source": [
    "<b> Returning multiple values from function <b>"
   ]
  },
  {
   "cell_type": "markdown",
   "metadata": {},
   "source": [
    "Lets write a function that returns the min, max values from a function that accepts list of numbers as input."
   ]
  },
  {
   "cell_type": "code",
   "execution_count": null,
   "metadata": {},
   "outputs": [],
   "source": [
    "def get_min_max(list1):\n",
    "    min1 = min(list1)\n",
    "    max1 = max(list1)\n",
    "    return min1, max1"
   ]
  },
  {
   "cell_type": "code",
   "execution_count": null,
   "metadata": {},
   "outputs": [],
   "source": [
    "list1 = [ 23, 45, 1, 56, 40]\n",
    "minimum, maximum = get_min_max(list1)\n",
    "print('minimum   ', minimum)\n",
    "print('maximum   ', maximum)"
   ]
  },
  {
   "cell_type": "markdown",
   "metadata": {},
   "source": [
    "# Exercise"
   ]
  },
  {
   "cell_type": "markdown",
   "metadata": {},
   "source": [
    "Q1. Write a function called closest that takes a list of numbers L and a number n and returns the largest element in L that is not larger than n. For instance, if L=[1, 6, 3, 9, 11] and n =8, then the function should return 6, because 6 is the closest thing in L to 8 that is not larger than 8. "
   ]
  },
  {
   "cell_type": "code",
   "execution_count": null,
   "metadata": {},
   "outputs": [],
   "source": [
    "# Try it here\n"
   ]
  },
  {
   "cell_type": "markdown",
   "metadata": {},
   "source": [
    "Q2. Write a function call one_way that takes two strings and returns True if the strings are of the same length and differ in exactly one letter, like bike/hike or water/wafer."
   ]
  },
  {
   "cell_type": "code",
   "execution_count": null,
   "metadata": {},
   "outputs": [],
   "source": [
    "# Try it here\n"
   ]
  },
  {
   "cell_type": "markdown",
   "metadata": {},
   "source": [
    "Q3. Recall that if s is string, then s.find('a') will find the location of fist a in s. The problem is that it does not find the location of every a. Write a function called findall that given a string and a single character, returns a list containing all of the locations of that character in the string. It should return an empty list if there are no occurences o fthe character in list. "
   ]
  },
  {
   "cell_type": "code",
   "execution_count": null,
   "metadata": {},
   "outputs": [],
   "source": [
    "# Try it here\n"
   ]
  },
  {
   "cell_type": "markdown",
   "metadata": {},
   "source": [
    "# Solution"
   ]
  },
  {
   "cell_type": "code",
   "execution_count": null,
   "metadata": {},
   "outputs": [],
   "source": [
    "#Solution1 \n",
    "def closest(L, n):\n",
    "    min_diff = abs(L[0] - n)\n",
    "    index = -1\n",
    "    \n",
    "    for i in range(len(L)):\n",
    "        diff = abs(L[i] - n)\n",
    "        if diff < min_diff:\n",
    "            min_diff = diff\n",
    "            index = i\n",
    "\n",
    "    return L[index] \n",
    "\n",
    "L=[1, 6, 3, 9, 11]\n",
    "n = 8\n",
    "\n",
    "closest_number = closest(L, n)\n",
    "print(\"closest number : \", closest_number)\n",
    "\n",
    "\n",
    "L=[1, 6, 8, 9, 11]\n",
    "n = 8\n",
    "\n",
    "closest_number = closest(L, n)\n",
    "print(\"closest number : \", closest_number)"
   ]
  },
  {
   "cell_type": "code",
   "execution_count": null,
   "metadata": {},
   "outputs": [],
   "source": [
    "#Solution2\n",
    "def one_way(string1, string2):\n",
    "    is_one_way = False\n",
    "    count = 0 \n",
    "    \n",
    "    len1 = len(string1)\n",
    "    len2 = len(string2)\n",
    "    \n",
    "    if(len1 == len2):\n",
    "        for i in range(len(string1)):\n",
    "            if string1[i] != string2[i]:\n",
    "                count = count + 1\n",
    "    \n",
    "    if count == 1:\n",
    "        is_one_way = True\n",
    "        \n",
    "    return is_one_way\n",
    "\n",
    "string1 = \"bike\"\n",
    "string2 = \"hike\"\n",
    "\n",
    "is_one_way = one_way(string1, string2)\n",
    "print(is_one_way)\n",
    "\n",
    "\n",
    "string1 = \"bike\"\n",
    "string2 = \"hiki\"\n",
    "\n",
    "is_one_way = one_way(string1, string2)\n",
    "print(is_one_way)"
   ]
  },
  {
   "cell_type": "code",
   "execution_count": null,
   "metadata": {},
   "outputs": [],
   "source": [
    "#Solution3\n",
    "\n",
    "def findall(string, character):\n",
    "    location_list = []\n",
    "    \n",
    "    for i in range(len(string)):\n",
    "        if character == string[i]:\n",
    "            location_list.append(i)\n",
    "    \n",
    "    return location_list\n",
    "\n",
    "s = 'adfa'\n",
    "char = 'a'\n",
    "outcome = findall(s, char)\n",
    "print(\"Location list : \", outcome)\n",
    "\n",
    "s = 'adfa'\n",
    "char = '1'\n",
    "outcome = findall(s, char)\n",
    "print(\"Location list : \", outcome)"
   ]
  }
 ],
 "metadata": {
  "kernelspec": {
   "display_name": "Python 3",
   "language": "python",
   "name": "python3"
  },
  "language_info": {
   "codemirror_mode": {
    "name": "ipython",
    "version": 3
   },
   "file_extension": ".py",
   "mimetype": "text/x-python",
   "name": "python",
   "nbconvert_exporter": "python",
   "pygments_lexer": "ipython3",
   "version": "3.8.5"
  }
 },
 "nbformat": 4,
 "nbformat_minor": 2
}
