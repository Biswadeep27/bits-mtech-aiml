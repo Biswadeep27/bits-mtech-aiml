{
 "cells": [
  {
   "cell_type": "markdown",
   "metadata": {},
   "source": [
    "<center> <img src =\"https://i.postimg.cc/1X8H7YYt/BITS-Logo.png\" width = \"400\" alt=\"BITS Pilani Logo\" /> </center>"
   ]
  },
  {
   "cell_type": "markdown",
   "metadata": {},
   "source": [
    "<font color='green'> <h1> <center> Functions calls </center> </h1> </font>"
   ]
  },
  {
   "cell_type": "markdown",
   "metadata": {},
   "source": [
    "Functions are the collection of named statements. It can be considered as grouped collection of statements which can be reused at multiple places by just calling the function. "
   ]
  },
  {
   "cell_type": "markdown",
   "metadata": {},
   "source": [
    "The functions has a purpose associated with it. i.e. A function to compute the average of given numbers. In a program, if the average calculation needs to done multiple times for the numbers, then the same code will be repeated again and again. If afterwards some change needs to be done in that code, multiple places it needs to be modified. Istead of that, a grouped collection of those statements can be done which has a specific name associated with it, which will accepts collection of numbers as input and produces average as output. This collection is nothing but function. "
   ]
  },
  {
   "cell_type": "markdown",
   "metadata": {},
   "source": [
    "<b>Example of average computation function<b>"
   ]
  },
  {
   "cell_type": "markdown",
   "metadata": {},
   "source": [
    "Lets assume that we need to use following set of statements to compute the average of numbers. If the average needs to be computed again and again with different numbers the same statements will appear again and again in the program."
   ]
  },
  {
   "cell_type": "code",
   "execution_count": null,
   "metadata": {},
   "outputs": [],
   "source": [
    "number_list = [1, 2, 4, 3, 5, 6]\n",
    "\n",
    "total = 0 \n",
    "average = 0 \n",
    "count = len(number_list)\n",
    "\n",
    "#Compute the total first  \n",
    "for number in number_list:\n",
    "    total = total + number\n",
    "    \n",
    "average = total / count \n",
    "\n",
    "print(\"first average is    \", average)\n",
    "\n",
    "\n",
    "\n",
    "#........some code in between \n",
    "#...........................\n",
    "#...........................\n",
    "\n",
    "#Again needs to be compute the average of different set of numbers\n",
    "\n",
    "number_list = [11, 22, 41, 31, 51, 61]\n",
    "\n",
    "total = 0 \n",
    "average = 0 \n",
    "count = len(number_list)\n",
    "\n",
    "#Compute the total first  \n",
    "for number in number_list:\n",
    "    total = total + number\n",
    "    \n",
    "average = total / count \n",
    "\n",
    "print(\"second average is    \", average)\n"
   ]
  },
  {
   "cell_type": "markdown",
   "metadata": {},
   "source": [
    "<b> Function definition<b>"
   ]
  },
  {
   "cell_type": "markdown",
   "metadata": {},
   "source": [
    "The statements computing average can be enclosed into a block that is function. Function may or may not accept input but will carry out the designated operations. In return, it may or may not return the outcome. "
   ]
  },
  {
   "cell_type": "markdown",
   "metadata": {},
   "source": [
    "Lets define a fuction for computing the average. It will accept list of numbers as input and will produce the average as outcome. "
   ]
  },
  {
   "cell_type": "code",
   "execution_count": null,
   "metadata": {},
   "outputs": [],
   "source": [
    "def compute_average(number_list):  #function definition , starts with key word def followed by name of function\n",
    "\n",
    "    #Initialize required variables\n",
    "    total = 0  \n",
    "    average = 0 \n",
    "    count = len(number_list)\n",
    "\n",
    "    #Compute the total first  \n",
    "    for number in number_list:\n",
    "        total = total + number\n",
    "\n",
    "    #Compute the average    \n",
    "    average = total / count \n",
    "\n",
    "    #Return average to the calling code\n",
    "    return average"
   ]
  },
  {
   "cell_type": "markdown",
   "metadata": {},
   "source": [
    "Fuction may not accept any input , may not produce any outcome. For example, following function just does some printing of characters."
   ]
  },
  {
   "cell_type": "code",
   "execution_count": null,
   "metadata": {},
   "outputs": [],
   "source": [
    "def print_welcome_massage():\n",
    "    print('*' * 12)\n",
    "    print(\"Welcome to the ABC software\")\n",
    "    print()\n",
    "    print()\n",
    "    print(\"(c) All rights reserved.\")"
   ]
  },
  {
   "cell_type": "markdown",
   "metadata": {},
   "source": [
    "Function may accept input values, does some computation but does not return any value to the calling code. For example, following function accepts number list, finds out even and odd numbers and prints them. "
   ]
  },
  {
   "cell_type": "code",
   "execution_count": null,
   "metadata": {},
   "outputs": [],
   "source": [
    "def find_even_odd(number_list):\n",
    "    \n",
    "    #Initialize data structures to hold list of even and odd numbers\n",
    "    even_numbers = []\n",
    "    odd_numbers = []\n",
    "    \n",
    "    #Find the even and odd numbers and place them in right structure\n",
    "    for number in number_list:\n",
    "        if number % 2 == 0 :\n",
    "            even_numbers.append(number)\n",
    "        else: \n",
    "            odd_numbers.append(number)\n",
    "            \n",
    "    #Show the list even and odd numbers\n",
    "    print(\"Even numbers \")\n",
    "    for number in even_numbers:\n",
    "        print(number)\n",
    "             \n",
    "    print(\"Odd numbers \")\n",
    "    for number in odd_numbers:\n",
    "        print(number)\n",
    "        "
   ]
  },
  {
   "cell_type": "markdown",
   "metadata": {},
   "source": [
    "<b> Calling the function<b>"
   ]
  },
  {
   "cell_type": "markdown",
   "metadata": {},
   "source": [
    "The program can call functions, can pass the arguments to it and can accept outcome from it. "
   ]
  },
  {
   "cell_type": "markdown",
   "metadata": {},
   "source": [
    "Lets see how average computing function can be called from the program. "
   ]
  },
  {
   "cell_type": "code",
   "execution_count": null,
   "metadata": {},
   "outputs": [],
   "source": [
    "#Prepare input for the function\n",
    "number_list = [ 1, 2, 3, 4, 5, 6]\n",
    "\n",
    "#Call the function for average computation with input values\n",
    "average = compute_average(number_list)\n",
    "\n",
    "print(\"The average is \", average)"
   ]
  },
  {
   "cell_type": "markdown",
   "metadata": {},
   "source": [
    "The same function can be called again and again with different input values. "
   ]
  },
  {
   "cell_type": "code",
   "execution_count": null,
   "metadata": {},
   "outputs": [],
   "source": [
    "#Prepare input for the function\n",
    "number_list = [11, 22, 41, 31, 51, 61]\n",
    "\n",
    "#Call the function for average computation with input values\n",
    "average = compute_average(number_list)\n",
    "\n",
    "print(\"The average is \", average)"
   ]
  },
  {
   "cell_type": "markdown",
   "metadata": {},
   "source": [
    "Lets see how the print related function can be called. "
   ]
  },
  {
   "cell_type": "code",
   "execution_count": null,
   "metadata": {},
   "outputs": [],
   "source": [
    "#Call print_welcome_massage function which does not accept any input, does not give any output\n",
    "#but produces some characters on console\n",
    "print_welcome_massage()"
   ]
  },
  {
   "cell_type": "markdown",
   "metadata": {},
   "source": [
    "Lets call the function for finding out even / odd numbers from given number list."
   ]
  },
  {
   "cell_type": "code",
   "execution_count": null,
   "metadata": {},
   "outputs": [],
   "source": [
    "#Prepare number list \n",
    "number_list = [ 1, 2, 3, 4, 5, 6]\n",
    "\n",
    "find_even_odd(number_list)\n"
   ]
  },
  {
   "cell_type": "markdown",
   "metadata": {},
   "source": [
    "# Exercise"
   ]
  },
  {
   "cell_type": "markdown",
   "metadata": {},
   "source": [
    "Q1. Write a function called draw_rectangle that takes two arguments length and height and prints an outcome an length * height box consisting of asterisks. <br> \n",
    "- Call that function with length = 5 and height = 3\n",
    "- Call that function with length = 10 and height = 5\n"
   ]
  },
  {
   "cell_type": "code",
   "execution_count": null,
   "metadata": {},
   "outputs": [],
   "source": [
    "#Try out here\n"
   ]
  },
  {
   "cell_type": "markdown",
   "metadata": {},
   "source": [
    "Q2. Write a function called sum_digits that is given an integer num and returns the sum of the digits of sum."
   ]
  },
  {
   "cell_type": "code",
   "execution_count": null,
   "metadata": {},
   "outputs": [],
   "source": [
    "#Try out here\n"
   ]
  },
  {
   "cell_type": "markdown",
   "metadata": {},
   "source": [
    "Q3. Write a function called len_upper that accepts string as input and returns the number of capital letters present in the string. If no capital letters are present in the then prints the error message in the function then returns -1 as output."
   ]
  },
  {
   "cell_type": "code",
   "execution_count": null,
   "metadata": {},
   "outputs": [],
   "source": [
    "#Try out here\n"
   ]
  },
  {
   "cell_type": "markdown",
   "metadata": {},
   "source": [
    "# Solution"
   ]
  },
  {
   "cell_type": "code",
   "execution_count": null,
   "metadata": {},
   "outputs": [],
   "source": [
    "#Solution 1\n",
    "\n",
    "def draw_rectange(length, height):\n",
    "    for i in range(height):\n",
    "        print(\"*\" * length)\n",
    "        \n",
    "draw_rectange(5, 3)\n",
    "\n",
    "draw_rectange(10, 5)"
   ]
  },
  {
   "cell_type": "code",
   "execution_count": null,
   "metadata": {},
   "outputs": [],
   "source": [
    "#Solution 2\n",
    "def sum_digits(num):\n",
    "    sum = 0 \n",
    "    \n",
    "    string = str(num)\n",
    "    \n",
    "    for letter in string:\n",
    "        number = int(letter)\n",
    "        sum = sum + number\n",
    "    \n",
    "    return sum \n",
    "    \n",
    "    \n",
    "#Test the function    \n",
    "number = 1234\n",
    "sum = sum_digits(number)\n",
    "print(\"sum of digits of number \", number , \" is \", sum )\n",
    "\n",
    "number = 124\n",
    "sum = sum_digits(number)\n",
    "print(\"sum of digits of number \", number, \" is \", sum )"
   ]
  },
  {
   "cell_type": "code",
   "execution_count": null,
   "metadata": {},
   "outputs": [],
   "source": [
    "#Solution 3\n",
    "\n",
    "def len_upper(string):\n",
    "    \n",
    "    count = 0 \n",
    "    \n",
    "    for letter in string:\n",
    "        if letter.isupper():\n",
    "            count = count + 1\n",
    "    \n",
    "    if count == 0 :\n",
    "        print(\"No capital letters are present in the given string \", string)\n",
    "        count = -1\n",
    "            \n",
    "    return count\n",
    "\n",
    "#Test the function \n",
    "string = \"AbCdEf\"\n",
    "count = len_upper(string)\n",
    "print(\"The count of capital letters in the string \", string , \" is \", count )\n",
    "\n",
    "string = \"abcdef\"\n",
    "count = len_upper(string)\n",
    "print(\"The count of capital letters in the string \", string , \" is \", count )"
   ]
  }
 ],
 "metadata": {
  "kernelspec": {
   "display_name": "Python 3",
   "language": "python",
   "name": "python3"
  },
  "language_info": {
   "codemirror_mode": {
    "name": "ipython",
    "version": 3
   },
   "file_extension": ".py",
   "mimetype": "text/x-python",
   "name": "python",
   "nbconvert_exporter": "python",
   "pygments_lexer": "ipython3",
   "version": "3.8.5"
  }
 },
 "nbformat": 4,
 "nbformat_minor": 2
}
