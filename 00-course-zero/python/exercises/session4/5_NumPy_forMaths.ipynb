{
 "cells": [
  {
   "cell_type": "markdown",
   "metadata": {},
   "source": [
    "<center> <img src =\"https://i.postimg.cc/1X8H7YYt/BITS-Logo.png\" width = \"400\" alt=\"BITS Pilani Logo\" /> </center>"
   ]
  },
  {
   "cell_type": "markdown",
   "metadata": {
    "id": "K_BfoNn-BNtp"
   },
   "source": [
    "<font color='green'> <h1> <center> Getting started with NumPy </center> </h1> </font>"
   ]
  },
  {
   "cell_type": "markdown",
   "metadata": {
    "id": "7AurTU9NBNty"
   },
   "source": [
    "### 1. Creating Arrays "
   ]
  },
  {
   "cell_type": "code",
   "execution_count": 32,
   "metadata": {
    "id": "mc4IWDcyBNt0"
   },
   "outputs": [],
   "source": [
    "import numpy as np  #import numpy to begin with"
   ]
  },
  {
   "cell_type": "code",
   "execution_count": 33,
   "metadata": {
    "id": "A7mr26E9BNt1",
    "outputId": "4eacf5c6-9fb5-4db7-8b66-4fe70eb073a1"
   },
   "outputs": [
    {
     "name": "stdout",
     "output_type": "stream",
     "text": [
      "[0 1 2 3 4 5 6 7 8]\n",
      "[[0 1 2]\n",
      " [3 4 5]\n",
      " [6 7 8]]\n"
     ]
    }
   ],
   "source": [
    "# Ex:1 create an 3x3 array \n",
    "\n",
    "a = np.arange(9)\n",
    "print(a)\n",
    "b = a.reshape(3,3)\n",
    "print(b)"
   ]
  },
  {
   "cell_type": "code",
   "execution_count": 34,
   "metadata": {
    "id": "fqHRnH2KBNt2",
    "outputId": "3215d5f1-6dcd-4156-d33e-6c4e29897bc2"
   },
   "outputs": [
    {
     "name": "stdout",
     "output_type": "stream",
     "text": [
      "[[0 1 2]\n",
      " [3 4 5]\n",
      " [6 7 8]]\n"
     ]
    }
   ],
   "source": [
    "# Ex:2 create an 3x3 array by explicitly listing elements\n",
    "\n",
    "a = np.array ([[0,1,2],[3,4,5], [6,7,8]])\n",
    "print (a)"
   ]
  },
  {
   "cell_type": "code",
   "execution_count": 35,
   "metadata": {
    "id": "niPE6AcWBNt3",
    "outputId": "9ad01ddb-8f84-435a-81c3-3bb827ddde17"
   },
   "outputs": [
    {
     "name": "stdout",
     "output_type": "stream",
     "text": [
      "[[-1  2  3]\n",
      " [ 4  5  6]\n",
      " [ 7  8  9]]\n"
     ]
    }
   ],
   "source": [
    "# Ex: 3 create an array from data in a CSV file. \n",
    "\n",
    "x = np.genfromtxt('numpy_ex.csv',delimiter=',',dtype='int8')\n",
    "print (x)"
   ]
  },
  {
   "cell_type": "code",
   "execution_count": 37,
   "metadata": {
    "id": "ROpE90G_BNt4",
    "outputId": "ca1c5842-1078-4204-f815-8292e2a0f867"
   },
   "outputs": [
    {
     "name": "stdout",
     "output_type": "stream",
     "text": [
      "[[0. 0. 0.]\n",
      " [0. 0. 0.]\n",
      " [0. 0. 0.]]\n"
     ]
    }
   ],
   "source": [
    "# Ex:4 create an 3x3 array by explicitly listing elements\n",
    "\n",
    "a = np.zeros((3,3))\n",
    "print (a)"
   ]
  },
  {
   "cell_type": "code",
   "execution_count": 44,
   "metadata": {
    "id": "ZR4JwOEVBNt5",
    "outputId": "25009b2f-e7c7-4c8e-a546-2549ee59d1bb"
   },
   "outputs": [
    {
     "name": "stdout",
     "output_type": "stream",
     "text": [
      "(5, 5)\n",
      "2\n",
      "25\n",
      "int32\n",
      "4\n"
     ]
    }
   ],
   "source": [
    "print(x.shape)  # Array Dimensions\n",
    "print(x.ndim)   # Number of dimensions \n",
    "print(x.size)  # number of elements in the array\n",
    "print(x.dtype)  # type of all elements in the array [for https://docs.scipy.org/doc/numpy/user/basics.types.html all types]\n",
    "print(x.itemsize) # size of items in bytes"
   ]
  },
  {
   "cell_type": "code",
   "execution_count": 45,
   "metadata": {
    "id": "c6GFVwk4BNt5",
    "outputId": "d9e21750-aea9-4e7d-ec0c-ede260f276cf"
   },
   "outputs": [
    {
     "name": "stdout",
     "output_type": "stream",
     "text": [
      "int32\n",
      "int16\n"
     ]
    }
   ],
   "source": [
    "# changing the type of elements\n",
    "print (x.dtype)\n",
    "x = np.array(x, dtype='int16') # note that we cannot change the type of array inplace. \n",
    "print (x.dtype)"
   ]
  },
  {
   "cell_type": "code",
   "execution_count": 40,
   "metadata": {
    "id": "81ovI8xvBNt6",
    "outputId": "c579c81b-57db-401c-9e9f-c94d16a9a334"
   },
   "outputs": [
    {
     "name": "stdout",
     "output_type": "stream",
     "text": [
      "[[999   2   3]\n",
      " [  4   5   6]\n",
      " [  7   8   9]]\n"
     ]
    }
   ],
   "source": [
    "# Creating copy of an array\n",
    "\n",
    "xCpy = x  # No new xCpy is created. xCpy and x are two names for the same object. \n",
    "\n",
    "xCpy [0,0] = 999  \n",
    "print (x)"
   ]
  },
  {
   "cell_type": "code",
   "execution_count": 41,
   "metadata": {
    "id": "vz0ih2YqBNt7",
    "outputId": "466ba06b-4dcd-40aa-b813-0685b3e96d14"
   },
   "outputs": [
    {
     "name": "stdout",
     "output_type": "stream",
     "text": [
      "[[999   2   3]\n",
      " [  4   5   6]\n",
      " [  7   8   9]]\n",
      "[[11111     2     3]\n",
      " [    4     5     6]\n",
      " [    7     8     9]]\n",
      "[[999   2   3]\n",
      " [  4   5   6]\n",
      " [  7   8   9]]\n"
     ]
    }
   ],
   "source": [
    "# Creating copy of an array\n",
    "\n",
    "print (x)       # \n",
    "xCpy = x.copy() # xCpy is a different object  - caled as deep copy\n",
    "\n",
    "x [0,0] = 11111 # changing an element of x\n",
    "\n",
    "print (x)\n",
    "print (xCpy)"
   ]
  },
  {
   "cell_type": "markdown",
   "metadata": {
    "id": "WHETqaXmBNt9"
   },
   "source": [
    "### 2. Accessing elements, subarrays"
   ]
  },
  {
   "cell_type": "code",
   "execution_count": 46,
   "metadata": {
    "id": "CEv-NTwxBNt_"
   },
   "outputs": [
    {
     "name": "stdout",
     "output_type": "stream",
     "text": [
      "[[ 0  1  2  3  4]\n",
      " [ 5  6  7  8  9]\n",
      " [10 11 12 13 14]\n",
      " [15 16 17 18 19]\n",
      " [20 21 22 23 24]]\n"
     ]
    }
   ],
   "source": [
    "# assume an array \n",
    "x = np.arange(25).reshape(5,5)\n",
    "print (x)"
   ]
  },
  {
   "cell_type": "code",
   "execution_count": 47,
   "metadata": {
    "id": "V1qclWB_BNuA"
   },
   "outputs": [
    {
     "data": {
      "text/plain": [
       "7"
      ]
     },
     "execution_count": 47,
     "metadata": {},
     "output_type": "execute_result"
    }
   ],
   "source": [
    "# access elements as x[i,j]\n",
    "x[1,2]"
   ]
  },
  {
   "cell_type": "code",
   "execution_count": 48,
   "metadata": {
    "id": "crJfTOG8BNuA"
   },
   "outputs": [
    {
     "data": {
      "text/plain": [
       "array([5, 6, 7, 8, 9])"
      ]
     },
     "execution_count": 48,
     "metadata": {},
     "output_type": "execute_result"
    }
   ],
   "source": [
    "# accessing a row as x[i,...]\n",
    "x[1,...]"
   ]
  },
  {
   "cell_type": "code",
   "execution_count": 49,
   "metadata": {
    "id": "0MOtDvtSBNuB"
   },
   "outputs": [
    {
     "data": {
      "text/plain": [
       "array([ 1,  6, 11, 16, 21])"
      ]
     },
     "execution_count": 49,
     "metadata": {},
     "output_type": "execute_result"
    }
   ],
   "source": [
    "# accessing a column as x[...,j]\n",
    "x[...,1]"
   ]
  },
  {
   "cell_type": "code",
   "execution_count": 50,
   "metadata": {
    "id": "30wKj-dTBNuB"
   },
   "outputs": [
    {
     "data": {
      "text/plain": [
       "array([7, 8])"
      ]
     },
     "execution_count": 50,
     "metadata": {},
     "output_type": "execute_result"
    }
   ],
   "source": [
    "# accessing a part of a row as x [i, low:high]\n",
    "x[1, 2:4]"
   ]
  },
  {
   "cell_type": "code",
   "execution_count": 51,
   "metadata": {
    "id": "h5ROoyGcBNuB"
   },
   "outputs": [
    {
     "data": {
      "text/plain": [
       "array([11, 16])"
      ]
     },
     "execution_count": 51,
     "metadata": {},
     "output_type": "execute_result"
    }
   ],
   "source": [
    "# accessing a part of a column as x [ low:high, j]\n",
    "x[2:4,1]"
   ]
  },
  {
   "cell_type": "code",
   "execution_count": 52,
   "metadata": {
    "id": "xVtxz59NBNuB"
   },
   "outputs": [
    {
     "name": "stdout",
     "output_type": "stream",
     "text": [
      "[[13 14]\n",
      " [18 19]]\n"
     ]
    }
   ],
   "source": [
    "# extracting a subarray \n",
    "y = x[2:4, 3:5]\n",
    "print (y)"
   ]
  },
  {
   "cell_type": "code",
   "execution_count": 54,
   "metadata": {
    "id": "jaEbb91bBNuC"
   },
   "outputs": [
    {
     "data": {
      "text/plain": [
       "array([5, 6, 7, 8, 9])"
      ]
     },
     "execution_count": 54,
     "metadata": {},
     "output_type": "execute_result"
    }
   ],
   "source": [
    "# Accessing with lesser indices\n",
    "x[1] # the last index is assumed to be full here. "
   ]
  },
  {
   "cell_type": "code",
   "execution_count": 55,
   "metadata": {
    "id": "tcePZkxYBNuC"
   },
   "outputs": [
    {
     "name": "stdout",
     "output_type": "stream",
     "text": [
      "[[1. 1. 1.]\n",
      " [1. 1. 1.]]\n",
      "[[1. 1.]\n",
      " [1. 1.]\n",
      " [1. 1.]]\n"
     ]
    }
   ],
   "source": [
    "# reshaping array shape\n",
    "\n",
    "a = np.ones((2,3))\n",
    "print(a)\n",
    "a=a.reshape (3,2)\n",
    "print(a)"
   ]
  },
  {
   "cell_type": "markdown",
   "metadata": {
    "id": "ekIqbilKBNuC"
   },
   "source": [
    "### 3. Some sample operations"
   ]
  },
  {
   "cell_type": "code",
   "execution_count": 56,
   "metadata": {
    "id": "pHBm5ho-BNuD"
   },
   "outputs": [
    {
     "name": "stdout",
     "output_type": "stream",
     "text": [
      " Matrix x is \n",
      "[[1 2]\n",
      " [2 1]]\n",
      " Matrix y is \n",
      "[[1 1]\n",
      " [1 1]]\n"
     ]
    }
   ],
   "source": [
    "# Assume a smaller array\n",
    "x = np.array ([[1,2], [2,1]])\n",
    "y = np.array([[1,1],[1,1]])\n",
    "print(' Matrix x is ')\n",
    "print (x)\n",
    "print(' Matrix y is ')\n",
    "print (y)"
   ]
  },
  {
   "cell_type": "code",
   "execution_count": 57,
   "metadata": {
    "id": "ZPpxmKNaBNuD"
   },
   "outputs": [
    {
     "name": "stdout",
     "output_type": "stream",
     "text": [
      "[[2 3]\n",
      " [3 2]]\n"
     ]
    }
   ],
   "source": [
    "# addition \n",
    "z = x + y\n",
    "print (z)"
   ]
  },
  {
   "cell_type": "code",
   "execution_count": 58,
   "metadata": {
    "id": "tDQ460KABNuD"
   },
   "outputs": [
    {
     "name": "stdout",
     "output_type": "stream",
     "text": [
      "[[0 1]\n",
      " [1 0]]\n"
     ]
    }
   ],
   "source": [
    "# subtraction\n",
    "z = x-y\n",
    "print (z)"
   ]
  },
  {
   "cell_type": "code",
   "execution_count": 60,
   "metadata": {
    "id": "QR__F9dQBNuE"
   },
   "outputs": [
    {
     "name": "stdout",
     "output_type": "stream",
     "text": [
      "[[1 2]\n",
      " [3 4]]\n"
     ]
    },
    {
     "data": {
      "text/plain": [
       "array([[1, 3],\n",
       "       [2, 4]])"
      ]
     },
     "execution_count": 60,
     "metadata": {},
     "output_type": "execute_result"
    }
   ],
   "source": [
    "# transpose of a matrix\n",
    "\n",
    "x = np.array([[1,2],[3,4]]) #sample matrix\n",
    "print(x)\n",
    "x.transpose()"
   ]
  },
  {
   "cell_type": "code",
   "execution_count": 61,
   "metadata": {
    "id": "WxcwooAvBNuE"
   },
   "outputs": [
    {
     "name": "stdout",
     "output_type": "stream",
     "text": [
      "[[1 2 3]\n",
      " [3 4 2]]\n"
     ]
    },
    {
     "data": {
      "text/plain": [
       "array([[0.16666667, 0.16666667, 0.16666667],\n",
       "       [0.16666667, 0.16666667, 0.16666667]])"
      ]
     },
     "execution_count": 61,
     "metadata": {},
     "output_type": "execute_result"
    }
   ],
   "source": [
    "# (Pseudo) Inverse of a matrix\n",
    "\n",
    "x = np.array([[1,2,3],[3,4,2]]) #sample matrix\n",
    "print(x)\n",
    "np.linalg.pinv(a)"
   ]
  },
  {
   "cell_type": "code",
   "execution_count": 62,
   "metadata": {
    "id": "THvOuaKEBNuE"
   },
   "outputs": [
    {
     "name": "stdout",
     "output_type": "stream",
     "text": [
      "[[1. 0. 0.]\n",
      " [0. 1. 0.]\n",
      " [0. 0. 1.]]\n"
     ]
    }
   ],
   "source": [
    "# identity matrix\n",
    "\n",
    "x=np.eye(3)\n",
    "print(x)"
   ]
  },
  {
   "cell_type": "code",
   "execution_count": 64,
   "metadata": {
    "id": "merTEzbhBNuE"
   },
   "outputs": [
    {
     "name": "stdout",
     "output_type": "stream",
     "text": [
      "[[0 1 2]\n",
      " [3 4 5]\n",
      " [6 7 8]]\n"
     ]
    },
    {
     "data": {
      "text/plain": [
       "array([ 1.33484692e+01, -1.34846923e+00, -1.15433316e-15])"
      ]
     },
     "execution_count": 64,
     "metadata": {},
     "output_type": "execute_result"
    }
   ],
   "source": [
    "# Compute eigen values of a matrix\n",
    "\n",
    "x=np.arange(9).reshape(3,3)\n",
    "print(x)\n",
    "np.linalg.eigvals(x)"
   ]
  },
  {
   "cell_type": "code",
   "execution_count": 65,
   "metadata": {
    "id": "RvhljiqmBNuF"
   },
   "outputs": [
    {
     "name": "stdout",
     "output_type": "stream",
     "text": [
      "[[0. 1. 2.]\n",
      " [3. 4. 5.]\n",
      " [6. 7. 8.]]\n"
     ]
    }
   ],
   "source": [
    "# compute dot product \n",
    "x = np.arange(9).reshape (3,3)\n",
    "y = np.eye (3)\n",
    "z=np.dot(x,y)\n",
    "print(z)"
   ]
  },
  {
   "cell_type": "code",
   "execution_count": 66,
   "metadata": {
    "id": "PxZirl7kBNuF",
    "outputId": "6211e45c-4b63-479c-80c9-f3e553249da3"
   },
   "outputs": [
    {
     "name": "stdout",
     "output_type": "stream",
     "text": [
      "[ 1  2  3  4  5  6  7  8  9 10]\n",
      "5.5\n",
      "5.5\n",
      "2.8722813232690143\n",
      "8.25\n"
     ]
    }
   ],
   "source": [
    "# Some basic Stat\n",
    "x = np.array ([1,2,3,4,5,6,7,8,9,10]) #taking a simple matrix\n",
    "print (x)\n",
    "print (np.median(x))\n",
    "print (np.mean(x))\n",
    "print (np.std (x))\n",
    "print (np.var(x))"
   ]
  },
  {
   "cell_type": "markdown",
   "metadata": {
    "id": "x0lTiIbMBNuF"
   },
   "source": [
    "Note: Check out for more Linear Algebra Operations in https://docs.scipy.org/doc/numpy/reference/routines.linalg.html "
   ]
  },
  {
   "cell_type": "markdown",
   "metadata": {
    "id": "d9e4DjYNBNuG"
   },
   "source": [
    "Note: Sorting and Searching operations in arrays : https://docs.scipy.org/doc/numpy/reference/routines.sort.html "
   ]
  },
  {
   "cell_type": "markdown",
   "metadata": {
    "id": "vBQY6szSBNuG"
   },
   "source": [
    "Statistics : https://docs.scipy.org/doc/numpy/reference/routines.statistics.html "
   ]
  },
  {
   "cell_type": "markdown",
   "metadata": {
    "id": "xORLieqtBNuG"
   },
   "source": [
    "Checkout this for complete reference : https://docs.scipy.org/doc/numpy/reference/ "
   ]
  }
 ],
 "metadata": {
  "colab": {
   "name": "Module-06-01 to 03.ipynb",
   "provenance": []
  },
  "kernelspec": {
   "display_name": "Python 3",
   "language": "python",
   "name": "python3"
  },
  "language_info": {
   "codemirror_mode": {
    "name": "ipython",
    "version": 3
   },
   "file_extension": ".py",
   "mimetype": "text/x-python",
   "name": "python",
   "nbconvert_exporter": "python",
   "pygments_lexer": "ipython3",
   "version": "3.8.5"
  }
 },
 "nbformat": 4,
 "nbformat_minor": 1
}
