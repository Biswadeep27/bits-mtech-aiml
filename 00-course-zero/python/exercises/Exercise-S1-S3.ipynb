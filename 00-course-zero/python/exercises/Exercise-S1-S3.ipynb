{
 "cells": [
  {
   "attachments": {},
   "cell_type": "markdown",
   "metadata": {},
   "source": [
    "* Q1. Given a number, find the sum of its digits. Take the number as an input from the user."
   ]
  },
  {
   "cell_type": "code",
   "execution_count": 3,
   "metadata": {},
   "outputs": [
    {
     "name": "stdout",
     "output_type": "stream",
     "text": [
      "Input: 12345; Sum of digits: 15\n"
     ]
    }
   ],
   "source": [
    "copy_num = inp_num = eval(input('Enter the number: '))\n",
    "if not isinstance(inp_num, int):\n",
    "    raise Exception('Only integer input accepted.')\n",
    "\n",
    "sum_digits = 0\n",
    "\n",
    "while copy_num > 0:\n",
    "    sum_digits += copy_num % 10\n",
    "    copy_num //= 10\n",
    "\n",
    "\n",
    "print(f'Input: {inp_num}; Sum of digits: {sum_digits}')\n"
   ]
  },
  {
   "attachments": {},
   "cell_type": "markdown",
   "metadata": {},
   "source": [
    "* Q2. Given a number, check whether the given number is an Armstrong number or not\n",
    "* Inout from user : \n",
    "    * Interger Number\n",
    "    * The order `n`"
   ]
  },
  {
   "cell_type": "code",
   "execution_count": 10,
   "metadata": {},
   "outputs": [
    {
     "name": "stdout",
     "output_type": "stream",
     "text": [
      "Be kind\n",
      "153 is an armstrong number of order 3\n"
     ]
    }
   ],
   "source": [
    "try:\n",
    "    inp_num, order = (int(_x) for _x in input('Enter the Number and order separated by space: ').split())\n",
    "    #print(inp_num, order)\n",
    "except Exception as e:\n",
    "    raise Exception('Only interger is supported') from e\n",
    "finally:\n",
    "    print('Be kind')\n",
    "\n",
    "copy_num = inp_num\n",
    "cal_arm = 0\n",
    "\n",
    "while copy_num > 0:\n",
    "    cal_arm += (copy_num % 10) ** order\n",
    "    copy_num //= 10\n",
    "\n",
    "if cal_arm == inp_num:\n",
    "    print(f'{inp_num} is an armstrong number of order {order}')\n",
    "else:\n",
    "    print(f'{inp_num} is not an armstrong number of order {order}')"
   ]
  },
  {
   "attachments": {},
   "cell_type": "markdown",
   "metadata": {},
   "source": [
    "* Q3. Given a string, write a python function to check if it is palindrome or not"
   ]
  },
  {
   "cell_type": "code",
   "execution_count": 18,
   "metadata": {},
   "outputs": [
    {
     "name": "stdout",
     "output_type": "stream",
     "text": [
      "Input String malayalam is palindrome\n"
     ]
    }
   ],
   "source": [
    "inp_str = input('Enter a string: ')\n",
    "i = 0\n",
    "j = len(inp_str) - 1\n",
    "chk = 0\n",
    "while i < j:\n",
    "    if inp_str[i] != inp_str[j]:\n",
    "        print(f'Input String {inp_str} is not palindrome')\n",
    "        chk = 1\n",
    "        break\n",
    "    i += 1\n",
    "    j -= 1\n",
    "\n",
    "if chk == 0:\n",
    "    print(f'Input String {inp_str} is palindrome')"
   ]
  },
  {
   "attachments": {},
   "cell_type": "markdown",
   "metadata": {},
   "source": [
    "* Q4. Given an array which may contain duplicates, print all elements and their frequencies."
   ]
  },
  {
   "cell_type": "code",
   "execution_count": 19,
   "metadata": {},
   "outputs": [
    {
     "name": "stdout",
     "output_type": "stream",
     "text": [
      "Input array: ['1', '2', '1', '3', '1', '4', '6', '3', '5', '7', '4', '2', '5', '7', '6', 't', 'e', 'e', 'r']\n",
      "Element: 1, Frequency: 3\n",
      "Element: 2, Frequency: 2\n",
      "Element: 3, Frequency: 2\n",
      "Element: 4, Frequency: 2\n",
      "Element: 6, Frequency: 2\n",
      "Element: 5, Frequency: 2\n",
      "Element: 7, Frequency: 2\n",
      "Element: t, Frequency: 1\n",
      "Element: e, Frequency: 2\n",
      "Element: r, Frequency: 1\n"
     ]
    }
   ],
   "source": [
    "inp_arr = input('Enter the elements of the array').split()\n",
    "print(f'Input array: {inp_arr}')\n",
    "freq = {}\n",
    "for _x in inp_arr:\n",
    "    freq[_x] = freq.get(_x,0) + 1\n",
    "\n",
    "for key,val in freq.items():\n",
    "    print(f'Element: {key}, Frequency: {val}')"
   ]
  },
  {
   "attachments": {},
   "cell_type": "markdown",
   "metadata": {},
   "source": [
    "* Q5. Given a number n, write a function to print all prime factors of n"
   ]
  },
  {
   "cell_type": "code",
   "execution_count": 37,
   "metadata": {},
   "outputs": [],
   "source": [
    "def is_prime(number : int) -> bool:\n",
    "    chk = 0\n",
    "    for i in range(2,int(number**0.5)+1):\n",
    "        if i > 7:\n",
    "            break\n",
    "        if number % i == 0 and i != 1:\n",
    "            chk += 1\n",
    "\n",
    "    if chk == 0:\n",
    "        return True\n",
    "    else:\n",
    "        return False"
   ]
  },
  {
   "cell_type": "code",
   "execution_count": 38,
   "metadata": {},
   "outputs": [
    {
     "name": "stdout",
     "output_type": "stream",
     "text": [
      "1 prime\n",
      "2 prime\n",
      "3 prime\n",
      "4 not prime\n",
      "5 prime\n",
      "6 not prime\n",
      "7 prime\n",
      "8 not prime\n",
      "9 not prime\n",
      "10 not prime\n",
      "11 prime\n",
      "12 not prime\n",
      "13 prime\n",
      "14 not prime\n",
      "15 not prime\n",
      "16 not prime\n",
      "17 prime\n",
      "18 not prime\n",
      "19 prime\n",
      "20 not prime\n",
      "21 not prime\n",
      "22 not prime\n",
      "23 prime\n",
      "24 not prime\n",
      "25 not prime\n",
      "26 not prime\n",
      "27 not prime\n",
      "28 not prime\n",
      "29 prime\n",
      "30 not prime\n",
      "31 prime\n",
      "32 not prime\n",
      "33 not prime\n",
      "34 not prime\n",
      "35 not prime\n",
      "36 not prime\n",
      "37 prime\n",
      "38 not prime\n",
      "39 not prime\n",
      "40 not prime\n",
      "41 prime\n",
      "42 not prime\n",
      "43 prime\n",
      "44 not prime\n",
      "45 not prime\n",
      "46 not prime\n",
      "47 prime\n",
      "48 not prime\n",
      "49 not prime\n",
      "50 not prime\n",
      "51 not prime\n",
      "52 not prime\n",
      "53 prime\n",
      "54 not prime\n",
      "55 not prime\n",
      "56 not prime\n",
      "57 not prime\n",
      "58 not prime\n",
      "59 prime\n",
      "60 not prime\n",
      "61 prime\n",
      "62 not prime\n",
      "63 not prime\n",
      "64 not prime\n",
      "65 not prime\n",
      "66 not prime\n",
      "67 prime\n",
      "68 not prime\n",
      "69 not prime\n",
      "70 not prime\n",
      "71 prime\n",
      "72 not prime\n",
      "73 prime\n",
      "74 not prime\n",
      "75 not prime\n",
      "76 not prime\n",
      "77 not prime\n",
      "78 not prime\n",
      "79 prime\n",
      "80 not prime\n",
      "81 not prime\n",
      "82 not prime\n",
      "83 prime\n",
      "84 not prime\n",
      "85 not prime\n",
      "86 not prime\n",
      "87 not prime\n",
      "88 not prime\n",
      "89 prime\n",
      "90 not prime\n",
      "91 not prime\n",
      "92 not prime\n",
      "93 not prime\n",
      "94 not prime\n",
      "95 not prime\n",
      "96 not prime\n",
      "97 prime\n",
      "98 not prime\n",
      "99 not prime\n"
     ]
    }
   ],
   "source": [
    "for i in range(1,100):\n",
    "    print(i, 'prime' if is_prime(i) else 'not prime')"
   ]
  },
  {
   "cell_type": "code",
   "execution_count": 74,
   "metadata": {},
   "outputs": [],
   "source": [
    "from typing import List, Optional\n",
    "def prime_factors(num : int) -> Optional[List[int]]:\n",
    "    factors = []\n",
    "    def rec(n : int, factor : int) -> None:\n",
    "        if factor > int(num ** 0.5):\n",
    "            factors.append(n) if n != 1 and n != num else None\n",
    "            return\n",
    "        if is_prime(factor) and n % factor == 0:\n",
    "            factors.append(factor)\n",
    "            return rec(n//factor, factor)\n",
    "        else:\n",
    "            return rec(n, factor + 1)\n",
    "        \n",
    "    rec(num,2)\n",
    "    return factors\n",
    "       "
   ]
  },
  {
   "cell_type": "code",
   "execution_count": 76,
   "metadata": {},
   "outputs": [
    {
     "data": {
      "text/plain": [
       "[3, 43]"
      ]
     },
     "execution_count": 76,
     "metadata": {},
     "output_type": "execute_result"
    }
   ],
   "source": [
    "prime_factors(129)"
   ]
  },
  {
   "attachments": {},
   "cell_type": "markdown",
   "metadata": {},
   "source": [
    "* Q6. Given two numbers n and r, find the value of $^nC_r$ (`binomial_coefficient`)\n",
    "\n",
    "$$\n",
    "    ^nC_r = \\frac{n!}{r!(n-r)!}\n",
    "$$"
   ]
  },
  {
   "cell_type": "code",
   "execution_count": 1,
   "metadata": {},
   "outputs": [],
   "source": [
    "def binom_coeff(n,r):\n",
    "    def fact(n):\n",
    "        if n <= 1:\n",
    "            return 1\n",
    "        else:\n",
    "            return n * fact(n-1)\n",
    "    if n < r:\n",
    "        raise Exception('n canot be less than r.')\n",
    "    return fact(n)/(fact(r) * fact(n-r))"
   ]
  },
  {
   "cell_type": "code",
   "execution_count": 3,
   "metadata": {},
   "outputs": [
    {
     "data": {
      "text/plain": [
       "1.0"
      ]
     },
     "execution_count": 3,
     "metadata": {},
     "output_type": "execute_result"
    }
   ],
   "source": [
    "binom_coeff(6,6)"
   ]
  },
  {
   "attachments": {},
   "cell_type": "markdown",
   "metadata": {},
   "source": [
    "* Q7. Searching: Given a sorted array `arr[]` of n elements, write a function to search a given element `x` in `arr[]`. Do it using linear and binary search techniques."
   ]
  },
  {
   "cell_type": "code",
   "execution_count": 85,
   "metadata": {},
   "outputs": [],
   "source": [
    "def linear_search(arr : List[int], elem : int) -> int:\n",
    "    return arr.index(elem) if elem in arr else -1"
   ]
  },
  {
   "cell_type": "code",
   "execution_count": 89,
   "metadata": {},
   "outputs": [
    {
     "data": {
      "text/plain": [
       "(3, -1)"
      ]
     },
     "execution_count": 89,
     "metadata": {},
     "output_type": "execute_result"
    }
   ],
   "source": [
    "linear_search([1,2,3,4,7],4), linear_search([1,2,3,4],7)"
   ]
  },
  {
   "cell_type": "code",
   "execution_count": 99,
   "metadata": {},
   "outputs": [],
   "source": [
    "def binary_search(arr : List[int], elem : int) -> int:\n",
    "    arr.sort() #redundant\n",
    "    i = 0\n",
    "    j = len(arr) - 1\n",
    "    while i < j:\n",
    "        mid = i + (j-i)//2\n",
    "        if arr[mid] == elem:\n",
    "            return mid\n",
    "        else:\n",
    "            if arr[mid] > elem:\n",
    "                j = mid - 1\n",
    "            else:\n",
    "                i = mid + 1\n",
    "    \n",
    "    return -1"
   ]
  },
  {
   "cell_type": "code",
   "execution_count": 101,
   "metadata": {},
   "outputs": [
    {
     "data": {
      "text/plain": [
       "(4, -1)"
      ]
     },
     "execution_count": 101,
     "metadata": {},
     "output_type": "execute_result"
    }
   ],
   "source": [
    "binary_search([2, 2, 3, 5, 7, 8],7), binary_search([2, 2, 3, 5, 7, 8],11)"
   ]
  },
  {
   "cell_type": "code",
   "execution_count": 119,
   "metadata": {},
   "outputs": [
    {
     "name": "stdout",
     "output_type": "stream",
     "text": [
      "Frequency {'i': 5, 'was': 2, 'so': 2, 'insatiable': 1, 'til': 1, 'the': 12, 'lights': 1, 'came': 2, 'on': 2, 'and': 9, 'stories': 1, 'got': 1, 'old': 1, 'now': 8, \"there's\": 1, 'no': 1, 'one': 3, 'here': 1, 'know': 2, 'city': 1, \"outside's\": 1, 'not': 1, 'same': 1, 'anymore': 1, 'remember': 2, 'when': 1, 'we': 7, 'were': 3, 'young': 2, \"we'd\": 1, 'write': 1, 'our': 4, 'names': 1, 'in': 2, 'sand': 2, 'carelessly': 1, 'then': 2, 'rain': 1, 'yours': 1, 'gone': 1, 'mine': 1, 'it': 3, 'stands': 1, 'alone': 1, 'nobody': 2, 'sees': 2, 'me': 2, \"i'm\": 4, 'a': 2, 'man': 2, 'show': 2, \"i'll\": 1, 'do': 1, 'this': 2, 'my': 1, 'own': 1, 'knew': 1, 'all': 2, 'is': 1, 'guess': 2, 'heading': 2, 'home': 2, 'music': 1, 'always': 1, 'played': 1, 'with': 1, 'sound': 1, 'of': 1, 'lives': 2, 'sweetest': 1, 'escape': 1, 'neighbours': 1, 'would': 2, 'complain': 1, 'turn': 1, 'up': 2, 'louder': 1, 'who': 1, 'cares': 1, 'anyway': 1, 'cause': 1, 'that': 1, 'grains': 1, 'had': 1, 'made': 1, 'castles': 1, 'kingdoms': 1, 'waves': 1, 'have': 1, 'torn': 1, 'them': 1, 'down': 1}\n",
      "Three most frequent words:\n",
      "       ['the', 'and', 'now']\n"
     ]
    }
   ],
   "source": [
    "import re\n",
    "with open('data/heading_home.txt','r') as f:\n",
    "    lines = [line.strip() for line in f.readlines()]\n",
    "\n",
    "words = []\n",
    "freq = {}\n",
    "for line in lines:\n",
    "    words += [re.sub('[^A-Za-z0-9\\']+', '', _l).lower().replace('.','') for _l in line.split()]\n",
    "\n",
    "\n",
    "for w in words:\n",
    "    freq[w] = freq.get(w,0) + 1\n",
    "\n",
    "\n",
    "print('Frequency', freq)\n",
    "\n",
    "print(f'''Three most frequent words:\n",
    "       {[_s[0] for _s in sorted(freq.items(), key = lambda kv : kv[1], reverse = True)[:3]]}''')\n",
    "    "
   ]
  },
  {
   "cell_type": "code",
   "execution_count": null,
   "metadata": {},
   "outputs": [],
   "source": []
  },
  {
   "cell_type": "code",
   "execution_count": null,
   "metadata": {},
   "outputs": [],
   "source": []
  },
  {
   "cell_type": "code",
   "execution_count": null,
   "metadata": {},
   "outputs": [],
   "source": []
  }
 ],
 "metadata": {
  "kernelspec": {
   "display_name": "venv_bits",
   "language": "python",
   "name": "python3"
  },
  "language_info": {
   "codemirror_mode": {
    "name": "ipython",
    "version": 3
   },
   "file_extension": ".py",
   "mimetype": "text/x-python",
   "name": "python",
   "nbconvert_exporter": "python",
   "pygments_lexer": "ipython3",
   "version": "3.11.2"
  },
  "orig_nbformat": 4
 },
 "nbformat": 4,
 "nbformat_minor": 2
}
