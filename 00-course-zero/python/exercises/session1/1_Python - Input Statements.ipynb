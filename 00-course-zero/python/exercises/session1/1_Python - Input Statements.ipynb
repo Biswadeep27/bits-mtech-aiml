{
 "cells": [
  {
   "cell_type": "markdown",
   "metadata": {},
   "source": [
    "<center> <img src =\"https://i.postimg.cc/1X8H7YYt/BITS-Logo.png\" width = \"400\" alt=\"BITS Pilani Logo\" /> </center>"
   ]
  },
  {
   "cell_type": "markdown",
   "metadata": {},
   "source": [
    "<font color='green'> <h1> <center> Python - Input Statements </center> </h1> </font>"
   ]
  },
  {
   "cell_type": "markdown",
   "metadata": {},
   "source": [
    "<b>Python Inputs<b>"
   ]
  },
  {
   "cell_type": "markdown",
   "metadata": {},
   "source": [
    "The input function is a simple way to get data from user. Here is example :"
   ]
  },
  {
   "cell_type": "code",
   "execution_count": 2,
   "metadata": {},
   "outputs": [
    {
     "name": "stdout",
     "output_type": "stream",
     "text": [
      "What is your name?jon\n"
     ]
    },
    {
     "data": {
      "text/plain": [
       "'jon'"
      ]
     },
     "execution_count": 2,
     "metadata": {},
     "output_type": "execute_result"
    }
   ],
   "source": [
    "input('What is your name?')"
   ]
  },
  {
   "cell_type": "markdown",
   "metadata": {},
   "source": [
    "The string specified in the input fuction serves as message to the user about what needs to be keyed in. Whatever is entered \n",
    "by user is treated as string only. If number is entered by user, still it will be considered as string. For further processing \n",
    "it needs to be type casted to the appropriate data type."
   ]
  },
  {
   "cell_type": "code",
   "execution_count": 6,
   "metadata": {},
   "outputs": [
    {
     "name": "stdout",
     "output_type": "stream",
     "text": [
      "What is your age?34\n"
     ]
    },
    {
     "data": {
      "text/plain": [
       "'34'"
      ]
     },
     "execution_count": 6,
     "metadata": {},
     "output_type": "execute_result"
    }
   ],
   "source": [
    "input('What is your age?')"
   ]
  },
  {
   "cell_type": "markdown",
   "metadata": {},
   "source": [
    "The user input can be saved as part of variable. "
   ]
  },
  {
   "cell_type": "markdown",
   "metadata": {},
   "source": [
    "variable_name = input('message to the user')"
   ]
  },
  {
   "cell_type": "code",
   "execution_count": 3,
   "metadata": {},
   "outputs": [
    {
     "name": "stdout",
     "output_type": "stream",
     "text": [
      "What is your name?jon\n",
      "jon\n"
     ]
    }
   ],
   "source": [
    "name = input('What is your name?')\n",
    "print(name)"
   ]
  },
  {
   "cell_type": "code",
   "execution_count": 4,
   "metadata": {},
   "outputs": [
    {
     "name": "stdout",
     "output_type": "stream",
     "text": [
      "What is your name?jon\n",
      "Welcome jon\n"
     ]
    }
   ],
   "source": [
    "name = input('What is your name?')\n",
    "print(\"Welcome\", name)"
   ]
  },
  {
   "cell_type": "markdown",
   "metadata": {},
   "source": [
    "<b>Check type of input variable <b>\n"
   ]
  },
  {
   "cell_type": "code",
   "execution_count": 11,
   "metadata": {},
   "outputs": [
    {
     "data": {
      "text/plain": [
       "str"
      ]
     },
     "execution_count": 11,
     "metadata": {},
     "output_type": "execute_result"
    }
   ],
   "source": [
    "type(name)"
   ]
  },
  {
   "cell_type": "code",
   "execution_count": 16,
   "metadata": {},
   "outputs": [
    {
     "name": "stdout",
     "output_type": "stream",
     "text": [
      "What is your age?34\n",
      "You have entered age as  34\n",
      "Type :  <class 'str'>\n"
     ]
    }
   ],
   "source": [
    "age = input('What is your age?')\n",
    "print(\"You have entered age as \", age)\n",
    "print(\"Type : \" , type(age))"
   ]
  },
  {
   "cell_type": "markdown",
   "metadata": {},
   "source": [
    "<b> Convert type of input variable <b>"
   ]
  },
  {
   "cell_type": "code",
   "execution_count": 17,
   "metadata": {},
   "outputs": [
    {
     "name": "stdout",
     "output_type": "stream",
     "text": [
      "What is your age?23\n",
      "You have entered age as  23\n",
      "Type :  <class 'int'>\n"
     ]
    }
   ],
   "source": [
    "age = input('What is your age?')\n",
    "modified_age = int(age)\n",
    "print(\"You have entered age as \", modified_age)\n",
    "print(\"Type : \" , type(modified_age))"
   ]
  },
  {
   "cell_type": "code",
   "execution_count": 19,
   "metadata": {},
   "outputs": [
    {
     "name": "stdout",
     "output_type": "stream",
     "text": [
      "What is your salary?123.34\n",
      "You have entered salary as  123.34\n",
      "Type :  <class 'float'>\n"
     ]
    }
   ],
   "source": [
    "salary = input('What is your salary?')\n",
    "modified_salary = float(salary)\n",
    "print(\"You have entered salary as \", modified_salary)\n",
    "print(\"Type : \" , type(modified_salary))"
   ]
  },
  {
   "cell_type": "markdown",
   "metadata": {},
   "source": [
    "<b> Using eval <b>"
   ]
  },
  {
   "cell_type": "markdown",
   "metadata": {},
   "source": [
    "The eval function convertes the text entered by user into a number without explicity typecasting. "
   ]
  },
  {
   "cell_type": "code",
   "execution_count": 20,
   "metadata": {},
   "outputs": [
    {
     "name": "stdout",
     "output_type": "stream",
     "text": [
      "What is your age?\n",
      "12\n",
      "You have entered age as  12\n",
      "Type :  <class 'int'>\n"
     ]
    }
   ],
   "source": [
    "my_age = eval(input('What is your age?\\n'))\n",
    "print(\"You have entered age as \", my_age)\n",
    "print(\"Type : \" , type(my_age))"
   ]
  },
  {
   "cell_type": "code",
   "execution_count": 21,
   "metadata": {},
   "outputs": [
    {
     "name": "stdout",
     "output_type": "stream",
     "text": [
      "What is your salary?\n",
      "23.4\n",
      "You have entered salary as  23.4\n",
      "Type :  <class 'float'>\n"
     ]
    }
   ],
   "source": [
    "my_salary = eval(input('What is your salary?\\n'))\n",
    "print(\"You have entered salary as \", my_salary)\n",
    "print(\"Type : \" , type(my_salary))"
   ]
  },
  {
   "cell_type": "code",
   "execution_count": 23,
   "metadata": {},
   "outputs": [
    {
     "name": "stdout",
     "output_type": "stream",
     "text": [
      "Enter your marks\n",
      "23 + 34 + 45\n",
      "You have entered age as  102\n"
     ]
    }
   ],
   "source": [
    "my_total_marks = eval(input('Enter your marks\\n'))\n",
    "#Enter an expression like 23 + 34 + 45 \n",
    "print(\"You have entered age as \", my_total_marks)"
   ]
  },
  {
   "cell_type": "markdown",
   "metadata": {},
   "source": [
    "<b>Exercise <b>"
   ]
  },
  {
   "cell_type": "markdown",
   "metadata": {},
   "source": [
    "Q1. Ask the user to enter the number and then print its squares and cubes. "
   ]
  },
  {
   "cell_type": "code",
   "execution_count": 1,
   "metadata": {},
   "outputs": [
    {
     "name": "stdout",
     "output_type": "stream",
     "text": [
      "Input : 4, Square: 16, Cube: 64\n"
     ]
    }
   ],
   "source": [
    "#Try it here\n",
    "n = eval(input('Eneter a number: '))\n",
    "print(f'Input : {n}, Square: {n**2}, Cube: {n**3}')"
   ]
  },
  {
   "cell_type": "markdown",
   "metadata": {},
   "source": [
    "Q2. Write a program that asks user to input three numbers with separate input statements. Use the variable named total to store the sum of those numbers and avg to store the average of those nummbers.\n",
    "Then output the numbers along with the total and average. "
   ]
  },
  {
   "cell_type": "code",
   "execution_count": 3,
   "metadata": {},
   "outputs": [
    {
     "name": "stdout",
     "output_type": "stream",
     "text": [
      "Inputs: 1, 2, 3; Sum: 6, Average: 2.0\n"
     ]
    }
   ],
   "source": [
    "#Try it here\n",
    "n1 = eval(input('Eneter the 1st number: '))\n",
    "n2 = eval(input('Eneter the 2nd number: '))\n",
    "n3 = eval(input('Eneter the 3rd number: '))\n",
    "total = n1 + n2 + n3\n",
    "avg = total / 3\n",
    "print(f'Inputs: {n1}, {n2}, {n3}; Sum: {total}, Average: {avg}')"
   ]
  },
  {
   "cell_type": "markdown",
   "metadata": {},
   "source": [
    "Q3. Create a salary estimator. Ask user for the basic salary, using it compute HRA as 10% of basic salary, add conveyance allowance as Rs 3500 to it. \n",
    "Output all the salary components on the console."
   ]
  },
  {
   "cell_type": "code",
   "execution_count": 5,
   "metadata": {},
   "outputs": [
    {
     "name": "stdout",
     "output_type": "stream",
     "text": [
      "Basic Salary: 65000.00\n",
      "HRA: 6500.00\n",
      "Allowance: 3500.00\n",
      "CTC: 75000.00\n"
     ]
    }
   ],
   "source": [
    "#Try it here\n",
    "basic_salary = eval(input('Enter Basic salary: '))\n",
    "hra = basic_salary * 0.1\n",
    "allowance = 3500\n",
    "CTC = basic_salary + hra + allowance\n",
    "print(f'Basic Salary: {basic_salary:.2f}\\nHRA: {hra:.2f}\\nAllowance: {allowance:.2f}\\nCTC: {CTC:.2f}')"
   ]
  },
  {
   "cell_type": "code",
   "execution_count": null,
   "metadata": {},
   "outputs": [],
   "source": []
  }
 ],
 "metadata": {
  "kernelspec": {
   "display_name": "Python 3",
   "language": "python",
   "name": "python3"
  },
  "language_info": {
   "codemirror_mode": {
    "name": "ipython",
    "version": 3
   },
   "file_extension": ".py",
   "mimetype": "text/x-python",
   "name": "python",
   "nbconvert_exporter": "python",
   "pygments_lexer": "ipython3",
   "version": "3.11.2"
  }
 },
 "nbformat": 4,
 "nbformat_minor": 2
}
