{
 "cells": [
  {
   "cell_type": "code",
   "execution_count": 1,
   "id": "1b9f762e",
   "metadata": {},
   "outputs": [],
   "source": [
    "#Conditional Statements\n",
    "\n",
    "num1 = 5\n",
    "num2 = 6"
   ]
  },
  {
   "cell_type": "markdown",
   "id": "aab4b8ba",
   "metadata": {},
   "source": [
    "<img width=\"200\" height=\"200\" src=\"./ifstatement.jpg\" alt=\"If conditions flowchart\">"
   ]
  },
  {
   "cell_type": "markdown",
   "id": "308bc349",
   "metadata": {},
   "source": [
    "num1 == num2"
   ]
  },
  {
   "cell_type": "code",
   "execution_count": 3,
   "id": "6d71a067",
   "metadata": {},
   "outputs": [
    {
     "data": {
      "text/plain": [
       "True"
      ]
     },
     "execution_count": 3,
     "metadata": {},
     "output_type": "execute_result"
    }
   ],
   "source": [
    "num1 != num2"
   ]
  },
  {
   "cell_type": "code",
   "execution_count": 4,
   "id": "42450bf3",
   "metadata": {},
   "outputs": [
    {
     "data": {
      "text/plain": [
       "False"
      ]
     },
     "execution_count": 4,
     "metadata": {},
     "output_type": "execute_result"
    }
   ],
   "source": [
    "(num1 > 0) and (num1 > num2)"
   ]
  },
  {
   "cell_type": "code",
   "execution_count": 5,
   "id": "2b842c25",
   "metadata": {},
   "outputs": [
    {
     "data": {
      "text/plain": [
       "True"
      ]
     },
     "execution_count": 5,
     "metadata": {},
     "output_type": "execute_result"
    }
   ],
   "source": [
    "(num1 > 0) or (num1 > num2)"
   ]
  },
  {
   "cell_type": "code",
   "execution_count": 6,
   "id": "56ead8ad",
   "metadata": {},
   "outputs": [],
   "source": [
    "numbers = [1,2,3,4,5]"
   ]
  },
  {
   "cell_type": "code",
   "execution_count": 7,
   "id": "569ff00d",
   "metadata": {},
   "outputs": [
    {
     "data": {
      "text/plain": [
       "True"
      ]
     },
     "execution_count": 7,
     "metadata": {},
     "output_type": "execute_result"
    }
   ],
   "source": [
    "3 in numbers"
   ]
  },
  {
   "cell_type": "code",
   "execution_count": 8,
   "id": "73897ded",
   "metadata": {},
   "outputs": [
    {
     "data": {
      "text/plain": [
       "False"
      ]
     },
     "execution_count": 8,
     "metadata": {},
     "output_type": "execute_result"
    }
   ],
   "source": [
    "30 in numbers"
   ]
  },
  {
   "cell_type": "code",
   "execution_count": 10,
   "id": "c8959da0",
   "metadata": {},
   "outputs": [
    {
     "name": "stdout",
     "output_type": "stream",
     "text": [
      "The number is 5\n",
      "*************\n",
      "I am outside the condition\n"
     ]
    }
   ],
   "source": [
    "# simple if statements\n",
    "\n",
    "num = 5\n",
    "\n",
    "if (num == 5):\n",
    "    print(\"The number is 5\") # if cond block\n",
    "    print(\"*************\")\n",
    "print(\"I am outside the condition\") #outside the if vlock\n"
   ]
  },
  {
   "cell_type": "code",
   "execution_count": 12,
   "id": "10ce6641",
   "metadata": {},
   "outputs": [
    {
     "name": "stdout",
     "output_type": "stream",
     "text": [
      "Enter a number\n",
      "5\n",
      "The number is 5\n",
      "*************\n",
      "I am going to get executed always!!\n"
     ]
    }
   ],
   "source": [
    "#If examples \n",
    "\n",
    "number1 = int(input(\"Enter a number\\n\"))\n",
    "\n",
    "if(number1 == 5):\n",
    "    print(\"The number is 5\") # if cond block\n",
    "    print(\"*************\")\n",
    "\n",
    "print(\"I am going to get executed always!!\")"
   ]
  },
  {
   "cell_type": "code",
   "execution_count": 16,
   "id": "31b9d2c5",
   "metadata": {},
   "outputs": [
    {
     "name": "stdout",
     "output_type": "stream",
     "text": [
      "Enter a number\n",
      "10\n",
      "The number entered is greater than 5\n",
      "I am going to get executed always!!\n"
     ]
    }
   ],
   "source": [
    "number1 = int(input(\"Enter a number\\n\"))\n",
    "\n",
    "if number1 < 5: #condition\n",
    "    print(\"The number entered is less than 5\") # if cond block\n",
    "    print(\"*************\")\n",
    "else:\n",
    "    print(\"The number entered is greater than 5\") # else block\n",
    "\n",
    "print(\"I am going to get executed always!!\")"
   ]
  },
  {
   "cell_type": "code",
   "execution_count": 19,
   "id": "16cbf787",
   "metadata": {},
   "outputs": [
    {
     "name": "stdout",
     "output_type": "stream",
     "text": [
      "Enter a number\n",
      "7\n",
      "The number entered is greater than 5\n",
      "I am going to get executed always!!\n"
     ]
    }
   ],
   "source": [
    "number1 = int(input(\"Enter a number\\n\"))\n",
    "\n",
    "if number1 == 5: #condition\n",
    "    print(\"The number entered equal to 5\") # if cond block\n",
    "    print(\"*************\")\n",
    "elif number1 >5:\n",
    "    print(\"The number entered is greater than 5\") # elif block\n",
    "else:\n",
    "    print(\"Number is less than 5\")\n",
    "\n",
    "print(\"I am going to get executed always!!\")"
   ]
  },
  {
   "cell_type": "code",
   "execution_count": 26,
   "id": "a8f60187",
   "metadata": {},
   "outputs": [
    {
     "name": "stdout",
     "output_type": "stream",
     "text": [
      "Enter a mark: \n",
      " -1\n",
      "You have entered some invalid mark ...\n",
      "The above is your result\n"
     ]
    }
   ],
   "source": [
    "mark = int(input(\"Enter a mark: \\n \"))\n",
    "\n",
    "if mark >= 80 and mark <=100:\n",
    "    print(\"You got distinction ...\")\n",
    "    print(\"Congrats :) \")\n",
    "elif mark>=60 and mark <80:\n",
    "    print(\"You got first class ...\")\n",
    "    print(\"Congrats \")\n",
    "elif mark>=35 and mark <60:\n",
    "    print(\"You got second class...\")\n",
    "elif mark>=0 and mark<35:\n",
    "    print(\"You have failed :( \")\n",
    "else:\n",
    "    print(\"You have entered some invalid mark ...\")\n",
    "\n",
    "print(\"The above is your result\")"
   ]
  },
  {
   "cell_type": "code",
   "execution_count": null,
   "id": "679fb62e",
   "metadata": {},
   "outputs": [],
   "source": [
    "mark = int(input(\"Enter a mark: \\n \"))\n",
    "\n",
    "if mark >= 80 and mark <=100:\n",
    "    print(\"You got distinction ...\")\n",
    "    print(\"Congrats :) \")\n",
    "else:\n",
    "    if mark>=60 and mark <80:\n",
    "        print(\"You got first class ...\")\n",
    "        print(\"Congrats \")\n",
    "    elif mark>=35 and mark <60:\n",
    "        print(\"You got second class...\")\n",
    "    elif mark>=0 and mark<35:\n",
    "        print(\"You have failed :( \")\n",
    "    else:\n",
    "    print(\"You have entered some invalid mark ...\")\n",
    "\n",
    "print(\"The above is your result\")"
   ]
  },
  {
   "cell_type": "code",
   "execution_count": 31,
   "id": "8cdd3b8d",
   "metadata": {},
   "outputs": [
    {
     "name": "stdout",
     "output_type": "stream",
     "text": [
      "Enter a number:5\n"
     ]
    },
    {
     "ename": "TypeError",
     "evalue": "'>' not supported between instances of 'str' and 'int'",
     "output_type": "error",
     "traceback": [
      "\u001b[1;31m---------------------------------------------------------------------------\u001b[0m",
      "\u001b[1;31mTypeError\u001b[0m                                 Traceback (most recent call last)",
      "Cell \u001b[1;32mIn[31], line 3\u001b[0m\n\u001b[0;32m      1\u001b[0m num \u001b[38;5;241m=\u001b[39m \u001b[38;5;28minput\u001b[39m(\u001b[38;5;124m\"\u001b[39m\u001b[38;5;124mEnter a number:\u001b[39m\u001b[38;5;124m\"\u001b[39m)\n\u001b[1;32m----> 3\u001b[0m \u001b[38;5;28;01mif\u001b[39;00m(\u001b[43mnum\u001b[49m\u001b[43m \u001b[49m\u001b[38;5;241;43m>\u001b[39;49m\u001b[43m \u001b[49m\u001b[38;5;241;43m5\u001b[39;49m):\n\u001b[0;32m      4\u001b[0m     \u001b[38;5;28mprint\u001b[39m(\u001b[38;5;124m\"\u001b[39m\u001b[38;5;124mThe number is 5\u001b[39m\u001b[38;5;124m\"\u001b[39m) \u001b[38;5;66;03m# if cond block\u001b[39;00m\n\u001b[0;32m      5\u001b[0m     \u001b[38;5;28mprint\u001b[39m(\u001b[38;5;124m\"\u001b[39m\u001b[38;5;124m*************\u001b[39m\u001b[38;5;124m\"\u001b[39m)\n",
      "\u001b[1;31mTypeError\u001b[0m: '>' not supported between instances of 'str' and 'int'"
     ]
    }
   ],
   "source": [
    "num = input(\"Enter a number:\")\n",
    "\n",
    "if(num > 5):\n",
    "    print(\"The number is 5\") # if cond block\n",
    "    print(\"*************\")\n",
    "\n",
    "print(\"I am going to get executed always!!\")"
   ]
  },
  {
   "cell_type": "code",
   "execution_count": 32,
   "id": "d0fb2ebc",
   "metadata": {},
   "outputs": [
    {
     "name": "stdout",
     "output_type": "stream",
     "text": [
      "Enter a number:5\n",
      "Seems you have entered a string\n",
      "Outside the conditions\n"
     ]
    }
   ],
   "source": [
    "try:\n",
    "    number = input(\"Enter a number:\")\n",
    "    if(number > 5):\n",
    "        print(\"Num is greater than 5\")\n",
    "    else:\n",
    "        print(\"Num is not greater than 5\")\n",
    "except:\n",
    "    print(\"Seems you have entered a string\")\n",
    "    \n",
    "print(\"Outside the conditions\")"
   ]
  },
  {
   "cell_type": "code",
   "execution_count": 37,
   "id": "c828570e",
   "metadata": {},
   "outputs": [
    {
     "name": "stdout",
     "output_type": "stream",
     "text": [
      "Enter a number:hi\n",
      "Seems you have entered a string invalid literal for int() with base 10: 'hi'\n",
      "Outside the conditions\n"
     ]
    }
   ],
   "source": [
    "try:\n",
    "    number = int(input(\"Enter a number:\"))\n",
    "    if(number > 5):\n",
    "        print(\"Num is greater than 5\")\n",
    "    else:\n",
    "        print(\"Num is not greater than 5\")\n",
    "except Exception as e:\n",
    "    print(\"Seems you have entered a string\", e)\n",
    "finally:\n",
    "    print(\"Outside the conditions\")"
   ]
  },
  {
   "cell_type": "code",
   "execution_count": null,
   "id": "fb89cecf",
   "metadata": {},
   "outputs": [],
   "source": []
  }
 ],
 "metadata": {
  "kernelspec": {
   "display_name": "Python 3 (ipykernel)",
   "language": "python",
   "name": "python3"
  },
  "language_info": {
   "codemirror_mode": {
    "name": "ipython",
    "version": 3
   },
   "file_extension": ".py",
   "mimetype": "text/x-python",
   "name": "python",
   "nbconvert_exporter": "python",
   "pygments_lexer": "ipython3",
   "version": "3.10.9"
  }
 },
 "nbformat": 4,
 "nbformat_minor": 5
}
