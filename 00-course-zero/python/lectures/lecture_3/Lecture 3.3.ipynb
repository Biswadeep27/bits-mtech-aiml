{
 "cells": [
  {
   "cell_type": "markdown",
   "id": "2c3d2274",
   "metadata": {},
   "source": [
    "<b> Functions <b> "
   ]
  },
  {
   "cell_type": "code",
   "execution_count": 1,
   "id": "86f7c00b",
   "metadata": {},
   "outputs": [
    {
     "data": {
      "text/plain": [
       "float"
      ]
     },
     "execution_count": 1,
     "metadata": {},
     "output_type": "execute_result"
    }
   ],
   "source": [
    "type(4.5)"
   ]
  },
  {
   "cell_type": "code",
   "execution_count": 2,
   "id": "1f6ce957",
   "metadata": {},
   "outputs": [
    {
     "name": "stdout",
     "output_type": "stream",
     "text": [
      "hello\n"
     ]
    }
   ],
   "source": [
    "print(\"hello\")"
   ]
  },
  {
   "cell_type": "markdown",
   "id": "6d5a8865",
   "metadata": {},
   "source": [
    "<b> Function defintion <b> "
   ]
  },
  {
   "cell_type": "code",
   "execution_count": 3,
   "id": "513e7740",
   "metadata": {},
   "outputs": [],
   "source": [
    "def compute_Average(numbers):\n",
    "    #count the number of ele\n",
    "    count = len(numbers)\n",
    "    \n",
    "    #initialie total\n",
    "    total = 0 \n",
    "    \n",
    "    #for each number in list, add ele to the total\n",
    "    \n",
    "    for number in numbers:\n",
    "        total = total + number\n",
    "        \n",
    "    #average computation\n",
    "    avg = total / count\n",
    "    \n",
    "    #return the answer\n",
    "    return avg"
   ]
  },
  {
   "cell_type": "code",
   "execution_count": 4,
   "id": "d958b873",
   "metadata": {},
   "outputs": [
    {
     "data": {
      "text/plain": [
       "3.0"
      ]
     },
     "execution_count": 4,
     "metadata": {},
     "output_type": "execute_result"
    }
   ],
   "source": [
    "compute_Average([2,3,4]) "
   ]
  },
  {
   "cell_type": "code",
   "execution_count": 5,
   "id": "fb3f0a62",
   "metadata": {},
   "outputs": [
    {
     "data": {
      "text/plain": [
       "9.666666666666666"
      ]
     },
     "execution_count": 5,
     "metadata": {},
     "output_type": "execute_result"
    }
   ],
   "source": [
    "compute_Average([12,13,4]) "
   ]
  },
  {
   "cell_type": "code",
   "execution_count": 8,
   "id": "244b9bb3",
   "metadata": {},
   "outputs": [
    {
     "ename": "TypeError",
     "evalue": "unsupported operand type(s) for +: 'int' and 'str'",
     "output_type": "error",
     "traceback": [
      "\u001b[1;31m---------------------------------------------------------------------------\u001b[0m",
      "\u001b[1;31mTypeError\u001b[0m                                 Traceback (most recent call last)",
      "Cell \u001b[1;32mIn[8], line 2\u001b[0m\n\u001b[0;32m      1\u001b[0m list1 \u001b[38;5;241m=\u001b[39m [\u001b[38;5;241m10\u001b[39m,\u001b[38;5;241m20\u001b[39m,\u001b[38;5;241m30\u001b[39m, \u001b[38;5;124m'\u001b[39m\u001b[38;5;124ma\u001b[39m\u001b[38;5;124m'\u001b[39m]\n\u001b[1;32m----> 2\u001b[0m avg_answer \u001b[38;5;241m=\u001b[39m \u001b[43mcompute_Average\u001b[49m\u001b[43m(\u001b[49m\u001b[43mlist1\u001b[49m\u001b[43m)\u001b[49m\n",
      "Cell \u001b[1;32mIn[3], line 11\u001b[0m, in \u001b[0;36mcompute_Average\u001b[1;34m(numbers)\u001b[0m\n\u001b[0;32m      8\u001b[0m \u001b[38;5;66;03m#for each number in list, add ele to the total\u001b[39;00m\n\u001b[0;32m     10\u001b[0m \u001b[38;5;28;01mfor\u001b[39;00m number \u001b[38;5;129;01min\u001b[39;00m numbers:\n\u001b[1;32m---> 11\u001b[0m     total \u001b[38;5;241m=\u001b[39m \u001b[43mtotal\u001b[49m\u001b[43m \u001b[49m\u001b[38;5;241;43m+\u001b[39;49m\u001b[43m \u001b[49m\u001b[43mnumber\u001b[49m\n\u001b[0;32m     13\u001b[0m \u001b[38;5;66;03m#average computation\u001b[39;00m\n\u001b[0;32m     14\u001b[0m avg \u001b[38;5;241m=\u001b[39m total \u001b[38;5;241m/\u001b[39m count\n",
      "\u001b[1;31mTypeError\u001b[0m: unsupported operand type(s) for +: 'int' and 'str'"
     ]
    }
   ],
   "source": [
    "list1 = [10,20,30, 'a']\n",
    "avg_answer = compute_Average(list1)"
   ]
  },
  {
   "cell_type": "code",
   "execution_count": null,
   "id": "2571d434",
   "metadata": {},
   "outputs": [],
   "source": [
    "avg_answer\n"
   ]
  },
  {
   "cell_type": "code",
   "execution_count": 9,
   "id": "770a8476",
   "metadata": {},
   "outputs": [],
   "source": [
    "# (1) function without input and without any return\n",
    "\n",
    "def print_notice():\n",
    "    print(\"*******************************\")\n",
    "    print(\"End Term Timetable\")\n",
    "    print(\"*******************************\")"
   ]
  },
  {
   "cell_type": "code",
   "execution_count": 10,
   "id": "37d2ae86",
   "metadata": {},
   "outputs": [
    {
     "name": "stdout",
     "output_type": "stream",
     "text": [
      "*******************************\n",
      "End Term Timetable\n",
      "*******************************\n"
     ]
    }
   ],
   "source": [
    "print_notice()"
   ]
  },
  {
   "cell_type": "code",
   "execution_count": 11,
   "id": "ff0a0ea1",
   "metadata": {},
   "outputs": [],
   "source": [
    "# (2) function with input and without any return\n",
    "\n",
    "def compute_Average_withoutReturn(numbers):\n",
    "    #count the number of ele\n",
    "    count = len(numbers)\n",
    "    \n",
    "    #initialie total\n",
    "    total = 0 \n",
    "    \n",
    "    #for each number in list, add ele to the total\n",
    "    \n",
    "    for number in numbers:\n",
    "        total = total + number\n",
    "        \n",
    "    #average computation\n",
    "    avg = total / count\n",
    "    \n",
    "    #print the answer\n",
    "    print(\"Average is\", avg) "
   ]
  },
  {
   "cell_type": "code",
   "execution_count": 12,
   "id": "2ba50781",
   "metadata": {},
   "outputs": [
    {
     "name": "stdout",
     "output_type": "stream",
     "text": [
      "Average is 20.0\n"
     ]
    }
   ],
   "source": [
    "compute_Average_withoutReturn([10,20,30])"
   ]
  },
  {
   "cell_type": "code",
   "execution_count": 21,
   "id": "04f653c1",
   "metadata": {},
   "outputs": [],
   "source": [
    "#Arguments and parameters\n",
    "\n",
    "def find_minimum(numbers): #numbers --> used in function def is called as parameters \n",
    "    min_value = numbers[0]\n",
    "    \n",
    "    for n in numbers:\n",
    "        if n < min_value:\n",
    "            min_value = n\n",
    "            \n",
    "    return min_value, numbers"
   ]
  },
  {
   "cell_type": "code",
   "execution_count": 22,
   "id": "dfb7aa7e",
   "metadata": {},
   "outputs": [
    {
     "name": "stdout",
     "output_type": "stream",
     "text": [
      "Minimum value is 1\n"
     ]
    }
   ],
   "source": [
    "numbers_list = [3,2,4,1,5,9,10] \n",
    "print(\"Minimum value is\", find_minimum(numbers_list)) #numbers_list --> used in the function call is called argument"
   ]
  },
  {
   "cell_type": "markdown",
   "id": "a4c48ccf",
   "metadata": {},
   "source": [
    "<b> File Handling <b> "
   ]
  },
  {
   "cell_type": "markdown",
   "id": "2c76d681",
   "metadata": {},
   "source": [
    "<b> Opening a file </b>"
   ]
  },
  {
   "cell_type": "code",
   "execution_count": 26,
   "id": "144a47cc",
   "metadata": {},
   "outputs": [],
   "source": [
    "f = open(\"dummy_file.txt\")"
   ]
  },
  {
   "cell_type": "code",
   "execution_count": 28,
   "id": "01e2a035",
   "metadata": {},
   "outputs": [
    {
     "name": "stdout",
     "output_type": "stream",
     "text": [
      "\n",
      "Type of contents is  <class 'str'>\n"
     ]
    }
   ],
   "source": [
    "contents = f.read()\n",
    "print(contents)\n",
    "print(\"Type of contents is \", type(contents))"
   ]
  },
  {
   "cell_type": "code",
   "execution_count": 25,
   "id": "225c0cf1",
   "metadata": {},
   "outputs": [],
   "source": [
    "f.close()"
   ]
  },
  {
   "cell_type": "code",
   "execution_count": 29,
   "id": "0c71782f",
   "metadata": {},
   "outputs": [],
   "source": [
    "fout = open(\"my_file.txt\", \"a\")\n",
    "print(\"This is first line\", file=fout)\n",
    "print(\"This is second line\", file=fout)\n",
    "print(\"This is third line\", file=fout)\n",
    "print(\"This is last line\", file=fout)\n",
    "fout.close()"
   ]
  },
  {
   "cell_type": "code",
   "execution_count": 30,
   "id": "a5d5b0c8",
   "metadata": {},
   "outputs": [
    {
     "name": "stdout",
     "output_type": "stream",
     "text": [
      "This is first line\n",
      "This is second line\n",
      "This is third line\n",
      "This is last line\n",
      "\n"
     ]
    }
   ],
   "source": [
    "f = open(\"my_file.txt\")\n",
    "print(f.read())"
   ]
  },
  {
   "cell_type": "code",
   "execution_count": null,
   "id": "df2387f4",
   "metadata": {},
   "outputs": [],
   "source": []
  },
  {
   "cell_type": "code",
   "execution_count": null,
   "id": "88d928ea",
   "metadata": {},
   "outputs": [],
   "source": []
  },
  {
   "cell_type": "code",
   "execution_count": null,
   "id": "b400af10",
   "metadata": {},
   "outputs": [],
   "source": []
  }
 ],
 "metadata": {
  "kernelspec": {
   "display_name": "Python 3 (ipykernel)",
   "language": "python",
   "name": "python3"
  },
  "language_info": {
   "codemirror_mode": {
    "name": "ipython",
    "version": 3
   },
   "file_extension": ".py",
   "mimetype": "text/x-python",
   "name": "python",
   "nbconvert_exporter": "python",
   "pygments_lexer": "ipython3",
   "version": "3.10.9"
  }
 },
 "nbformat": 4,
 "nbformat_minor": 5
}
