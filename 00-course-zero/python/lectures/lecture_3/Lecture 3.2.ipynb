{
 "cells": [
  {
   "cell_type": "markdown",
   "id": "59ea0cff",
   "metadata": {},
   "source": [
    "<b> Iterative Executions <b>"
   ]
  },
  {
   "cell_type": "markdown",
   "id": "454d1d53",
   "metadata": {},
   "source": [
    "- while loop\n",
    "- For loop "
   ]
  },
  {
   "cell_type": "code",
   "execution_count": 1,
   "id": "9649b5ef",
   "metadata": {},
   "outputs": [
    {
     "name": "stdout",
     "output_type": "stream",
     "text": [
      "0\n",
      "1\n",
      "2\n",
      "3\n",
      "4\n",
      "I am outside the while block\n"
     ]
    }
   ],
   "source": [
    "i = 0 #iteration variable\n",
    "\n",
    "while i < 5:\n",
    "    print(i) # while body stmt 1\n",
    "    i = i + 1 # while body stmt 2\n",
    "\n",
    "print('I am outside the while block')"
   ]
  },
  {
   "cell_type": "code",
   "execution_count": 2,
   "id": "5c885b5b",
   "metadata": {},
   "outputs": [
    {
     "name": "stdout",
     "output_type": "stream",
     "text": [
      "Total number of students : 6\n",
      "Total marks:  236\n",
      "Average:  39.333333333333336\n"
     ]
    }
   ],
   "source": [
    "mark_list = [10, 45, 23, 56, 72, 30]\n",
    "\n",
    "total_marks = 0 #total marks obtained by all students \n",
    "student_count = len(mark_list) #number of students\n",
    "\n",
    "print(\"Total number of students :\", student_count)\n",
    "\n",
    "index = 0 \n",
    "\n",
    "while index < student_count:\n",
    "    #do the summation\n",
    "    total_marks = total_marks + mark_list[index]\n",
    "    index = index + 1\n",
    "\n",
    "print(\"Total marks: \", total_marks)\n",
    "\n",
    "avg = total_marks/student_count\n",
    "\n",
    "print(\"Average: \", avg)"
   ]
  },
  {
   "cell_type": "code",
   "execution_count": 3,
   "id": "e8987a68",
   "metadata": {},
   "outputs": [],
   "source": [
    "# break and continue"
   ]
  },
  {
   "cell_type": "code",
   "execution_count": 4,
   "id": "16bc76d9",
   "metadata": {},
   "outputs": [
    {
     "name": "stdout",
     "output_type": "stream",
     "text": [
      "i= 1\n",
      "i= 2\n",
      "i= 3\n",
      "i= 4\n",
      "I am outside!\n"
     ]
    }
   ],
   "source": [
    "i = 0\n",
    "while i < 10:\n",
    "    i=i+1\n",
    "    if i == 5:\n",
    "        break\n",
    "    print(\"i=\", i)\n",
    "print(\"I am outside!\")"
   ]
  },
  {
   "cell_type": "code",
   "execution_count": 6,
   "id": "09c02fa6",
   "metadata": {},
   "outputs": [
    {
     "name": "stdout",
     "output_type": "stream",
     "text": [
      "P\n",
      "y\n",
      "t\n",
      "h\n",
      "o\n",
      "n\n"
     ]
    }
   ],
   "source": [
    "for ch in \"Python\":\n",
    "    print(ch)"
   ]
  },
  {
   "cell_type": "code",
   "execution_count": 5,
   "id": "a0eb1e4e",
   "metadata": {},
   "outputs": [
    {
     "name": "stdout",
     "output_type": "stream",
     "text": [
      "P\n",
      "y\n",
      "t\n",
      "h\n",
      "n\n"
     ]
    }
   ],
   "source": [
    "for ch in \"Python\":\n",
    "    if ch == 'o':\n",
    "        continue\n",
    "    print(ch)"
   ]
  },
  {
   "cell_type": "code",
   "execution_count": 7,
   "id": "7c0179e2",
   "metadata": {},
   "outputs": [
    {
     "name": "stdout",
     "output_type": "stream",
     "text": [
      "P\n",
      "y\n",
      "t\n",
      "h\n"
     ]
    }
   ],
   "source": [
    "for ch in \"Python\":\n",
    "    if ch == 'o':\n",
    "        break\n",
    "    print(ch)"
   ]
  },
  {
   "cell_type": "code",
   "execution_count": 8,
   "id": "11120942",
   "metadata": {},
   "outputs": [],
   "source": [
    "# for loop - range(start,stop,step)"
   ]
  },
  {
   "cell_type": "code",
   "execution_count": 9,
   "id": "4e054cf8",
   "metadata": {},
   "outputs": [
    {
     "name": "stdout",
     "output_type": "stream",
     "text": [
      "i =  0\n",
      "i =  1\n",
      "i =  2\n"
     ]
    }
   ],
   "source": [
    "for i in range(3):\n",
    "    print(\"i = \", i)"
   ]
  },
  {
   "cell_type": "code",
   "execution_count": 10,
   "id": "35e9d4c5",
   "metadata": {},
   "outputs": [
    {
     "name": "stdout",
     "output_type": "stream",
     "text": [
      "i =  5\n",
      "i =  6\n",
      "i =  7\n"
     ]
    }
   ],
   "source": [
    "for i in range(5,8):\n",
    "    print(\"i = \", i)"
   ]
  },
  {
   "cell_type": "code",
   "execution_count": 11,
   "id": "5acb8c20",
   "metadata": {},
   "outputs": [
    {
     "name": "stdout",
     "output_type": "stream",
     "text": [
      "i =  5\n",
      "i =  7\n",
      "i =  9\n"
     ]
    }
   ],
   "source": [
    "for i in range(5,10,2):\n",
    "    print(\"i = \", i)"
   ]
  },
  {
   "cell_type": "code",
   "execution_count": 12,
   "id": "9b7b1078",
   "metadata": {},
   "outputs": [
    {
     "name": "stdout",
     "output_type": "stream",
     "text": [
      "10\n",
      "20\n",
      "34\n",
      "58\n",
      "91\n"
     ]
    }
   ],
   "source": [
    "list = [10,20, 34, 58, 91]\n",
    "\n",
    "for i in list:\n",
    "    print(i)"
   ]
  },
  {
   "cell_type": "code",
   "execution_count": 13,
   "id": "23f696cf",
   "metadata": {},
   "outputs": [
    {
     "name": "stdout",
     "output_type": "stream",
     "text": [
      "10\n",
      "a\n",
      "34\n",
      "True\n",
      "91\n"
     ]
    }
   ],
   "source": [
    "list = [10,'a', 34, True, 91]\n",
    "\n",
    "for i in list:\n",
    "    print(i)"
   ]
  },
  {
   "cell_type": "code",
   "execution_count": null,
   "id": "faa0989d",
   "metadata": {},
   "outputs": [],
   "source": []
  }
 ],
 "metadata": {
  "kernelspec": {
   "display_name": "Python 3 (ipykernel)",
   "language": "python",
   "name": "python3"
  },
  "language_info": {
   "codemirror_mode": {
    "name": "ipython",
    "version": 3
   },
   "file_extension": ".py",
   "mimetype": "text/x-python",
   "name": "python",
   "nbconvert_exporter": "python",
   "pygments_lexer": "ipython3",
   "version": "3.10.9"
  }
 },
 "nbformat": 4,
 "nbformat_minor": 5
}
